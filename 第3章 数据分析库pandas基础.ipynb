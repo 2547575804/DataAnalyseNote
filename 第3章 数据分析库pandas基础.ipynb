{
 "cells": [
  {
   "cell_type": "markdown",
   "id": "bac22ba7",
   "metadata": {},
   "source": [
    "3.1 数据结构"
   ]
  },
  {
   "cell_type": "markdown",
   "id": "d5efbf5a",
   "metadata": {},
   "source": [
    "3.1.1Series"
   ]
  },
  {
   "cell_type": "markdown",
   "id": "2fb051e3",
   "metadata": {},
   "source": [
    "Series(data = None, index = None, dtype = None, name = None, copy = False, fastpath = False)"
   ]
  },
  {
   "cell_type": "code",
   "execution_count": 330,
   "id": "54875add",
   "metadata": {},
   "outputs": [],
   "source": [
    "import pandas as pd"
   ]
  },
  {
   "cell_type": "code",
   "execution_count": 331,
   "id": "3b433bab",
   "metadata": {},
   "outputs": [
    {
     "data": {
      "text/plain": [
       "0        Python\n",
       "1             C\n",
       "2          Java\n",
       "3    JavaScript\n",
       "4           PHP\n",
       "5             R\n",
       "dtype: object"
      ]
     },
     "execution_count": 331,
     "metadata": {},
     "output_type": "execute_result"
    }
   ],
   "source": [
    "ser_obj = pd.Series(data = ['Python', 'C', 'Java', 'JavaScript', 'PHP', 'R'])\n",
    "ser_obj"
   ]
  },
  {
   "cell_type": "code",
   "execution_count": 332,
   "id": "903fba79",
   "metadata": {},
   "outputs": [
    {
     "data": {
      "text/plain": [
       "a        Python\n",
       "b             C\n",
       "c          Java\n",
       "d    JavaScript\n",
       "e           PHP\n",
       "f             R\n",
       "dtype: object"
      ]
     },
     "execution_count": 332,
     "metadata": {},
     "output_type": "execute_result"
    }
   ],
   "source": [
    "# 显式给数据指定标签索引\n",
    "ser_obj = pd.Series(data = ['Python', 'C', 'Java', 'JavaScript', 'PHP', 'R'], index = ['a', 'b', 'c', 'd', 'e', 'f'])\n",
    "ser_obj"
   ]
  },
  {
   "cell_type": "code",
   "execution_count": 333,
   "id": "0c7e71c8",
   "metadata": {},
   "outputs": [
    {
     "data": {
      "text/plain": [
       "a    2022\n",
       "b    2023\n",
       "c    2024\n",
       "d    2025\n",
       "e    2026\n",
       "f    2027\n",
       "dtype: int64"
      ]
     },
     "execution_count": 333,
     "metadata": {},
     "output_type": "execute_result"
    }
   ],
   "source": [
    "# 除通过列表创建外，还可以通过字典创建\n",
    "year_dict = {'a':2022, 'b':2023, 'c':2024, 'd':2025, 'e':2026, 'f':2027}\n",
    "ser_obj = pd.Series(data = year_dict)\n",
    "ser_obj"
   ]
  },
  {
   "cell_type": "code",
   "execution_count": 334,
   "id": "25bb244a",
   "metadata": {},
   "outputs": [
    {
     "data": {
      "text/plain": [
       "Index(['a', 'b', 'c', 'd', 'e', 'f'], dtype='object')"
      ]
     },
     "execution_count": 334,
     "metadata": {},
     "output_type": "execute_result"
    }
   ],
   "source": [
    "ser_obj.index # 获取索引"
   ]
  },
  {
   "cell_type": "code",
   "execution_count": 335,
   "id": "57a55c37",
   "metadata": {},
   "outputs": [
    {
     "data": {
      "text/plain": [
       "array([2022, 2023, 2024, 2025, 2026, 2027], dtype=int64)"
      ]
     },
     "execution_count": 335,
     "metadata": {},
     "output_type": "execute_result"
    }
   ],
   "source": [
    "ser_obj.values # 获取数据"
   ]
  },
  {
   "cell_type": "markdown",
   "id": "4526df35",
   "metadata": {},
   "source": [
    "3.1.2DataFrame"
   ]
  },
  {
   "cell_type": "code",
   "execution_count": 336,
   "id": "d4182f4d",
   "metadata": {},
   "outputs": [],
   "source": [
    "import numpy as np\n",
    "import pandas as pd"
   ]
  },
  {
   "cell_type": "code",
   "execution_count": 337,
   "id": "651d79f2",
   "metadata": {},
   "outputs": [
    {
     "data": {
      "text/html": [
       "<div>\n",
       "<style scoped>\n",
       "    .dataframe tbody tr th:only-of-type {\n",
       "        vertical-align: middle;\n",
       "    }\n",
       "\n",
       "    .dataframe tbody tr th {\n",
       "        vertical-align: top;\n",
       "    }\n",
       "\n",
       "    .dataframe thead th {\n",
       "        text-align: right;\n",
       "    }\n",
       "</style>\n",
       "<table border=\"1\" class=\"dataframe\">\n",
       "  <thead>\n",
       "    <tr style=\"text-align: right;\">\n",
       "      <th></th>\n",
       "      <th>0</th>\n",
       "      <th>1</th>\n",
       "      <th>2</th>\n",
       "      <th>3</th>\n",
       "      <th>4</th>\n",
       "    </tr>\n",
       "  </thead>\n",
       "  <tbody>\n",
       "    <tr>\n",
       "      <th>0</th>\n",
       "      <td>1</td>\n",
       "      <td>2</td>\n",
       "      <td>3</td>\n",
       "      <td>4</td>\n",
       "      <td>5</td>\n",
       "    </tr>\n",
       "    <tr>\n",
       "      <th>1</th>\n",
       "      <td>6</td>\n",
       "      <td>7</td>\n",
       "      <td>8</td>\n",
       "      <td>9</td>\n",
       "      <td>10</td>\n",
       "    </tr>\n",
       "    <tr>\n",
       "      <th>2</th>\n",
       "      <td>11</td>\n",
       "      <td>12</td>\n",
       "      <td>13</td>\n",
       "      <td>14</td>\n",
       "      <td>15</td>\n",
       "    </tr>\n",
       "    <tr>\n",
       "      <th>3</th>\n",
       "      <td>16</td>\n",
       "      <td>17</td>\n",
       "      <td>18</td>\n",
       "      <td>19</td>\n",
       "      <td>20</td>\n",
       "    </tr>\n",
       "    <tr>\n",
       "      <th>4</th>\n",
       "      <td>21</td>\n",
       "      <td>22</td>\n",
       "      <td>23</td>\n",
       "      <td>24</td>\n",
       "      <td>25</td>\n",
       "    </tr>\n",
       "    <tr>\n",
       "      <th>5</th>\n",
       "      <td>26</td>\n",
       "      <td>27</td>\n",
       "      <td>28</td>\n",
       "      <td>29</td>\n",
       "      <td>30</td>\n",
       "    </tr>\n",
       "  </tbody>\n",
       "</table>\n",
       "</div>"
      ],
      "text/plain": [
       "    0   1   2   3   4\n",
       "0   1   2   3   4   5\n",
       "1   6   7   8   9  10\n",
       "2  11  12  13  14  15\n",
       "3  16  17  18  19  20\n",
       "4  21  22  23  24  25\n",
       "5  26  27  28  29  30"
      ]
     },
     "execution_count": 337,
     "metadata": {},
     "output_type": "execute_result"
    }
   ],
   "source": [
    "arr_2d = np.arange(1, 31).reshape((6, 5)) # 创建二维数组\n",
    "df_obj = pd.DataFrame(data = arr_2d)\n",
    "df_obj"
   ]
  },
  {
   "cell_type": "code",
   "execution_count": 338,
   "id": "d9639764",
   "metadata": {},
   "outputs": [
    {
     "data": {
      "text/html": [
       "<div>\n",
       "<style scoped>\n",
       "    .dataframe tbody tr th:only-of-type {\n",
       "        vertical-align: middle;\n",
       "    }\n",
       "\n",
       "    .dataframe tbody tr th {\n",
       "        vertical-align: top;\n",
       "    }\n",
       "\n",
       "    .dataframe thead th {\n",
       "        text-align: right;\n",
       "    }\n",
       "</style>\n",
       "<table border=\"1\" class=\"dataframe\">\n",
       "  <thead>\n",
       "    <tr style=\"text-align: right;\">\n",
       "      <th></th>\n",
       "      <th>No1</th>\n",
       "      <th>No2</th>\n",
       "      <th>No3</th>\n",
       "      <th>No4</th>\n",
       "      <th>No5</th>\n",
       "    </tr>\n",
       "  </thead>\n",
       "  <tbody>\n",
       "    <tr>\n",
       "      <th>0</th>\n",
       "      <td>1</td>\n",
       "      <td>2</td>\n",
       "      <td>3</td>\n",
       "      <td>4</td>\n",
       "      <td>5</td>\n",
       "    </tr>\n",
       "    <tr>\n",
       "      <th>1</th>\n",
       "      <td>6</td>\n",
       "      <td>7</td>\n",
       "      <td>8</td>\n",
       "      <td>9</td>\n",
       "      <td>10</td>\n",
       "    </tr>\n",
       "    <tr>\n",
       "      <th>2</th>\n",
       "      <td>11</td>\n",
       "      <td>12</td>\n",
       "      <td>13</td>\n",
       "      <td>14</td>\n",
       "      <td>15</td>\n",
       "    </tr>\n",
       "    <tr>\n",
       "      <th>3</th>\n",
       "      <td>16</td>\n",
       "      <td>17</td>\n",
       "      <td>18</td>\n",
       "      <td>19</td>\n",
       "      <td>20</td>\n",
       "    </tr>\n",
       "    <tr>\n",
       "      <th>4</th>\n",
       "      <td>21</td>\n",
       "      <td>22</td>\n",
       "      <td>23</td>\n",
       "      <td>24</td>\n",
       "      <td>25</td>\n",
       "    </tr>\n",
       "    <tr>\n",
       "      <th>5</th>\n",
       "      <td>26</td>\n",
       "      <td>27</td>\n",
       "      <td>28</td>\n",
       "      <td>29</td>\n",
       "      <td>30</td>\n",
       "    </tr>\n",
       "  </tbody>\n",
       "</table>\n",
       "</div>"
      ],
      "text/plain": [
       "   No1  No2  No3  No4  No5\n",
       "0    1    2    3    4    5\n",
       "1    6    7    8    9   10\n",
       "2   11   12   13   14   15\n",
       "3   16   17   18   19   20\n",
       "4   21   22   23   24   25\n",
       "5   26   27   28   29   30"
      ]
     },
     "execution_count": 338,
     "metadata": {},
     "output_type": "execute_result"
    }
   ],
   "source": [
    "# 创建并指定列索引\n",
    "df_obj = pd.DataFrame(data = arr_2d, columns = ['No1', 'No2', 'No3', 'No4', 'No5'])\n",
    "df_obj"
   ]
  },
  {
   "cell_type": "code",
   "execution_count": 339,
   "id": "314e7b64",
   "metadata": {},
   "outputs": [
    {
     "data": {
      "text/plain": [
       "0     2\n",
       "1     7\n",
       "2    12\n",
       "3    17\n",
       "4    22\n",
       "5    27\n",
       "Name: No2, dtype: int32"
      ]
     },
     "execution_count": 339,
     "metadata": {},
     "output_type": "execute_result"
    }
   ],
   "source": [
    "result = df_obj.No2\n",
    "result"
   ]
  },
  {
   "cell_type": "code",
   "execution_count": 340,
   "id": "06431508",
   "metadata": {},
   "outputs": [
    {
     "data": {
      "text/plain": [
       "pandas.core.series.Series"
      ]
     },
     "execution_count": 340,
     "metadata": {},
     "output_type": "execute_result"
    }
   ],
   "source": [
    "type(result) # 查看类型"
   ]
  },
  {
   "cell_type": "code",
   "execution_count": 341,
   "id": "003f8290",
   "metadata": {},
   "outputs": [
    {
     "name": "stdout",
     "output_type": "stream",
     "text": [
      "<class 'pandas.core.frame.DataFrame'>\n",
      "RangeIndex: 6 entries, 0 to 5\n",
      "Data columns (total 5 columns):\n",
      " #   Column  Non-Null Count  Dtype\n",
      "---  ------  --------------  -----\n",
      " 0   No1     6 non-null      int32\n",
      " 1   No2     6 non-null      int32\n",
      " 2   No3     6 non-null      int32\n",
      " 3   No4     6 non-null      int32\n",
      " 4   No5     6 non-null      int32\n",
      "dtypes: int32(5)\n",
      "memory usage: 252.0 bytes\n"
     ]
    }
   ],
   "source": [
    "df_obj.info() # 查看df_obj对象的摘要信息"
   ]
  },
  {
   "cell_type": "markdown",
   "id": "22b8f059",
   "metadata": {},
   "source": [
    "3.2索引和切片操作"
   ]
  },
  {
   "cell_type": "markdown",
   "id": "f5a25e1a",
   "metadata": {},
   "source": [
    "3.2.1索引对象"
   ]
  },
  {
   "cell_type": "markdown",
   "id": "64ef86c1",
   "metadata": {},
   "source": [
    "1.不可变性"
   ]
  },
  {
   "cell_type": "code",
   "execution_count": 342,
   "id": "dac736b1",
   "metadata": {},
   "outputs": [
    {
     "data": {
      "text/plain": [
       "Index(['a', 'b', 'c', 'd', 'e'], dtype='object')"
      ]
     },
     "execution_count": 342,
     "metadata": {},
     "output_type": "execute_result"
    }
   ],
   "source": [
    "ser_obj = pd.Series(range(5), index = ['a', 'b', 'c', 'd', 'e'])\n",
    "ser_index = ser_obj.index\n",
    "ser_index"
   ]
  },
  {
   "cell_type": "code",
   "execution_count": 343,
   "id": "d1ce39d6",
   "metadata": {},
   "outputs": [
    {
     "data": {
      "text/plain": [
       "'c'"
      ]
     },
     "execution_count": 343,
     "metadata": {},
     "output_type": "execute_result"
    }
   ],
   "source": [
    "ser_index[2]"
   ]
  },
  {
   "cell_type": "code",
   "execution_count": 344,
   "id": "140e9735",
   "metadata": {},
   "outputs": [],
   "source": [
    "# ser_index['2'] = 'cc'"
   ]
  },
  {
   "cell_type": "markdown",
   "id": "cc4d9799",
   "metadata": {},
   "source": [
    "2.可重复性"
   ]
  },
  {
   "cell_type": "code",
   "execution_count": 345,
   "id": "693244f6",
   "metadata": {},
   "outputs": [
    {
     "data": {
      "text/plain": [
       "Index(['a', 'a', 'c', 'd', 'e'], dtype='object')"
      ]
     },
     "execution_count": 345,
     "metadata": {},
     "output_type": "execute_result"
    }
   ],
   "source": [
    "ser_obj = pd.Series(range(5), index = ['a', 'a', 'c', 'd', 'e'])\n",
    "ser_index = ser_obj.index\n",
    "ser_index"
   ]
  },
  {
   "cell_type": "code",
   "execution_count": 346,
   "id": "9dbd1da0",
   "metadata": {},
   "outputs": [
    {
     "data": {
      "text/plain": [
       "False"
      ]
     },
     "execution_count": 346,
     "metadata": {},
     "output_type": "execute_result"
    }
   ],
   "source": [
    "ser_index.is_unique # 判断索引的值是否是唯一的"
   ]
  },
  {
   "cell_type": "markdown",
   "id": "f585c276",
   "metadata": {},
   "source": [
    "3.2.2重置索引"
   ]
  },
  {
   "cell_type": "markdown",
   "id": "752e221a",
   "metadata": {},
   "source": [
    "reindex(label = None, index = None, column = None, axis = None, method = None, copy = None, level = None, fill_value = nan, limit = None, tolerance = None)"
   ]
  },
  {
   "cell_type": "code",
   "execution_count": 347,
   "id": "ba134a8d",
   "metadata": {},
   "outputs": [
    {
     "data": {
      "text/html": [
       "<div>\n",
       "<style scoped>\n",
       "    .dataframe tbody tr th:only-of-type {\n",
       "        vertical-align: middle;\n",
       "    }\n",
       "\n",
       "    .dataframe tbody tr th {\n",
       "        vertical-align: top;\n",
       "    }\n",
       "\n",
       "    .dataframe thead th {\n",
       "        text-align: right;\n",
       "    }\n",
       "</style>\n",
       "<table border=\"1\" class=\"dataframe\">\n",
       "  <thead>\n",
       "    <tr style=\"text-align: right;\">\n",
       "      <th></th>\n",
       "      <th>no1</th>\n",
       "      <th>no2</th>\n",
       "    </tr>\n",
       "  </thead>\n",
       "  <tbody>\n",
       "    <tr>\n",
       "      <th>a</th>\n",
       "      <td>1.0</td>\n",
       "      <td>4.0</td>\n",
       "    </tr>\n",
       "    <tr>\n",
       "      <th>b</th>\n",
       "      <td>2.0</td>\n",
       "      <td>5.0</td>\n",
       "    </tr>\n",
       "    <tr>\n",
       "      <th>c</th>\n",
       "      <td>3.0</td>\n",
       "      <td>6.0</td>\n",
       "    </tr>\n",
       "  </tbody>\n",
       "</table>\n",
       "</div>"
      ],
      "text/plain": [
       "   no1  no2\n",
       "a  1.0  4.0\n",
       "b  2.0  5.0\n",
       "c  3.0  6.0"
      ]
     },
     "execution_count": 347,
     "metadata": {},
     "output_type": "execute_result"
    }
   ],
   "source": [
    "df_obj = pd.DataFrame({'no1':[1.0, 2.0, 3.0], 'no2':[4.0, 5.0, 6.0]}, index = ['a', 'b', 'c'])\n",
    "df_obj"
   ]
  },
  {
   "cell_type": "code",
   "execution_count": 348,
   "id": "0fd63e62",
   "metadata": {},
   "outputs": [
    {
     "data": {
      "text/html": [
       "<div>\n",
       "<style scoped>\n",
       "    .dataframe tbody tr th:only-of-type {\n",
       "        vertical-align: middle;\n",
       "    }\n",
       "\n",
       "    .dataframe tbody tr th {\n",
       "        vertical-align: top;\n",
       "    }\n",
       "\n",
       "    .dataframe thead th {\n",
       "        text-align: right;\n",
       "    }\n",
       "</style>\n",
       "<table border=\"1\" class=\"dataframe\">\n",
       "  <thead>\n",
       "    <tr style=\"text-align: right;\">\n",
       "      <th></th>\n",
       "      <th>no1</th>\n",
       "      <th>no2</th>\n",
       "    </tr>\n",
       "  </thead>\n",
       "  <tbody>\n",
       "    <tr>\n",
       "      <th>a</th>\n",
       "      <td>1.0</td>\n",
       "      <td>4.0</td>\n",
       "    </tr>\n",
       "    <tr>\n",
       "      <th>c</th>\n",
       "      <td>3.0</td>\n",
       "      <td>6.0</td>\n",
       "    </tr>\n",
       "    <tr>\n",
       "      <th>e</th>\n",
       "      <td>NaN</td>\n",
       "      <td>NaN</td>\n",
       "    </tr>\n",
       "  </tbody>\n",
       "</table>\n",
       "</div>"
      ],
      "text/plain": [
       "   no1  no2\n",
       "a  1.0  4.0\n",
       "c  3.0  6.0\n",
       "e  NaN  NaN"
      ]
     },
     "execution_count": 348,
     "metadata": {},
     "output_type": "execute_result"
    }
   ],
   "source": [
    "new_df = df_obj.reindex(index = ['a', 'c', 'e']) # 重置索引\n",
    "new_df"
   ]
  },
  {
   "cell_type": "code",
   "execution_count": 349,
   "id": "12ca014c",
   "metadata": {},
   "outputs": [
    {
     "data": {
      "text/html": [
       "<div>\n",
       "<style scoped>\n",
       "    .dataframe tbody tr th:only-of-type {\n",
       "        vertical-align: middle;\n",
       "    }\n",
       "\n",
       "    .dataframe tbody tr th {\n",
       "        vertical-align: top;\n",
       "    }\n",
       "\n",
       "    .dataframe thead th {\n",
       "        text-align: right;\n",
       "    }\n",
       "</style>\n",
       "<table border=\"1\" class=\"dataframe\">\n",
       "  <thead>\n",
       "    <tr style=\"text-align: right;\">\n",
       "      <th></th>\n",
       "      <th>no1</th>\n",
       "      <th>no2</th>\n",
       "    </tr>\n",
       "  </thead>\n",
       "  <tbody>\n",
       "    <tr>\n",
       "      <th>a</th>\n",
       "      <td>1.0</td>\n",
       "      <td>4.0</td>\n",
       "    </tr>\n",
       "    <tr>\n",
       "      <th>c</th>\n",
       "      <td>3.0</td>\n",
       "      <td>6.0</td>\n",
       "    </tr>\n",
       "    <tr>\n",
       "      <th>e</th>\n",
       "      <td>9.0</td>\n",
       "      <td>9.0</td>\n",
       "    </tr>\n",
       "  </tbody>\n",
       "</table>\n",
       "</div>"
      ],
      "text/plain": [
       "   no1  no2\n",
       "a  1.0  4.0\n",
       "c  3.0  6.0\n",
       "e  9.0  9.0"
      ]
     },
     "execution_count": 349,
     "metadata": {},
     "output_type": "execute_result"
    }
   ],
   "source": [
    "new_df = df_obj.reindex(index = ['a', 'c', 'e'], fill_value = 9) # 重置索引，并指定填充的值\n",
    "new_df"
   ]
  },
  {
   "cell_type": "code",
   "execution_count": 350,
   "id": "a795ede3",
   "metadata": {},
   "outputs": [
    {
     "data": {
      "text/html": [
       "<div>\n",
       "<style scoped>\n",
       "    .dataframe tbody tr th:only-of-type {\n",
       "        vertical-align: middle;\n",
       "    }\n",
       "\n",
       "    .dataframe tbody tr th {\n",
       "        vertical-align: top;\n",
       "    }\n",
       "\n",
       "    .dataframe thead th {\n",
       "        text-align: right;\n",
       "    }\n",
       "</style>\n",
       "<table border=\"1\" class=\"dataframe\">\n",
       "  <thead>\n",
       "    <tr style=\"text-align: right;\">\n",
       "      <th></th>\n",
       "      <th>no1</th>\n",
       "      <th>no2</th>\n",
       "    </tr>\n",
       "  </thead>\n",
       "  <tbody>\n",
       "    <tr>\n",
       "      <th>a</th>\n",
       "      <td>1.0</td>\n",
       "      <td>4.0</td>\n",
       "    </tr>\n",
       "    <tr>\n",
       "      <th>c</th>\n",
       "      <td>3.0</td>\n",
       "      <td>6.0</td>\n",
       "    </tr>\n",
       "    <tr>\n",
       "      <th>e</th>\n",
       "      <td>3.0</td>\n",
       "      <td>6.0</td>\n",
       "    </tr>\n",
       "  </tbody>\n",
       "</table>\n",
       "</div>"
      ],
      "text/plain": [
       "   no1  no2\n",
       "a  1.0  4.0\n",
       "c  3.0  6.0\n",
       "e  3.0  6.0"
      ]
     },
     "execution_count": 350,
     "metadata": {},
     "output_type": "execute_result"
    }
   ],
   "source": [
    "new_df = df_obj.reindex(index = ['a', 'c', 'e'], method = 'ffill') # 重置索引，并指定填充的值\n",
    "new_df"
   ]
  },
  {
   "cell_type": "markdown",
   "id": "55adfdca",
   "metadata": {},
   "source": [
    "3.2.3 通过索引和切片获取数据"
   ]
  },
  {
   "cell_type": "markdown",
   "id": "5695ff2f",
   "metadata": {},
   "source": [
    "1、Series的索引和切片操作"
   ]
  },
  {
   "cell_type": "code",
   "execution_count": 351,
   "id": "46088314",
   "metadata": {},
   "outputs": [
    {
     "data": {
      "text/plain": [
       "30"
      ]
     },
     "execution_count": 351,
     "metadata": {},
     "output_type": "execute_result"
    }
   ],
   "source": [
    "ser_obj = pd.Series([10, 20, 30, 40, 50], index = ['one', 'two', 'three', 'four', 'five'])\n",
    "ser_obj[2]"
   ]
  },
  {
   "cell_type": "code",
   "execution_count": 352,
   "id": "0fba0eed",
   "metadata": {},
   "outputs": [
    {
     "data": {
      "text/plain": [
       "30"
      ]
     },
     "execution_count": 352,
     "metadata": {},
     "output_type": "execute_result"
    }
   ],
   "source": [
    "ser_obj['three']"
   ]
  },
  {
   "cell_type": "code",
   "execution_count": 353,
   "id": "8699ef12",
   "metadata": {},
   "outputs": [
    {
     "data": {
      "text/plain": [
       "one      10\n",
       "three    30\n",
       "four     40\n",
       "dtype: int64"
      ]
     },
     "execution_count": 353,
     "metadata": {},
     "output_type": "execute_result"
    }
   ],
   "source": [
    "ser_obj[[0, 2, 3]]"
   ]
  },
  {
   "cell_type": "code",
   "execution_count": 354,
   "id": "50101802",
   "metadata": {},
   "outputs": [
    {
     "data": {
      "text/plain": [
       "one      10\n",
       "three    30\n",
       "four     40\n",
       "dtype: int64"
      ]
     },
     "execution_count": 354,
     "metadata": {},
     "output_type": "execute_result"
    }
   ],
   "source": [
    "ser_obj[['one', 'three', 'four']]"
   ]
  },
  {
   "cell_type": "code",
   "execution_count": 355,
   "id": "bd5a7a17",
   "metadata": {},
   "outputs": [
    {
     "data": {
      "text/plain": [
       "one      False\n",
       "two      False\n",
       "three     True\n",
       "four      True\n",
       "five      True\n",
       "dtype: bool"
      ]
     },
     "execution_count": 355,
     "metadata": {},
     "output_type": "execute_result"
    }
   ],
   "source": [
    "ser_obj > 20"
   ]
  },
  {
   "cell_type": "code",
   "execution_count": 356,
   "id": "2c5408d7",
   "metadata": {},
   "outputs": [
    {
     "data": {
      "text/plain": [
       "three    30\n",
       "four     40\n",
       "five     50\n",
       "dtype: int64"
      ]
     },
     "execution_count": 356,
     "metadata": {},
     "output_type": "execute_result"
    }
   ],
   "source": [
    "ser_obj[ser_obj > 20]"
   ]
  },
  {
   "cell_type": "code",
   "execution_count": 357,
   "id": "c4ae7108",
   "metadata": {},
   "outputs": [
    {
     "data": {
      "text/plain": [
       "two      20\n",
       "three    30\n",
       "dtype: int64"
      ]
     },
     "execution_count": 357,
     "metadata": {},
     "output_type": "execute_result"
    }
   ],
   "source": [
    "ser_obj[1 : 3]"
   ]
  },
  {
   "cell_type": "code",
   "execution_count": 358,
   "id": "e7dce3df",
   "metadata": {},
   "outputs": [
    {
     "data": {
      "text/plain": [
       "two      20\n",
       "three    30\n",
       "four     40\n",
       "dtype: int64"
      ]
     },
     "execution_count": 358,
     "metadata": {},
     "output_type": "execute_result"
    }
   ],
   "source": [
    "ser_obj['two' : 'four']"
   ]
  },
  {
   "cell_type": "markdown",
   "id": "4404740b",
   "metadata": {},
   "source": [
    "2、DataFrame的索引和切片操作"
   ]
  },
  {
   "cell_type": "code",
   "execution_count": 359,
   "id": "77d501c4",
   "metadata": {},
   "outputs": [
    {
     "data": {
      "text/html": [
       "<div>\n",
       "<style scoped>\n",
       "    .dataframe tbody tr th:only-of-type {\n",
       "        vertical-align: middle;\n",
       "    }\n",
       "\n",
       "    .dataframe tbody tr th {\n",
       "        vertical-align: top;\n",
       "    }\n",
       "\n",
       "    .dataframe thead th {\n",
       "        text-align: right;\n",
       "    }\n",
       "</style>\n",
       "<table border=\"1\" class=\"dataframe\">\n",
       "  <thead>\n",
       "    <tr style=\"text-align: right;\">\n",
       "      <th></th>\n",
       "      <th>col_1</th>\n",
       "      <th>col_2</th>\n",
       "      <th>col_3</th>\n",
       "      <th>col_4</th>\n",
       "    </tr>\n",
       "  </thead>\n",
       "  <tbody>\n",
       "    <tr>\n",
       "      <th>row_1</th>\n",
       "      <td>0</td>\n",
       "      <td>1</td>\n",
       "      <td>2</td>\n",
       "      <td>3</td>\n",
       "    </tr>\n",
       "    <tr>\n",
       "      <th>row_2</th>\n",
       "      <td>4</td>\n",
       "      <td>5</td>\n",
       "      <td>6</td>\n",
       "      <td>7</td>\n",
       "    </tr>\n",
       "    <tr>\n",
       "      <th>row_3</th>\n",
       "      <td>8</td>\n",
       "      <td>9</td>\n",
       "      <td>10</td>\n",
       "      <td>11</td>\n",
       "    </tr>\n",
       "  </tbody>\n",
       "</table>\n",
       "</div>"
      ],
      "text/plain": [
       "       col_1  col_2  col_3  col_4\n",
       "row_1      0      1      2      3\n",
       "row_2      4      5      6      7\n",
       "row_3      8      9     10     11"
      ]
     },
     "execution_count": 359,
     "metadata": {},
     "output_type": "execute_result"
    }
   ],
   "source": [
    "arr = np.arange(12).reshape(3, 4)\n",
    "df_obj = pd.DataFrame(arr, index = ['row_1', 'row_2', 'row_3'], columns = ['col_1', 'col_2', 'col_3', 'col_4'])\n",
    "df_obj"
   ]
  },
  {
   "cell_type": "code",
   "execution_count": 360,
   "id": "ff0823ef",
   "metadata": {},
   "outputs": [
    {
     "data": {
      "text/plain": [
       "row_1    1\n",
       "row_2    5\n",
       "row_3    9\n",
       "Name: col_2, dtype: int32"
      ]
     },
     "execution_count": 360,
     "metadata": {},
     "output_type": "execute_result"
    }
   ],
   "source": [
    "df_obj['col_2']"
   ]
  },
  {
   "cell_type": "code",
   "execution_count": 361,
   "id": "9d948473",
   "metadata": {},
   "outputs": [
    {
     "data": {
      "text/html": [
       "<div>\n",
       "<style scoped>\n",
       "    .dataframe tbody tr th:only-of-type {\n",
       "        vertical-align: middle;\n",
       "    }\n",
       "\n",
       "    .dataframe tbody tr th {\n",
       "        vertical-align: top;\n",
       "    }\n",
       "\n",
       "    .dataframe thead th {\n",
       "        text-align: right;\n",
       "    }\n",
       "</style>\n",
       "<table border=\"1\" class=\"dataframe\">\n",
       "  <thead>\n",
       "    <tr style=\"text-align: right;\">\n",
       "      <th></th>\n",
       "      <th>col_1</th>\n",
       "      <th>col_3</th>\n",
       "    </tr>\n",
       "  </thead>\n",
       "  <tbody>\n",
       "    <tr>\n",
       "      <th>row_1</th>\n",
       "      <td>0</td>\n",
       "      <td>2</td>\n",
       "    </tr>\n",
       "    <tr>\n",
       "      <th>row_2</th>\n",
       "      <td>4</td>\n",
       "      <td>6</td>\n",
       "    </tr>\n",
       "    <tr>\n",
       "      <th>row_3</th>\n",
       "      <td>8</td>\n",
       "      <td>10</td>\n",
       "    </tr>\n",
       "  </tbody>\n",
       "</table>\n",
       "</div>"
      ],
      "text/plain": [
       "       col_1  col_3\n",
       "row_1      0      2\n",
       "row_2      4      6\n",
       "row_3      8     10"
      ]
     },
     "execution_count": 361,
     "metadata": {},
     "output_type": "execute_result"
    }
   ],
   "source": [
    "df_obj[['col_1', 'col_3']]"
   ]
  },
  {
   "cell_type": "code",
   "execution_count": 362,
   "id": "3a844ce5",
   "metadata": {},
   "outputs": [
    {
     "data": {
      "text/html": [
       "<div>\n",
       "<style scoped>\n",
       "    .dataframe tbody tr th:only-of-type {\n",
       "        vertical-align: middle;\n",
       "    }\n",
       "\n",
       "    .dataframe tbody tr th {\n",
       "        vertical-align: top;\n",
       "    }\n",
       "\n",
       "    .dataframe thead th {\n",
       "        text-align: right;\n",
       "    }\n",
       "</style>\n",
       "<table border=\"1\" class=\"dataframe\">\n",
       "  <thead>\n",
       "    <tr style=\"text-align: right;\">\n",
       "      <th></th>\n",
       "      <th>col_1</th>\n",
       "      <th>col_2</th>\n",
       "      <th>col_3</th>\n",
       "      <th>col_4</th>\n",
       "    </tr>\n",
       "  </thead>\n",
       "  <tbody>\n",
       "    <tr>\n",
       "      <th>row_2</th>\n",
       "      <td>4</td>\n",
       "      <td>5</td>\n",
       "      <td>6</td>\n",
       "      <td>7</td>\n",
       "    </tr>\n",
       "    <tr>\n",
       "      <th>row_3</th>\n",
       "      <td>8</td>\n",
       "      <td>9</td>\n",
       "      <td>10</td>\n",
       "      <td>11</td>\n",
       "    </tr>\n",
       "  </tbody>\n",
       "</table>\n",
       "</div>"
      ],
      "text/plain": [
       "       col_1  col_2  col_3  col_4\n",
       "row_2      4      5      6      7\n",
       "row_3      8      9     10     11"
      ]
     },
     "execution_count": 362,
     "metadata": {},
     "output_type": "execute_result"
    }
   ],
   "source": [
    "df_obj[1 : 3]"
   ]
  },
  {
   "cell_type": "code",
   "execution_count": 363,
   "id": "3a850a93",
   "metadata": {},
   "outputs": [
    {
     "data": {
      "text/html": [
       "<div>\n",
       "<style scoped>\n",
       "    .dataframe tbody tr th:only-of-type {\n",
       "        vertical-align: middle;\n",
       "    }\n",
       "\n",
       "    .dataframe tbody tr th {\n",
       "        vertical-align: top;\n",
       "    }\n",
       "\n",
       "    .dataframe thead th {\n",
       "        text-align: right;\n",
       "    }\n",
       "</style>\n",
       "<table border=\"1\" class=\"dataframe\">\n",
       "  <thead>\n",
       "    <tr style=\"text-align: right;\">\n",
       "      <th></th>\n",
       "      <th>col_1</th>\n",
       "      <th>col_3</th>\n",
       "    </tr>\n",
       "  </thead>\n",
       "  <tbody>\n",
       "    <tr>\n",
       "      <th>row_2</th>\n",
       "      <td>4</td>\n",
       "      <td>6</td>\n",
       "    </tr>\n",
       "    <tr>\n",
       "      <th>row_3</th>\n",
       "      <td>8</td>\n",
       "      <td>10</td>\n",
       "    </tr>\n",
       "  </tbody>\n",
       "</table>\n",
       "</div>"
      ],
      "text/plain": [
       "       col_1  col_3\n",
       "row_2      4      6\n",
       "row_3      8     10"
      ]
     },
     "execution_count": 363,
     "metadata": {},
     "output_type": "execute_result"
    }
   ],
   "source": [
    "df_obj[1 : 3][['col_1', 'col_3']]"
   ]
  },
  {
   "cell_type": "markdown",
   "id": "ca35a14d",
   "metadata": {},
   "source": [
    "3.2.4 通过loc和iloc属性获取数据"
   ]
  },
  {
   "cell_type": "markdown",
   "id": "6dafbb3a",
   "metadata": {},
   "source": [
    "1、loc属性"
   ]
  },
  {
   "cell_type": "code",
   "execution_count": 364,
   "id": "9947b88f",
   "metadata": {},
   "outputs": [],
   "source": [
    "# 使用格式\n",
    "# Series.loc[参数]\n",
    "# DataFrame.loc[参数1, 参数2]"
   ]
  },
  {
   "cell_type": "code",
   "execution_count": 365,
   "id": "6b5dd38b",
   "metadata": {},
   "outputs": [
    {
     "data": {
      "text/plain": [
       "20"
      ]
     },
     "execution_count": 365,
     "metadata": {},
     "output_type": "execute_result"
    }
   ],
   "source": [
    "ser_obj = pd.Series([10, 20, 30, 40, 50], index = ['row1', 'row2', 'row3', 'row4', 'row5'])\n",
    "ser_obj.loc['row2']"
   ]
  },
  {
   "cell_type": "code",
   "execution_count": 366,
   "id": "20c7a614",
   "metadata": {},
   "outputs": [
    {
     "data": {
      "text/plain": [
       "row2    20\n",
       "row5    50\n",
       "dtype: int64"
      ]
     },
     "execution_count": 366,
     "metadata": {},
     "output_type": "execute_result"
    }
   ],
   "source": [
    "ser_obj.loc[['row2', 'row5']]"
   ]
  },
  {
   "cell_type": "code",
   "execution_count": 367,
   "id": "93877441",
   "metadata": {},
   "outputs": [
    {
     "data": {
      "text/plain": [
       "row3    30\n",
       "row4    40\n",
       "row5    50\n",
       "dtype: int64"
      ]
     },
     "execution_count": 367,
     "metadata": {},
     "output_type": "execute_result"
    }
   ],
   "source": [
    "ser_obj.loc['row3': 'row5']"
   ]
  },
  {
   "cell_type": "code",
   "execution_count": 368,
   "id": "0bf09ef1",
   "metadata": {},
   "outputs": [
    {
     "data": {
      "text/plain": [
       "row1    10\n",
       "row2    20\n",
       "dtype: int64"
      ]
     },
     "execution_count": 368,
     "metadata": {},
     "output_type": "execute_result"
    }
   ],
   "source": [
    "ser_bool = ser_obj < 30\n",
    "ser_obj.loc[ser_bool]"
   ]
  },
  {
   "cell_type": "code",
   "execution_count": 369,
   "id": "d61e1016",
   "metadata": {},
   "outputs": [
    {
     "data": {
      "text/html": [
       "<div>\n",
       "<style scoped>\n",
       "    .dataframe tbody tr th:only-of-type {\n",
       "        vertical-align: middle;\n",
       "    }\n",
       "\n",
       "    .dataframe tbody tr th {\n",
       "        vertical-align: top;\n",
       "    }\n",
       "\n",
       "    .dataframe thead th {\n",
       "        text-align: right;\n",
       "    }\n",
       "</style>\n",
       "<table border=\"1\" class=\"dataframe\">\n",
       "  <thead>\n",
       "    <tr style=\"text-align: right;\">\n",
       "      <th></th>\n",
       "      <th>col_1</th>\n",
       "      <th>col_2</th>\n",
       "      <th>col_3</th>\n",
       "      <th>col_4</th>\n",
       "    </tr>\n",
       "  </thead>\n",
       "  <tbody>\n",
       "    <tr>\n",
       "      <th>row_1</th>\n",
       "      <td>0</td>\n",
       "      <td>1</td>\n",
       "      <td>2</td>\n",
       "      <td>3</td>\n",
       "    </tr>\n",
       "    <tr>\n",
       "      <th>row_2</th>\n",
       "      <td>4</td>\n",
       "      <td>5</td>\n",
       "      <td>6</td>\n",
       "      <td>7</td>\n",
       "    </tr>\n",
       "    <tr>\n",
       "      <th>row_3</th>\n",
       "      <td>8</td>\n",
       "      <td>9</td>\n",
       "      <td>10</td>\n",
       "      <td>11</td>\n",
       "    </tr>\n",
       "  </tbody>\n",
       "</table>\n",
       "</div>"
      ],
      "text/plain": [
       "       col_1  col_2  col_3  col_4\n",
       "row_1      0      1      2      3\n",
       "row_2      4      5      6      7\n",
       "row_3      8      9     10     11"
      ]
     },
     "execution_count": 369,
     "metadata": {},
     "output_type": "execute_result"
    }
   ],
   "source": [
    "arr = np.arange(12).reshape(3, 4)\n",
    "df_obj = pd.DataFrame(arr, index = ['row_1', 'row_2', 'row_3'], columns = ['col_1', 'col_2', 'col_3', 'col_4'])\n",
    "df_obj"
   ]
  },
  {
   "cell_type": "code",
   "execution_count": 370,
   "id": "629e8114",
   "metadata": {},
   "outputs": [
    {
     "data": {
      "text/plain": [
       "col_1    0\n",
       "col_2    1\n",
       "col_3    2\n",
       "col_4    3\n",
       "Name: row_1, dtype: int32"
      ]
     },
     "execution_count": 370,
     "metadata": {},
     "output_type": "execute_result"
    }
   ],
   "source": [
    "df_obj.loc['row_1']"
   ]
  },
  {
   "cell_type": "code",
   "execution_count": 371,
   "id": "4fb13520",
   "metadata": {},
   "outputs": [
    {
     "data": {
      "text/html": [
       "<div>\n",
       "<style scoped>\n",
       "    .dataframe tbody tr th:only-of-type {\n",
       "        vertical-align: middle;\n",
       "    }\n",
       "\n",
       "    .dataframe tbody tr th {\n",
       "        vertical-align: top;\n",
       "    }\n",
       "\n",
       "    .dataframe thead th {\n",
       "        text-align: right;\n",
       "    }\n",
       "</style>\n",
       "<table border=\"1\" class=\"dataframe\">\n",
       "  <thead>\n",
       "    <tr style=\"text-align: right;\">\n",
       "      <th></th>\n",
       "      <th>col_1</th>\n",
       "      <th>col_2</th>\n",
       "      <th>col_3</th>\n",
       "      <th>col_4</th>\n",
       "    </tr>\n",
       "  </thead>\n",
       "  <tbody>\n",
       "    <tr>\n",
       "      <th>row_1</th>\n",
       "      <td>0</td>\n",
       "      <td>1</td>\n",
       "      <td>2</td>\n",
       "      <td>3</td>\n",
       "    </tr>\n",
       "    <tr>\n",
       "      <th>row_3</th>\n",
       "      <td>8</td>\n",
       "      <td>9</td>\n",
       "      <td>10</td>\n",
       "      <td>11</td>\n",
       "    </tr>\n",
       "  </tbody>\n",
       "</table>\n",
       "</div>"
      ],
      "text/plain": [
       "       col_1  col_2  col_3  col_4\n",
       "row_1      0      1      2      3\n",
       "row_3      8      9     10     11"
      ]
     },
     "execution_count": 371,
     "metadata": {},
     "output_type": "execute_result"
    }
   ],
   "source": [
    "df_obj.loc[['row_1', 'row_3']]"
   ]
  },
  {
   "cell_type": "code",
   "execution_count": 372,
   "id": "e610a80d",
   "metadata": {},
   "outputs": [
    {
     "data": {
      "text/html": [
       "<div>\n",
       "<style scoped>\n",
       "    .dataframe tbody tr th:only-of-type {\n",
       "        vertical-align: middle;\n",
       "    }\n",
       "\n",
       "    .dataframe tbody tr th {\n",
       "        vertical-align: top;\n",
       "    }\n",
       "\n",
       "    .dataframe thead th {\n",
       "        text-align: right;\n",
       "    }\n",
       "</style>\n",
       "<table border=\"1\" class=\"dataframe\">\n",
       "  <thead>\n",
       "    <tr style=\"text-align: right;\">\n",
       "      <th></th>\n",
       "      <th>col_1</th>\n",
       "      <th>col_2</th>\n",
       "      <th>col_3</th>\n",
       "      <th>col_4</th>\n",
       "    </tr>\n",
       "  </thead>\n",
       "  <tbody>\n",
       "    <tr>\n",
       "      <th>row_1</th>\n",
       "      <td>0</td>\n",
       "      <td>1</td>\n",
       "      <td>2</td>\n",
       "      <td>3</td>\n",
       "    </tr>\n",
       "    <tr>\n",
       "      <th>row_2</th>\n",
       "      <td>4</td>\n",
       "      <td>5</td>\n",
       "      <td>6</td>\n",
       "      <td>7</td>\n",
       "    </tr>\n",
       "  </tbody>\n",
       "</table>\n",
       "</div>"
      ],
      "text/plain": [
       "       col_1  col_2  col_3  col_4\n",
       "row_1      0      1      2      3\n",
       "row_2      4      5      6      7"
      ]
     },
     "execution_count": 372,
     "metadata": {},
     "output_type": "execute_result"
    }
   ],
   "source": [
    "df_obj.loc['row_1':'row_2']"
   ]
  },
  {
   "cell_type": "code",
   "execution_count": 373,
   "id": "8b13be10",
   "metadata": {},
   "outputs": [
    {
     "data": {
      "text/html": [
       "<div>\n",
       "<style scoped>\n",
       "    .dataframe tbody tr th:only-of-type {\n",
       "        vertical-align: middle;\n",
       "    }\n",
       "\n",
       "    .dataframe tbody tr th {\n",
       "        vertical-align: top;\n",
       "    }\n",
       "\n",
       "    .dataframe thead th {\n",
       "        text-align: right;\n",
       "    }\n",
       "</style>\n",
       "<table border=\"1\" class=\"dataframe\">\n",
       "  <thead>\n",
       "    <tr style=\"text-align: right;\">\n",
       "      <th></th>\n",
       "      <th>col_1</th>\n",
       "      <th>col_2</th>\n",
       "      <th>col_3</th>\n",
       "      <th>col_4</th>\n",
       "    </tr>\n",
       "  </thead>\n",
       "  <tbody>\n",
       "    <tr>\n",
       "      <th>row_1</th>\n",
       "      <td>0</td>\n",
       "      <td>1</td>\n",
       "      <td>2</td>\n",
       "      <td>3</td>\n",
       "    </tr>\n",
       "    <tr>\n",
       "      <th>row_3</th>\n",
       "      <td>8</td>\n",
       "      <td>9</td>\n",
       "      <td>10</td>\n",
       "      <td>11</td>\n",
       "    </tr>\n",
       "  </tbody>\n",
       "</table>\n",
       "</div>"
      ],
      "text/plain": [
       "       col_1  col_2  col_3  col_4\n",
       "row_1      0      1      2      3\n",
       "row_3      8      9     10     11"
      ]
     },
     "execution_count": 373,
     "metadata": {},
     "output_type": "execute_result"
    }
   ],
   "source": [
    "df_obj.loc[[True, False, True]]"
   ]
  },
  {
   "cell_type": "code",
   "execution_count": 374,
   "id": "17b3b377",
   "metadata": {},
   "outputs": [
    {
     "data": {
      "text/plain": [
       "2"
      ]
     },
     "execution_count": 374,
     "metadata": {},
     "output_type": "execute_result"
    }
   ],
   "source": [
    "df_obj.loc['row_1', 'col_3']"
   ]
  },
  {
   "cell_type": "code",
   "execution_count": 375,
   "id": "9f08e63a",
   "metadata": {},
   "outputs": [
    {
     "data": {
      "text/html": [
       "<div>\n",
       "<style scoped>\n",
       "    .dataframe tbody tr th:only-of-type {\n",
       "        vertical-align: middle;\n",
       "    }\n",
       "\n",
       "    .dataframe tbody tr th {\n",
       "        vertical-align: top;\n",
       "    }\n",
       "\n",
       "    .dataframe thead th {\n",
       "        text-align: right;\n",
       "    }\n",
       "</style>\n",
       "<table border=\"1\" class=\"dataframe\">\n",
       "  <thead>\n",
       "    <tr style=\"text-align: right;\">\n",
       "      <th></th>\n",
       "      <th>col_1</th>\n",
       "      <th>col_3</th>\n",
       "    </tr>\n",
       "  </thead>\n",
       "  <tbody>\n",
       "    <tr>\n",
       "      <th>row_1</th>\n",
       "      <td>0</td>\n",
       "      <td>2</td>\n",
       "    </tr>\n",
       "    <tr>\n",
       "      <th>row_2</th>\n",
       "      <td>4</td>\n",
       "      <td>6</td>\n",
       "    </tr>\n",
       "    <tr>\n",
       "      <th>row_3</th>\n",
       "      <td>8</td>\n",
       "      <td>10</td>\n",
       "    </tr>\n",
       "  </tbody>\n",
       "</table>\n",
       "</div>"
      ],
      "text/plain": [
       "       col_1  col_3\n",
       "row_1      0      2\n",
       "row_2      4      6\n",
       "row_3      8     10"
      ]
     },
     "execution_count": 375,
     "metadata": {},
     "output_type": "execute_result"
    }
   ],
   "source": [
    "df_obj.loc['row_1':'row_3',['col_1', 'col_3']]"
   ]
  },
  {
   "cell_type": "markdown",
   "id": "61e608ca",
   "metadata": {},
   "source": [
    "2、iloc属性"
   ]
  },
  {
   "cell_type": "code",
   "execution_count": 376,
   "id": "111da24f",
   "metadata": {},
   "outputs": [],
   "source": [
    "# 使用格式\n",
    "# Series.iloc[参数]\n",
    "# DataFrame.iloc[参数1, 参数2]"
   ]
  },
  {
   "cell_type": "code",
   "execution_count": 377,
   "id": "f50be2ef",
   "metadata": {},
   "outputs": [
    {
     "data": {
      "text/plain": [
       "col_1    0\n",
       "col_2    1\n",
       "col_3    2\n",
       "col_4    3\n",
       "Name: row_1, dtype: int32"
      ]
     },
     "execution_count": 377,
     "metadata": {},
     "output_type": "execute_result"
    }
   ],
   "source": [
    "df_obj.iloc[0]"
   ]
  },
  {
   "cell_type": "code",
   "execution_count": 378,
   "id": "a410651a",
   "metadata": {},
   "outputs": [
    {
     "data": {
      "text/html": [
       "<div>\n",
       "<style scoped>\n",
       "    .dataframe tbody tr th:only-of-type {\n",
       "        vertical-align: middle;\n",
       "    }\n",
       "\n",
       "    .dataframe tbody tr th {\n",
       "        vertical-align: top;\n",
       "    }\n",
       "\n",
       "    .dataframe thead th {\n",
       "        text-align: right;\n",
       "    }\n",
       "</style>\n",
       "<table border=\"1\" class=\"dataframe\">\n",
       "  <thead>\n",
       "    <tr style=\"text-align: right;\">\n",
       "      <th></th>\n",
       "      <th>col_1</th>\n",
       "      <th>col_2</th>\n",
       "      <th>col_3</th>\n",
       "      <th>col_4</th>\n",
       "    </tr>\n",
       "  </thead>\n",
       "  <tbody>\n",
       "    <tr>\n",
       "      <th>row_1</th>\n",
       "      <td>0</td>\n",
       "      <td>1</td>\n",
       "      <td>2</td>\n",
       "      <td>3</td>\n",
       "    </tr>\n",
       "    <tr>\n",
       "      <th>row_3</th>\n",
       "      <td>8</td>\n",
       "      <td>9</td>\n",
       "      <td>10</td>\n",
       "      <td>11</td>\n",
       "    </tr>\n",
       "  </tbody>\n",
       "</table>\n",
       "</div>"
      ],
      "text/plain": [
       "       col_1  col_2  col_3  col_4\n",
       "row_1      0      1      2      3\n",
       "row_3      8      9     10     11"
      ]
     },
     "execution_count": 378,
     "metadata": {},
     "output_type": "execute_result"
    }
   ],
   "source": [
    "df_obj.iloc[[0, 2]]"
   ]
  },
  {
   "cell_type": "code",
   "execution_count": 379,
   "id": "d293f7d2",
   "metadata": {},
   "outputs": [
    {
     "data": {
      "text/html": [
       "<div>\n",
       "<style scoped>\n",
       "    .dataframe tbody tr th:only-of-type {\n",
       "        vertical-align: middle;\n",
       "    }\n",
       "\n",
       "    .dataframe tbody tr th {\n",
       "        vertical-align: top;\n",
       "    }\n",
       "\n",
       "    .dataframe thead th {\n",
       "        text-align: right;\n",
       "    }\n",
       "</style>\n",
       "<table border=\"1\" class=\"dataframe\">\n",
       "  <thead>\n",
       "    <tr style=\"text-align: right;\">\n",
       "      <th></th>\n",
       "      <th>col_1</th>\n",
       "      <th>col_2</th>\n",
       "      <th>col_3</th>\n",
       "      <th>col_4</th>\n",
       "    </tr>\n",
       "  </thead>\n",
       "  <tbody>\n",
       "    <tr>\n",
       "      <th>row_1</th>\n",
       "      <td>0</td>\n",
       "      <td>1</td>\n",
       "      <td>2</td>\n",
       "      <td>3</td>\n",
       "    </tr>\n",
       "    <tr>\n",
       "      <th>row_2</th>\n",
       "      <td>4</td>\n",
       "      <td>5</td>\n",
       "      <td>6</td>\n",
       "      <td>7</td>\n",
       "    </tr>\n",
       "  </tbody>\n",
       "</table>\n",
       "</div>"
      ],
      "text/plain": [
       "       col_1  col_2  col_3  col_4\n",
       "row_1      0      1      2      3\n",
       "row_2      4      5      6      7"
      ]
     },
     "execution_count": 379,
     "metadata": {},
     "output_type": "execute_result"
    }
   ],
   "source": [
    "df_obj.iloc[0: 2]"
   ]
  },
  {
   "cell_type": "code",
   "execution_count": 380,
   "id": "0998a5eb",
   "metadata": {},
   "outputs": [
    {
     "data": {
      "text/html": [
       "<div>\n",
       "<style scoped>\n",
       "    .dataframe tbody tr th:only-of-type {\n",
       "        vertical-align: middle;\n",
       "    }\n",
       "\n",
       "    .dataframe tbody tr th {\n",
       "        vertical-align: top;\n",
       "    }\n",
       "\n",
       "    .dataframe thead th {\n",
       "        text-align: right;\n",
       "    }\n",
       "</style>\n",
       "<table border=\"1\" class=\"dataframe\">\n",
       "  <thead>\n",
       "    <tr style=\"text-align: right;\">\n",
       "      <th></th>\n",
       "      <th>col_1</th>\n",
       "      <th>col_2</th>\n",
       "      <th>col_3</th>\n",
       "      <th>col_4</th>\n",
       "    </tr>\n",
       "  </thead>\n",
       "  <tbody>\n",
       "    <tr>\n",
       "      <th>row_1</th>\n",
       "      <td>0</td>\n",
       "      <td>1</td>\n",
       "      <td>2</td>\n",
       "      <td>3</td>\n",
       "    </tr>\n",
       "    <tr>\n",
       "      <th>row_3</th>\n",
       "      <td>8</td>\n",
       "      <td>9</td>\n",
       "      <td>10</td>\n",
       "      <td>11</td>\n",
       "    </tr>\n",
       "  </tbody>\n",
       "</table>\n",
       "</div>"
      ],
      "text/plain": [
       "       col_1  col_2  col_3  col_4\n",
       "row_1      0      1      2      3\n",
       "row_3      8      9     10     11"
      ]
     },
     "execution_count": 380,
     "metadata": {},
     "output_type": "execute_result"
    }
   ],
   "source": [
    "df_obj.iloc[[True, False, True]]"
   ]
  },
  {
   "cell_type": "code",
   "execution_count": 381,
   "id": "1023818c",
   "metadata": {},
   "outputs": [
    {
     "data": {
      "text/plain": [
       "10"
      ]
     },
     "execution_count": 381,
     "metadata": {},
     "output_type": "execute_result"
    }
   ],
   "source": [
    "df_obj.iloc[2, 2]"
   ]
  },
  {
   "cell_type": "code",
   "execution_count": 382,
   "id": "f619f9e4",
   "metadata": {},
   "outputs": [
    {
     "data": {
      "text/html": [
       "<div>\n",
       "<style scoped>\n",
       "    .dataframe tbody tr th:only-of-type {\n",
       "        vertical-align: middle;\n",
       "    }\n",
       "\n",
       "    .dataframe tbody tr th {\n",
       "        vertical-align: top;\n",
       "    }\n",
       "\n",
       "    .dataframe thead th {\n",
       "        text-align: right;\n",
       "    }\n",
       "</style>\n",
       "<table border=\"1\" class=\"dataframe\">\n",
       "  <thead>\n",
       "    <tr style=\"text-align: right;\">\n",
       "      <th></th>\n",
       "      <th>col_1</th>\n",
       "      <th>col_3</th>\n",
       "    </tr>\n",
       "  </thead>\n",
       "  <tbody>\n",
       "    <tr>\n",
       "      <th>row_1</th>\n",
       "      <td>0</td>\n",
       "      <td>2</td>\n",
       "    </tr>\n",
       "    <tr>\n",
       "      <th>row_2</th>\n",
       "      <td>4</td>\n",
       "      <td>6</td>\n",
       "    </tr>\n",
       "    <tr>\n",
       "      <th>row_3</th>\n",
       "      <td>8</td>\n",
       "      <td>10</td>\n",
       "    </tr>\n",
       "  </tbody>\n",
       "</table>\n",
       "</div>"
      ],
      "text/plain": [
       "       col_1  col_3\n",
       "row_1      0      2\n",
       "row_2      4      6\n",
       "row_3      8     10"
      ]
     },
     "execution_count": 382,
     "metadata": {},
     "output_type": "execute_result"
    }
   ],
   "source": [
    "df_obj.iloc[0:3, [0, 2]]"
   ]
  },
  {
   "cell_type": "markdown",
   "id": "19e21c2a",
   "metadata": {},
   "source": [
    "3.3 读写数据"
   ]
  },
  {
   "cell_type": "markdown",
   "id": "4c2a2786",
   "metadata": {},
   "source": [
    "3.3.1 读写CSV和TXT文件的数据"
   ]
  },
  {
   "cell_type": "markdown",
   "id": "dfbbf21c",
   "metadata": {},
   "source": [
    "1、通过to_csv()方法向文本文件写入数据"
   ]
  },
  {
   "cell_type": "code",
   "execution_count": 383,
   "id": "35f6c7c4",
   "metadata": {},
   "outputs": [
    {
     "data": {
      "text/html": [
       "<div>\n",
       "<style scoped>\n",
       "    .dataframe tbody tr th:only-of-type {\n",
       "        vertical-align: middle;\n",
       "    }\n",
       "\n",
       "    .dataframe tbody tr th {\n",
       "        vertical-align: top;\n",
       "    }\n",
       "\n",
       "    .dataframe thead th {\n",
       "        text-align: right;\n",
       "    }\n",
       "</style>\n",
       "<table border=\"1\" class=\"dataframe\">\n",
       "  <thead>\n",
       "    <tr style=\"text-align: right;\">\n",
       "      <th></th>\n",
       "      <th>编号</th>\n",
       "      <th>姓名</th>\n",
       "      <th>性别</th>\n",
       "      <th>部门</th>\n",
       "      <th>职务</th>\n",
       "    </tr>\n",
       "  </thead>\n",
       "  <tbody>\n",
       "    <tr>\n",
       "      <th>0</th>\n",
       "      <td>CNN001</td>\n",
       "      <td>小明</td>\n",
       "      <td>男</td>\n",
       "      <td>行政</td>\n",
       "      <td>员工</td>\n",
       "    </tr>\n",
       "    <tr>\n",
       "      <th>1</th>\n",
       "      <td>CNN002</td>\n",
       "      <td>小红</td>\n",
       "      <td>女</td>\n",
       "      <td>人力资源</td>\n",
       "      <td>主管</td>\n",
       "    </tr>\n",
       "    <tr>\n",
       "      <th>2</th>\n",
       "      <td>CNN003</td>\n",
       "      <td>小蓝</td>\n",
       "      <td>女</td>\n",
       "      <td>销售</td>\n",
       "      <td>员工</td>\n",
       "    </tr>\n",
       "    <tr>\n",
       "      <th>3</th>\n",
       "      <td>CNN004</td>\n",
       "      <td>小黑</td>\n",
       "      <td>男</td>\n",
       "      <td>研发</td>\n",
       "      <td>主管</td>\n",
       "    </tr>\n",
       "    <tr>\n",
       "      <th>4</th>\n",
       "      <td>CNN005</td>\n",
       "      <td>小白</td>\n",
       "      <td>男</td>\n",
       "      <td>财务</td>\n",
       "      <td>员工</td>\n",
       "    </tr>\n",
       "    <tr>\n",
       "      <th>5</th>\n",
       "      <td>CNN006</td>\n",
       "      <td>小方</td>\n",
       "      <td>女</td>\n",
       "      <td>技术</td>\n",
       "      <td>员工</td>\n",
       "    </tr>\n",
       "    <tr>\n",
       "      <th>6</th>\n",
       "      <td>CNN007</td>\n",
       "      <td>小梅</td>\n",
       "      <td>女</td>\n",
       "      <td></td>\n",
       "      <td>员工</td>\n",
       "    </tr>\n",
       "    <tr>\n",
       "      <th>7</th>\n",
       "      <td>CNN008</td>\n",
       "      <td>小刚</td>\n",
       "      <td>男</td>\n",
       "      <td>市场</td>\n",
       "      <td>员工</td>\n",
       "    </tr>\n",
       "    <tr>\n",
       "      <th>8</th>\n",
       "      <td>CNN009</td>\n",
       "      <td>小丽</td>\n",
       "      <td>女</td>\n",
       "      <td>研发</td>\n",
       "      <td>主管</td>\n",
       "    </tr>\n",
       "    <tr>\n",
       "      <th>9</th>\n",
       "      <td>CNN010</td>\n",
       "      <td>小花</td>\n",
       "      <td>女</td>\n",
       "      <td>技术</td>\n",
       "      <td>员工</td>\n",
       "    </tr>\n",
       "  </tbody>\n",
       "</table>\n",
       "</div>"
      ],
      "text/plain": [
       "       编号  姓名 性别    部门  职务\n",
       "0  CNN001  小明  男    行政  员工\n",
       "1  CNN002  小红  女  人力资源  主管\n",
       "2  CNN003  小蓝  女    销售  员工\n",
       "3  CNN004  小黑  男    研发  主管\n",
       "4  CNN005  小白  男    财务  员工\n",
       "5  CNN006  小方  女    技术  员工\n",
       "6  CNN007  小梅  女        员工\n",
       "7  CNN008  小刚  男    市场  员工\n",
       "8  CNN009  小丽  女    研发  主管\n",
       "9  CNN010  小花  女    技术  员工"
      ]
     },
     "execution_count": 383,
     "metadata": {},
     "output_type": "execute_result"
    }
   ],
   "source": [
    "df_obj = pd.DataFrame({'编号':['CNN001','CNN002','CNN003','CNN004',\n",
    "                             'CNN005','CNN006','CNN007','CNN008','CNN009','CNN010'],\n",
    "                      '姓名':['小明','小红','小蓝','小黑','小白','小方',\n",
    "                            '小梅','小刚','小丽','小花'],\n",
    "                      '性别':['男','女','女','男','男','女','女','男','女','女'],\n",
    "                      '部门':['行政','人力资源','销售','研发','财务','技术','',\n",
    "                            '市场','研发','技术'],\n",
    "                      '职务':['员工','主管','员工','主管','员工','员工',\n",
    "                            '员工','员工','主管','员工']})\n",
    "df_obj"
   ]
  },
  {
   "cell_type": "code",
   "execution_count": 384,
   "id": "c4810ab0",
   "metadata": {},
   "outputs": [
    {
     "name": "stdout",
     "output_type": "stream",
     "text": [
      "写入完毕\n"
     ]
    }
   ],
   "source": [
    "df_obj.to_csv(r'employee_info.csv', index = False, encoding = 'gbk')\n",
    "print('写入完毕')"
   ]
  },
  {
   "cell_type": "markdown",
   "id": "5aa1b0be",
   "metadata": {},
   "source": [
    "2、通过read_csv()方法向文本文件读取数据"
   ]
  },
  {
   "cell_type": "code",
   "execution_count": 385,
   "id": "531ba987",
   "metadata": {},
   "outputs": [
    {
     "data": {
      "text/html": [
       "<div>\n",
       "<style scoped>\n",
       "    .dataframe tbody tr th:only-of-type {\n",
       "        vertical-align: middle;\n",
       "    }\n",
       "\n",
       "    .dataframe tbody tr th {\n",
       "        vertical-align: top;\n",
       "    }\n",
       "\n",
       "    .dataframe thead th {\n",
       "        text-align: right;\n",
       "    }\n",
       "</style>\n",
       "<table border=\"1\" class=\"dataframe\">\n",
       "  <thead>\n",
       "    <tr style=\"text-align: right;\">\n",
       "      <th></th>\n",
       "      <th>编号</th>\n",
       "      <th>姓名</th>\n",
       "      <th>性别</th>\n",
       "      <th>部门</th>\n",
       "      <th>职务</th>\n",
       "    </tr>\n",
       "  </thead>\n",
       "  <tbody>\n",
       "    <tr>\n",
       "      <th>0</th>\n",
       "      <td>CNN001</td>\n",
       "      <td>小明</td>\n",
       "      <td>男</td>\n",
       "      <td>行政</td>\n",
       "      <td>员工</td>\n",
       "    </tr>\n",
       "    <tr>\n",
       "      <th>1</th>\n",
       "      <td>CNN002</td>\n",
       "      <td>小红</td>\n",
       "      <td>女</td>\n",
       "      <td>人力资源</td>\n",
       "      <td>主管</td>\n",
       "    </tr>\n",
       "    <tr>\n",
       "      <th>2</th>\n",
       "      <td>CNN003</td>\n",
       "      <td>小蓝</td>\n",
       "      <td>女</td>\n",
       "      <td>销售</td>\n",
       "      <td>员工</td>\n",
       "    </tr>\n",
       "    <tr>\n",
       "      <th>3</th>\n",
       "      <td>CNN004</td>\n",
       "      <td>小黑</td>\n",
       "      <td>男</td>\n",
       "      <td>研发</td>\n",
       "      <td>主管</td>\n",
       "    </tr>\n",
       "    <tr>\n",
       "      <th>4</th>\n",
       "      <td>CNN005</td>\n",
       "      <td>小白</td>\n",
       "      <td>男</td>\n",
       "      <td>财务</td>\n",
       "      <td>员工</td>\n",
       "    </tr>\n",
       "    <tr>\n",
       "      <th>5</th>\n",
       "      <td>CNN006</td>\n",
       "      <td>小方</td>\n",
       "      <td>女</td>\n",
       "      <td>技术</td>\n",
       "      <td>员工</td>\n",
       "    </tr>\n",
       "    <tr>\n",
       "      <th>6</th>\n",
       "      <td>CNN007</td>\n",
       "      <td>小梅</td>\n",
       "      <td>女</td>\n",
       "      <td>NaN</td>\n",
       "      <td>员工</td>\n",
       "    </tr>\n",
       "    <tr>\n",
       "      <th>7</th>\n",
       "      <td>CNN008</td>\n",
       "      <td>小刚</td>\n",
       "      <td>男</td>\n",
       "      <td>市场</td>\n",
       "      <td>员工</td>\n",
       "    </tr>\n",
       "    <tr>\n",
       "      <th>8</th>\n",
       "      <td>CNN009</td>\n",
       "      <td>小丽</td>\n",
       "      <td>女</td>\n",
       "      <td>研发</td>\n",
       "      <td>主管</td>\n",
       "    </tr>\n",
       "    <tr>\n",
       "      <th>9</th>\n",
       "      <td>CNN010</td>\n",
       "      <td>小花</td>\n",
       "      <td>女</td>\n",
       "      <td>技术</td>\n",
       "      <td>员工</td>\n",
       "    </tr>\n",
       "  </tbody>\n",
       "</table>\n",
       "</div>"
      ],
      "text/plain": [
       "       编号  姓名 性别    部门  职务\n",
       "0  CNN001  小明  男    行政  员工\n",
       "1  CNN002  小红  女  人力资源  主管\n",
       "2  CNN003  小蓝  女    销售  员工\n",
       "3  CNN004  小黑  男    研发  主管\n",
       "4  CNN005  小白  男    财务  员工\n",
       "5  CNN006  小方  女    技术  员工\n",
       "6  CNN007  小梅  女   NaN  员工\n",
       "7  CNN008  小刚  男    市场  员工\n",
       "8  CNN009  小丽  女    研发  主管\n",
       "9  CNN010  小花  女    技术  员工"
      ]
     },
     "execution_count": 385,
     "metadata": {},
     "output_type": "execute_result"
    }
   ],
   "source": [
    "df_obj = pd.read_csv(r'employee_info.csv', encoding = 'gbk')\n",
    "df_obj"
   ]
  },
  {
   "cell_type": "code",
   "execution_count": 386,
   "id": "f5732d29",
   "metadata": {},
   "outputs": [
    {
     "data": {
      "text/html": [
       "<div>\n",
       "<style scoped>\n",
       "    .dataframe tbody tr th:only-of-type {\n",
       "        vertical-align: middle;\n",
       "    }\n",
       "\n",
       "    .dataframe tbody tr th {\n",
       "        vertical-align: top;\n",
       "    }\n",
       "\n",
       "    .dataframe thead th {\n",
       "        text-align: right;\n",
       "    }\n",
       "</style>\n",
       "<table border=\"1\" class=\"dataframe\">\n",
       "  <thead>\n",
       "    <tr style=\"text-align: right;\">\n",
       "      <th></th>\n",
       "      <th>编号,姓名,性别,部门,职务</th>\n",
       "    </tr>\n",
       "  </thead>\n",
       "  <tbody>\n",
       "    <tr>\n",
       "      <th>0</th>\n",
       "      <td>CNN001,小明,男,行政,员工</td>\n",
       "    </tr>\n",
       "    <tr>\n",
       "      <th>1</th>\n",
       "      <td>CNN002,小红,女,人力资源,主管</td>\n",
       "    </tr>\n",
       "    <tr>\n",
       "      <th>2</th>\n",
       "      <td>CNN003,小蓝,女,销售,员工</td>\n",
       "    </tr>\n",
       "    <tr>\n",
       "      <th>3</th>\n",
       "      <td>CNN004,小黑,男,研发,主管</td>\n",
       "    </tr>\n",
       "    <tr>\n",
       "      <th>4</th>\n",
       "      <td>CNN005,小白,男,财务,员工</td>\n",
       "    </tr>\n",
       "    <tr>\n",
       "      <th>5</th>\n",
       "      <td>CNN006,小方,女,技术,员工</td>\n",
       "    </tr>\n",
       "    <tr>\n",
       "      <th>6</th>\n",
       "      <td>CNN007,小梅,女,,员工</td>\n",
       "    </tr>\n",
       "    <tr>\n",
       "      <th>7</th>\n",
       "      <td>CNN008,小刚,男,市场,员工</td>\n",
       "    </tr>\n",
       "    <tr>\n",
       "      <th>8</th>\n",
       "      <td>CNN009,小丽,女,研发,主管</td>\n",
       "    </tr>\n",
       "    <tr>\n",
       "      <th>9</th>\n",
       "      <td>CNN010,小花,女,技术,员工</td>\n",
       "    </tr>\n",
       "  </tbody>\n",
       "</table>\n",
       "</div>"
      ],
      "text/plain": [
       "        编号,姓名,性别,部门,职务\n",
       "0    CNN001,小明,男,行政,员工\n",
       "1  CNN002,小红,女,人力资源,主管\n",
       "2    CNN003,小蓝,女,销售,员工\n",
       "3    CNN004,小黑,男,研发,主管\n",
       "4    CNN005,小白,男,财务,员工\n",
       "5    CNN006,小方,女,技术,员工\n",
       "6      CNN007,小梅,女,,员工\n",
       "7    CNN008,小刚,男,市场,员工\n",
       "8    CNN009,小丽,女,研发,主管\n",
       "9    CNN010,小花,女,技术,员工"
      ]
     },
     "execution_count": 386,
     "metadata": {},
     "output_type": "execute_result"
    }
   ],
   "source": [
    "df_obj = pd.read_table(r'employee_info.csv', encoding = 'gbk')\n",
    "df_obj"
   ]
  },
  {
   "cell_type": "code",
   "execution_count": 387,
   "id": "108c60fe",
   "metadata": {},
   "outputs": [
    {
     "data": {
      "text/html": [
       "<div>\n",
       "<style scoped>\n",
       "    .dataframe tbody tr th:only-of-type {\n",
       "        vertical-align: middle;\n",
       "    }\n",
       "\n",
       "    .dataframe tbody tr th {\n",
       "        vertical-align: top;\n",
       "    }\n",
       "\n",
       "    .dataframe thead th {\n",
       "        text-align: right;\n",
       "    }\n",
       "</style>\n",
       "<table border=\"1\" class=\"dataframe\">\n",
       "  <thead>\n",
       "    <tr style=\"text-align: right;\">\n",
       "      <th></th>\n",
       "      <th>编号,姓名,性别,部门,职务</th>\n",
       "    </tr>\n",
       "  </thead>\n",
       "  <tbody>\n",
       "    <tr>\n",
       "      <th>0</th>\n",
       "      <td>CNN001,小明,男,行政,员工</td>\n",
       "    </tr>\n",
       "    <tr>\n",
       "      <th>1</th>\n",
       "      <td>CNN002,小红,女,人力资源,主管</td>\n",
       "    </tr>\n",
       "    <tr>\n",
       "      <th>2</th>\n",
       "      <td>CNN003,小蓝,女,销售,员工</td>\n",
       "    </tr>\n",
       "    <tr>\n",
       "      <th>3</th>\n",
       "      <td>CNN004,小黑,男,研发,主管</td>\n",
       "    </tr>\n",
       "    <tr>\n",
       "      <th>4</th>\n",
       "      <td>CNN005,小白,男,财务,员工</td>\n",
       "    </tr>\n",
       "  </tbody>\n",
       "</table>\n",
       "</div>"
      ],
      "text/plain": [
       "        编号,姓名,性别,部门,职务\n",
       "0    CNN001,小明,男,行政,员工\n",
       "1  CNN002,小红,女,人力资源,主管\n",
       "2    CNN003,小蓝,女,销售,员工\n",
       "3    CNN004,小黑,男,研发,主管\n",
       "4    CNN005,小白,男,财务,员工"
      ]
     },
     "execution_count": 387,
     "metadata": {},
     "output_type": "execute_result"
    }
   ],
   "source": [
    "df_obj.head()"
   ]
  },
  {
   "cell_type": "code",
   "execution_count": 388,
   "id": "a3fd72f5",
   "metadata": {},
   "outputs": [
    {
     "data": {
      "text/html": [
       "<div>\n",
       "<style scoped>\n",
       "    .dataframe tbody tr th:only-of-type {\n",
       "        vertical-align: middle;\n",
       "    }\n",
       "\n",
       "    .dataframe tbody tr th {\n",
       "        vertical-align: top;\n",
       "    }\n",
       "\n",
       "    .dataframe thead th {\n",
       "        text-align: right;\n",
       "    }\n",
       "</style>\n",
       "<table border=\"1\" class=\"dataframe\">\n",
       "  <thead>\n",
       "    <tr style=\"text-align: right;\">\n",
       "      <th></th>\n",
       "      <th>编号,姓名,性别,部门,职务</th>\n",
       "    </tr>\n",
       "  </thead>\n",
       "  <tbody>\n",
       "    <tr>\n",
       "      <th>0</th>\n",
       "      <td>CNN001,小明,男,行政,员工</td>\n",
       "    </tr>\n",
       "    <tr>\n",
       "      <th>1</th>\n",
       "      <td>CNN002,小红,女,人力资源,主管</td>\n",
       "    </tr>\n",
       "    <tr>\n",
       "      <th>2</th>\n",
       "      <td>CNN003,小蓝,女,销售,员工</td>\n",
       "    </tr>\n",
       "  </tbody>\n",
       "</table>\n",
       "</div>"
      ],
      "text/plain": [
       "        编号,姓名,性别,部门,职务\n",
       "0    CNN001,小明,男,行政,员工\n",
       "1  CNN002,小红,女,人力资源,主管\n",
       "2    CNN003,小蓝,女,销售,员工"
      ]
     },
     "execution_count": 388,
     "metadata": {},
     "output_type": "execute_result"
    }
   ],
   "source": [
    "df_obj.head(3)"
   ]
  },
  {
   "cell_type": "code",
   "execution_count": 389,
   "id": "257a6e50",
   "metadata": {},
   "outputs": [
    {
     "data": {
      "text/html": [
       "<div>\n",
       "<style scoped>\n",
       "    .dataframe tbody tr th:only-of-type {\n",
       "        vertical-align: middle;\n",
       "    }\n",
       "\n",
       "    .dataframe tbody tr th {\n",
       "        vertical-align: top;\n",
       "    }\n",
       "\n",
       "    .dataframe thead th {\n",
       "        text-align: right;\n",
       "    }\n",
       "</style>\n",
       "<table border=\"1\" class=\"dataframe\">\n",
       "  <thead>\n",
       "    <tr style=\"text-align: right;\">\n",
       "      <th></th>\n",
       "      <th>编号,姓名,性别,部门,职务</th>\n",
       "    </tr>\n",
       "  </thead>\n",
       "  <tbody>\n",
       "    <tr>\n",
       "      <th>5</th>\n",
       "      <td>CNN006,小方,女,技术,员工</td>\n",
       "    </tr>\n",
       "    <tr>\n",
       "      <th>6</th>\n",
       "      <td>CNN007,小梅,女,,员工</td>\n",
       "    </tr>\n",
       "    <tr>\n",
       "      <th>7</th>\n",
       "      <td>CNN008,小刚,男,市场,员工</td>\n",
       "    </tr>\n",
       "    <tr>\n",
       "      <th>8</th>\n",
       "      <td>CNN009,小丽,女,研发,主管</td>\n",
       "    </tr>\n",
       "    <tr>\n",
       "      <th>9</th>\n",
       "      <td>CNN010,小花,女,技术,员工</td>\n",
       "    </tr>\n",
       "  </tbody>\n",
       "</table>\n",
       "</div>"
      ],
      "text/plain": [
       "      编号,姓名,性别,部门,职务\n",
       "5  CNN006,小方,女,技术,员工\n",
       "6    CNN007,小梅,女,,员工\n",
       "7  CNN008,小刚,男,市场,员工\n",
       "8  CNN009,小丽,女,研发,主管\n",
       "9  CNN010,小花,女,技术,员工"
      ]
     },
     "execution_count": 389,
     "metadata": {},
     "output_type": "execute_result"
    }
   ],
   "source": [
    "df_obj.tail()"
   ]
  },
  {
   "cell_type": "code",
   "execution_count": 390,
   "id": "a010a96a",
   "metadata": {},
   "outputs": [
    {
     "data": {
      "text/html": [
       "<div>\n",
       "<style scoped>\n",
       "    .dataframe tbody tr th:only-of-type {\n",
       "        vertical-align: middle;\n",
       "    }\n",
       "\n",
       "    .dataframe tbody tr th {\n",
       "        vertical-align: top;\n",
       "    }\n",
       "\n",
       "    .dataframe thead th {\n",
       "        text-align: right;\n",
       "    }\n",
       "</style>\n",
       "<table border=\"1\" class=\"dataframe\">\n",
       "  <thead>\n",
       "    <tr style=\"text-align: right;\">\n",
       "      <th></th>\n",
       "      <th>编号,姓名,性别,部门,职务</th>\n",
       "    </tr>\n",
       "  </thead>\n",
       "  <tbody>\n",
       "    <tr>\n",
       "      <th>7</th>\n",
       "      <td>CNN008,小刚,男,市场,员工</td>\n",
       "    </tr>\n",
       "    <tr>\n",
       "      <th>8</th>\n",
       "      <td>CNN009,小丽,女,研发,主管</td>\n",
       "    </tr>\n",
       "    <tr>\n",
       "      <th>9</th>\n",
       "      <td>CNN010,小花,女,技术,员工</td>\n",
       "    </tr>\n",
       "  </tbody>\n",
       "</table>\n",
       "</div>"
      ],
      "text/plain": [
       "      编号,姓名,性别,部门,职务\n",
       "7  CNN008,小刚,男,市场,员工\n",
       "8  CNN009,小丽,女,研发,主管\n",
       "9  CNN010,小花,女,技术,员工"
      ]
     },
     "execution_count": 390,
     "metadata": {},
     "output_type": "execute_result"
    }
   ],
   "source": [
    "df_obj.tail(3)"
   ]
  },
  {
   "cell_type": "markdown",
   "id": "4b56c1e2",
   "metadata": {},
   "source": [
    "3.3.2 读写EXCEL文件的数据"
   ]
  },
  {
   "cell_type": "markdown",
   "id": "e0dcf585",
   "metadata": {},
   "source": [
    "1、通过to_excel()方法向Excel文件写入数据"
   ]
  },
  {
   "cell_type": "code",
   "execution_count": 391,
   "id": "02a554bd",
   "metadata": {},
   "outputs": [
    {
     "data": {
      "text/html": [
       "<div>\n",
       "<style scoped>\n",
       "    .dataframe tbody tr th:only-of-type {\n",
       "        vertical-align: middle;\n",
       "    }\n",
       "\n",
       "    .dataframe tbody tr th {\n",
       "        vertical-align: top;\n",
       "    }\n",
       "\n",
       "    .dataframe thead th {\n",
       "        text-align: right;\n",
       "    }\n",
       "</style>\n",
       "<table border=\"1\" class=\"dataframe\">\n",
       "  <thead>\n",
       "    <tr style=\"text-align: right;\">\n",
       "      <th></th>\n",
       "      <th>手机名称</th>\n",
       "      <th>机身内存</th>\n",
       "      <th>运行内存</th>\n",
       "      <th>颜色</th>\n",
       "      <th>价格</th>\n",
       "    </tr>\n",
       "  </thead>\n",
       "  <tbody>\n",
       "    <tr>\n",
       "      <th>0</th>\n",
       "      <td>华为mate50 Pro</td>\n",
       "      <td>256GB</td>\n",
       "      <td>8GB</td>\n",
       "      <td>耀金黑</td>\n",
       "      <td>6799</td>\n",
       "    </tr>\n",
       "    <tr>\n",
       "      <th>1</th>\n",
       "      <td>华为畅享 50 Pro</td>\n",
       "      <td>256GB</td>\n",
       "      <td>8GB</td>\n",
       "      <td>幻夜黑</td>\n",
       "      <td>1799</td>\n",
       "    </tr>\n",
       "    <tr>\n",
       "      <th>2</th>\n",
       "      <td>华为 P50</td>\n",
       "      <td>128GB</td>\n",
       "      <td>8GB</td>\n",
       "      <td>可可茶金</td>\n",
       "      <td>3758</td>\n",
       "    </tr>\n",
       "    <tr>\n",
       "      <th>3</th>\n",
       "      <td>华为智选 优畅享50</td>\n",
       "      <td>128GB</td>\n",
       "      <td>8GB</td>\n",
       "      <td>月光银</td>\n",
       "      <td>999</td>\n",
       "    </tr>\n",
       "    <tr>\n",
       "      <th>4</th>\n",
       "      <td>华为P50 Pocket</td>\n",
       "      <td>256GB</td>\n",
       "      <td>8GB</td>\n",
       "      <td>云锦白</td>\n",
       "      <td>8188</td>\n",
       "    </tr>\n",
       "  </tbody>\n",
       "</table>\n",
       "</div>"
      ],
      "text/plain": [
       "           手机名称   机身内存 运行内存    颜色    价格\n",
       "0  华为mate50 Pro  256GB  8GB   耀金黑  6799\n",
       "1   华为畅享 50 Pro  256GB  8GB   幻夜黑  1799\n",
       "2        华为 P50  128GB  8GB  可可茶金  3758\n",
       "3    华为智选 优畅享50  128GB  8GB   月光银   999\n",
       "4  华为P50 Pocket  256GB  8GB   云锦白  8188"
      ]
     },
     "execution_count": 391,
     "metadata": {},
     "output_type": "execute_result"
    }
   ],
   "source": [
    "df_obj = pd.DataFrame({\n",
    "    '手机名称':['华为mate50 Pro','华为畅享 50 Pro','华为 P50','华为智选 优畅享50','华为P50 Pocket'],\n",
    "    '机身内存':['256GB','256GB','128GB','128GB','256GB'],\n",
    "    '运行内存':['8GB','8GB','8GB','8GB','8GB'],\n",
    "    '颜色':['耀金黑','幻夜黑','可可茶金','月光银','云锦白'],\n",
    "    '价格':['6799','1799','3758','999','8188']})\n",
    "df_obj"
   ]
  },
  {
   "cell_type": "code",
   "execution_count": 392,
   "id": "d63a2c9c",
   "metadata": {},
   "outputs": [
    {
     "name": "stdout",
     "output_type": "stream",
     "text": [
      "写入完毕\n"
     ]
    }
   ],
   "source": [
    "df_obj.to_excel(r'phones.xlsx')\n",
    "print('写入完毕')"
   ]
  },
  {
   "cell_type": "markdown",
   "id": "e1762d11",
   "metadata": {},
   "source": [
    "2、通过read_excel()方法向Excel文件读取数据"
   ]
  },
  {
   "cell_type": "code",
   "execution_count": 393,
   "id": "bea548d0",
   "metadata": {},
   "outputs": [
    {
     "data": {
      "text/html": [
       "<div>\n",
       "<style scoped>\n",
       "    .dataframe tbody tr th:only-of-type {\n",
       "        vertical-align: middle;\n",
       "    }\n",
       "\n",
       "    .dataframe tbody tr th {\n",
       "        vertical-align: top;\n",
       "    }\n",
       "\n",
       "    .dataframe thead th {\n",
       "        text-align: right;\n",
       "    }\n",
       "</style>\n",
       "<table border=\"1\" class=\"dataframe\">\n",
       "  <thead>\n",
       "    <tr style=\"text-align: right;\">\n",
       "      <th></th>\n",
       "      <th>Unnamed: 0</th>\n",
       "      <th>手机名称</th>\n",
       "      <th>机身内存</th>\n",
       "      <th>运行内存</th>\n",
       "      <th>颜色</th>\n",
       "      <th>价格</th>\n",
       "    </tr>\n",
       "  </thead>\n",
       "  <tbody>\n",
       "    <tr>\n",
       "      <th>0</th>\n",
       "      <td>0</td>\n",
       "      <td>华为mate50 Pro</td>\n",
       "      <td>256GB</td>\n",
       "      <td>8GB</td>\n",
       "      <td>耀金黑</td>\n",
       "      <td>6799</td>\n",
       "    </tr>\n",
       "    <tr>\n",
       "      <th>1</th>\n",
       "      <td>1</td>\n",
       "      <td>华为畅享 50 Pro</td>\n",
       "      <td>256GB</td>\n",
       "      <td>8GB</td>\n",
       "      <td>幻夜黑</td>\n",
       "      <td>1799</td>\n",
       "    </tr>\n",
       "    <tr>\n",
       "      <th>2</th>\n",
       "      <td>2</td>\n",
       "      <td>华为 P50</td>\n",
       "      <td>128GB</td>\n",
       "      <td>8GB</td>\n",
       "      <td>可可茶金</td>\n",
       "      <td>3758</td>\n",
       "    </tr>\n",
       "    <tr>\n",
       "      <th>3</th>\n",
       "      <td>3</td>\n",
       "      <td>华为智选 优畅享50</td>\n",
       "      <td>128GB</td>\n",
       "      <td>8GB</td>\n",
       "      <td>月光银</td>\n",
       "      <td>999</td>\n",
       "    </tr>\n",
       "    <tr>\n",
       "      <th>4</th>\n",
       "      <td>4</td>\n",
       "      <td>华为P50 Pocket</td>\n",
       "      <td>256GB</td>\n",
       "      <td>8GB</td>\n",
       "      <td>云锦白</td>\n",
       "      <td>8188</td>\n",
       "    </tr>\n",
       "  </tbody>\n",
       "</table>\n",
       "</div>"
      ],
      "text/plain": [
       "   Unnamed: 0          手机名称   机身内存 运行内存    颜色    价格\n",
       "0           0  华为mate50 Pro  256GB  8GB   耀金黑  6799\n",
       "1           1   华为畅享 50 Pro  256GB  8GB   幻夜黑  1799\n",
       "2           2        华为 P50  128GB  8GB  可可茶金  3758\n",
       "3           3    华为智选 优畅享50  128GB  8GB   月光银   999\n",
       "4           4  华为P50 Pocket  256GB  8GB   云锦白  8188"
      ]
     },
     "execution_count": 393,
     "metadata": {},
     "output_type": "execute_result"
    }
   ],
   "source": [
    "df_obj = pd.read_excel(r'phones.xlsx')\n",
    "df_obj"
   ]
  },
  {
   "cell_type": "code",
   "execution_count": 394,
   "id": "501d147a",
   "metadata": {},
   "outputs": [
    {
     "data": {
      "text/html": [
       "<div>\n",
       "<style scoped>\n",
       "    .dataframe tbody tr th:only-of-type {\n",
       "        vertical-align: middle;\n",
       "    }\n",
       "\n",
       "    .dataframe tbody tr th {\n",
       "        vertical-align: top;\n",
       "    }\n",
       "\n",
       "    .dataframe thead th {\n",
       "        text-align: right;\n",
       "    }\n",
       "</style>\n",
       "<table border=\"1\" class=\"dataframe\">\n",
       "  <thead>\n",
       "    <tr style=\"text-align: right;\">\n",
       "      <th></th>\n",
       "      <th>手机名称</th>\n",
       "      <th>机身内存</th>\n",
       "      <th>运行内存</th>\n",
       "      <th>颜色</th>\n",
       "      <th>价格</th>\n",
       "    </tr>\n",
       "  </thead>\n",
       "  <tbody>\n",
       "    <tr>\n",
       "      <th>0</th>\n",
       "      <td>华为mate50 Pro</td>\n",
       "      <td>256GB</td>\n",
       "      <td>8GB</td>\n",
       "      <td>耀金黑</td>\n",
       "      <td>6799</td>\n",
       "    </tr>\n",
       "    <tr>\n",
       "      <th>1</th>\n",
       "      <td>华为畅享 50 Pro</td>\n",
       "      <td>256GB</td>\n",
       "      <td>8GB</td>\n",
       "      <td>幻夜黑</td>\n",
       "      <td>1799</td>\n",
       "    </tr>\n",
       "    <tr>\n",
       "      <th>2</th>\n",
       "      <td>华为 P50</td>\n",
       "      <td>128GB</td>\n",
       "      <td>8GB</td>\n",
       "      <td>可可茶金</td>\n",
       "      <td>3758</td>\n",
       "    </tr>\n",
       "    <tr>\n",
       "      <th>3</th>\n",
       "      <td>华为智选 优畅享50</td>\n",
       "      <td>128GB</td>\n",
       "      <td>8GB</td>\n",
       "      <td>月光银</td>\n",
       "      <td>999</td>\n",
       "    </tr>\n",
       "    <tr>\n",
       "      <th>4</th>\n",
       "      <td>华为P50 Pocket</td>\n",
       "      <td>256GB</td>\n",
       "      <td>8GB</td>\n",
       "      <td>云锦白</td>\n",
       "      <td>8188</td>\n",
       "    </tr>\n",
       "  </tbody>\n",
       "</table>\n",
       "</div>"
      ],
      "text/plain": [
       "           手机名称   机身内存 运行内存    颜色    价格\n",
       "0  华为mate50 Pro  256GB  8GB   耀金黑  6799\n",
       "1   华为畅享 50 Pro  256GB  8GB   幻夜黑  1799\n",
       "2        华为 P50  128GB  8GB  可可茶金  3758\n",
       "3    华为智选 优畅享50  128GB  8GB   月光银   999\n",
       "4  华为P50 Pocket  256GB  8GB   云锦白  8188"
      ]
     },
     "execution_count": 394,
     "metadata": {},
     "output_type": "execute_result"
    }
   ],
   "source": [
    "df_obj = pd.read_excel(r'phones.xlsx', usecols = [1,2,3,4,5])\n",
    "df_obj"
   ]
  },
  {
   "cell_type": "markdown",
   "id": "a7cd45db",
   "metadata": {},
   "source": [
    "3.3.3 读取网页表格的数据"
   ]
  },
  {
   "cell_type": "code",
   "execution_count": 395,
   "id": "d4d8b69e",
   "metadata": {},
   "outputs": [
    {
     "data": {
      "text/html": [
       "<div>\n",
       "<style scoped>\n",
       "    .dataframe tbody tr th:only-of-type {\n",
       "        vertical-align: middle;\n",
       "    }\n",
       "\n",
       "    .dataframe tbody tr th {\n",
       "        vertical-align: top;\n",
       "    }\n",
       "\n",
       "    .dataframe thead th {\n",
       "        text-align: right;\n",
       "    }\n",
       "</style>\n",
       "<table border=\"1\" class=\"dataframe\">\n",
       "  <thead>\n",
       "    <tr style=\"text-align: right;\">\n",
       "      <th></th>\n",
       "      <th>Year</th>\n",
       "      <th>Winner</th>\n",
       "    </tr>\n",
       "  </thead>\n",
       "  <tbody>\n",
       "    <tr>\n",
       "      <th>0</th>\n",
       "      <td>2024</td>\n",
       "      <td>Python</td>\n",
       "    </tr>\n",
       "    <tr>\n",
       "      <th>1</th>\n",
       "      <td>2023</td>\n",
       "      <td>C#</td>\n",
       "    </tr>\n",
       "    <tr>\n",
       "      <th>2</th>\n",
       "      <td>2022</td>\n",
       "      <td>C++</td>\n",
       "    </tr>\n",
       "    <tr>\n",
       "      <th>3</th>\n",
       "      <td>2021</td>\n",
       "      <td>Python</td>\n",
       "    </tr>\n",
       "    <tr>\n",
       "      <th>4</th>\n",
       "      <td>2020</td>\n",
       "      <td>Python</td>\n",
       "    </tr>\n",
       "    <tr>\n",
       "      <th>5</th>\n",
       "      <td>2019</td>\n",
       "      <td>C</td>\n",
       "    </tr>\n",
       "    <tr>\n",
       "      <th>6</th>\n",
       "      <td>2018</td>\n",
       "      <td>Python</td>\n",
       "    </tr>\n",
       "    <tr>\n",
       "      <th>7</th>\n",
       "      <td>2017</td>\n",
       "      <td>C</td>\n",
       "    </tr>\n",
       "    <tr>\n",
       "      <th>8</th>\n",
       "      <td>2016</td>\n",
       "      <td>Go</td>\n",
       "    </tr>\n",
       "    <tr>\n",
       "      <th>9</th>\n",
       "      <td>2015</td>\n",
       "      <td>Java</td>\n",
       "    </tr>\n",
       "    <tr>\n",
       "      <th>10</th>\n",
       "      <td>2014</td>\n",
       "      <td>JavaScript</td>\n",
       "    </tr>\n",
       "    <tr>\n",
       "      <th>11</th>\n",
       "      <td>2013</td>\n",
       "      <td>Transact-SQL</td>\n",
       "    </tr>\n",
       "    <tr>\n",
       "      <th>12</th>\n",
       "      <td>2012</td>\n",
       "      <td>Objective-C</td>\n",
       "    </tr>\n",
       "    <tr>\n",
       "      <th>13</th>\n",
       "      <td>2011</td>\n",
       "      <td>Objective-C</td>\n",
       "    </tr>\n",
       "    <tr>\n",
       "      <th>14</th>\n",
       "      <td>2010</td>\n",
       "      <td>Python</td>\n",
       "    </tr>\n",
       "    <tr>\n",
       "      <th>15</th>\n",
       "      <td>2009</td>\n",
       "      <td>Go</td>\n",
       "    </tr>\n",
       "    <tr>\n",
       "      <th>16</th>\n",
       "      <td>2008</td>\n",
       "      <td>C</td>\n",
       "    </tr>\n",
       "    <tr>\n",
       "      <th>17</th>\n",
       "      <td>2007</td>\n",
       "      <td>Python</td>\n",
       "    </tr>\n",
       "    <tr>\n",
       "      <th>18</th>\n",
       "      <td>2006</td>\n",
       "      <td>Ruby</td>\n",
       "    </tr>\n",
       "    <tr>\n",
       "      <th>19</th>\n",
       "      <td>2005</td>\n",
       "      <td>Java</td>\n",
       "    </tr>\n",
       "    <tr>\n",
       "      <th>20</th>\n",
       "      <td>2004</td>\n",
       "      <td>PHP</td>\n",
       "    </tr>\n",
       "    <tr>\n",
       "      <th>21</th>\n",
       "      <td>2003</td>\n",
       "      <td>C++</td>\n",
       "    </tr>\n",
       "  </tbody>\n",
       "</table>\n",
       "</div>"
      ],
      "text/plain": [
       "    Year        Winner\n",
       "0   2024        Python\n",
       "1   2023            C#\n",
       "2   2022           C++\n",
       "3   2021        Python\n",
       "4   2020        Python\n",
       "5   2019             C\n",
       "6   2018        Python\n",
       "7   2017             C\n",
       "8   2016            Go\n",
       "9   2015          Java\n",
       "10  2014    JavaScript\n",
       "11  2013  Transact-SQL\n",
       "12  2012   Objective-C\n",
       "13  2011   Objective-C\n",
       "14  2010        Python\n",
       "15  2009            Go\n",
       "16  2008             C\n",
       "17  2007        Python\n",
       "18  2006          Ruby\n",
       "19  2005          Java\n",
       "20  2004           PHP\n",
       "21  2003           C++"
      ]
     },
     "execution_count": 395,
     "metadata": {},
     "output_type": "execute_result"
    }
   ],
   "source": [
    "tables = pd.read_html(io = 'https://www.tiobe.com/tiobe-index/')\n",
    "tables[3]"
   ]
  },
  {
   "cell_type": "markdown",
   "id": "0820bb1d",
   "metadata": {},
   "source": [
    "3.3.4 读写数据库"
   ]
  },
  {
   "cell_type": "markdown",
   "id": "94a2be43",
   "metadata": {},
   "source": [
    "1、通过to_sql()方法向数据库写入数据"
   ]
  },
  {
   "cell_type": "code",
   "execution_count": 398,
   "id": "27b6028d",
   "metadata": {},
   "outputs": [
    {
     "ename": "SyntaxError",
     "evalue": "invalid character '，' (U+FF0C) (1365138720.py, line 4)",
     "output_type": "error",
     "traceback": [
      "\u001b[1;36m  Cell \u001b[1;32mIn[398], line 4\u001b[1;36m\u001b[0m\n\u001b[1;33m    \"男生人数\":[25,23,27,30]，\u001b[0m\n\u001b[1;37m                        ^\u001b[0m\n\u001b[1;31mSyntaxError\u001b[0m\u001b[1;31m:\u001b[0m invalid character '，' (U+FF0C)\n"
     ]
    }
   ],
   "source": [
    "from sqlalchemy import create_engine\n",
    "from sqlalchemy.types import *\n",
    "df = DataFrame({\"班级\":[\"一年级\",\"二年级\",\"三年级\",\"四年级\"],\n",
    "               \"男生人数\":[25,23,27,30]，\n",
    "               \"女生人数\":[19,17,20,20]})"
   ]
  },
  {
   "cell_type": "code",
   "execution_count": null,
   "id": "1ab9777a",
   "metadata": {},
   "outputs": [],
   "source": [
    "from sqlalchemy import create_engine\n",
    "# engine = create_engine('mysql+pymysql://root:123456'\n",
    "#                        '@127.0.0.1/students_info')\n",
    "# df.to_sql('students', engine)"
   ]
  },
  {
   "cell_type": "markdown",
   "id": "09ddd09c",
   "metadata": {},
   "source": [
    "2、通过read_sql()方法向数据库读取数据"
   ]
  },
  {
   "cell_type": "code",
   "execution_count": null,
   "id": "b8904097",
   "metadata": {},
   "outputs": [],
   "source": [
    "# engine = create_engine('mysql+pymysql://root:123456'\n",
    "#                        '@127.0.0.1/students_info')\n",
    "# df.read_sql('person_info', engine)"
   ]
  },
  {
   "cell_type": "code",
   "execution_count": null,
   "id": "a67231bc",
   "metadata": {},
   "outputs": [],
   "source": [
    "# engine = create_engine('mysql+pymysql://root:123456'\n",
    "#                        '@127.0.0.1/students_info')\n",
    "# sql = 'select * from person_info where id > 3;'\n",
    "# df.read_sql(sql, engine)"
   ]
  },
  {
   "cell_type": "markdown",
   "id": "a465ddb5",
   "metadata": {},
   "source": [
    "3.4 数据排序"
   ]
  },
  {
   "cell_type": "markdown",
   "id": "09bde891",
   "metadata": {},
   "source": [
    "3.4.1 按索引排序"
   ]
  },
  {
   "cell_type": "code",
   "execution_count": null,
   "id": "75fa3160",
   "metadata": {},
   "outputs": [],
   "source": [
    "df_obj = pd.DataFrame(np.arange(9).reshape(3, 3), index = [4, 3, 5])\n",
    "df_obj"
   ]
  },
  {
   "cell_type": "code",
   "execution_count": null,
   "id": "f49bd22d",
   "metadata": {},
   "outputs": [],
   "source": [
    "df_obj.sort_index()"
   ]
  },
  {
   "cell_type": "code",
   "execution_count": null,
   "id": "02f4ab5b",
   "metadata": {},
   "outputs": [],
   "source": [
    "df_obj.sort_index(ascending = False)"
   ]
  },
  {
   "cell_type": "markdown",
   "id": "4cc6d046",
   "metadata": {},
   "source": [
    "3.4.2 按值排序"
   ]
  },
  {
   "cell_type": "code",
   "execution_count": null,
   "id": "5898082d",
   "metadata": {
    "scrolled": true
   },
   "outputs": [],
   "source": [
    "ser_obj = pd.Series([4, np.NaN, 6, np.nan, -3, 2])\n",
    "ser_obj"
   ]
  },
  {
   "cell_type": "code",
   "execution_count": null,
   "id": "4102bcb0",
   "metadata": {},
   "outputs": [],
   "source": [
    "df_obj = pd.DataFrame([[0.4, -0.1, -0.3, 0.0],\n",
    "                       [0.2, 0.6, -0.1, -0.7],\n",
    "                       [0.8, 0.6, -0.5, 0.1]])\n",
    "df_obj"
   ]
  },
  {
   "cell_type": "code",
   "execution_count": null,
   "id": "b0b0cecd",
   "metadata": {},
   "outputs": [],
   "source": [
    "df_obj.sort_values(by = 2)"
   ]
  },
  {
   "cell_type": "markdown",
   "id": "08924385",
   "metadata": {},
   "source": [
    "3.5 算术运算与数据对齐"
   ]
  },
  {
   "cell_type": "code",
   "execution_count": null,
   "id": "e4657aff",
   "metadata": {},
   "outputs": [],
   "source": [
    "obj_one = pd.Series(range(10,13), index = range(3))\n",
    "obj_one"
   ]
  },
  {
   "cell_type": "code",
   "execution_count": null,
   "id": "09f0f415",
   "metadata": {},
   "outputs": [],
   "source": [
    "obj_two = pd.Series(range(20,25), index = range(5))\n",
    "obj_two"
   ]
  },
  {
   "cell_type": "code",
   "execution_count": null,
   "id": "af504fd2",
   "metadata": {},
   "outputs": [],
   "source": [
    "obj_one + obj_two"
   ]
  },
  {
   "cell_type": "code",
   "execution_count": null,
   "id": "6a42cf77",
   "metadata": {},
   "outputs": [],
   "source": [
    "obj_one.add(obj_two ,fill_value = 0)"
   ]
  },
  {
   "cell_type": "markdown",
   "id": "d0cfeb88",
   "metadata": {},
   "source": [
    "3.6 统计计算与描述"
   ]
  },
  {
   "cell_type": "markdown",
   "id": "9de8149b",
   "metadata": {},
   "source": [
    "3.6.1 统计计算"
   ]
  },
  {
   "cell_type": "code",
   "execution_count": null,
   "id": "16999d38",
   "metadata": {},
   "outputs": [],
   "source": [
    "df_obj = pd.DataFrame(np.arange(12).reshape(3, 4), columns = ['a', 'b', 'c', 'd'])\n",
    "df_obj"
   ]
  },
  {
   "cell_type": "code",
   "execution_count": null,
   "id": "5dc39c5a",
   "metadata": {},
   "outputs": [],
   "source": [
    "df_obj.sum()"
   ]
  },
  {
   "cell_type": "code",
   "execution_count": null,
   "id": "436cb4ae",
   "metadata": {},
   "outputs": [],
   "source": [
    "df_obj.max()"
   ]
  },
  {
   "cell_type": "code",
   "execution_count": null,
   "id": "f6dc2209",
   "metadata": {},
   "outputs": [],
   "source": [
    "df_obj.min(axis = 1)"
   ]
  },
  {
   "cell_type": "markdown",
   "id": "17c961ca",
   "metadata": {},
   "source": [
    "3.6.2 统计描述"
   ]
  },
  {
   "cell_type": "code",
   "execution_count": null,
   "id": "185cdd12",
   "metadata": {},
   "outputs": [],
   "source": [
    "df_obj = pd.DataFrame([[12, 6, -11, 19],\n",
    "                       [-1, 7, 50, 36],\n",
    "                       [5, 9, 23, 28]])\n",
    "df_obj"
   ]
  },
  {
   "cell_type": "code",
   "execution_count": null,
   "id": "382b1581",
   "metadata": {},
   "outputs": [],
   "source": [
    "df_obj.describe()"
   ]
  },
  {
   "cell_type": "markdown",
   "id": "ad100311",
   "metadata": {},
   "source": [
    "3.7 分层索引操作"
   ]
  },
  {
   "cell_type": "markdown",
   "id": "7402bc84",
   "metadata": {},
   "source": [
    "3.7.1 创建分层索引"
   ]
  },
  {
   "cell_type": "markdown",
   "id": "38dd8b14",
   "metadata": {},
   "source": [
    "1.通过from_tuples()方法创建MultiIndex类的对象"
   ]
  },
  {
   "cell_type": "code",
   "execution_count": null,
   "id": "9520c13b",
   "metadata": {},
   "outputs": [],
   "source": [
    "from pandas import MultiIndex\n",
    "list_tuples = [('A', 'A1'), ('A', 'A2'), ('B', 'B1'), ('B', 'B2'), ('B', 'B3')]\n",
    "multi_index = MultiIndex.from_tuples(tuples = list_tuples, names = ['外层索引', '内层索引'])\n",
    "multi_index"
   ]
  },
  {
   "cell_type": "markdown",
   "id": "4c734b7b",
   "metadata": {},
   "source": [
    "2.通过from_arrays()方法创建MultiIndex类的对象"
   ]
  },
  {
   "cell_type": "code",
   "execution_count": null,
   "id": "6ee1264f",
   "metadata": {},
   "outputs": [],
   "source": [
    "multi_array = MultiIndex.from_arrays(arrays = [['A', 'B', 'A', 'B', 'B'], ['A1', 'A2', 'B1', 'B2', 'B3']] , names = ['外层索引', '内层索引'])\n",
    "multi_array"
   ]
  },
  {
   "cell_type": "markdown",
   "id": "37dff5f9",
   "metadata": {},
   "source": [
    "3.通过from_product()方法创建MultiIndex类的对象"
   ]
  },
  {
   "cell_type": "code",
   "execution_count": null,
   "id": "1734ac46",
   "metadata": {},
   "outputs": [],
   "source": [
    "numbers = [0, 1, 2]\n",
    "colors = ['green', 'purple']\n",
    "multi_product = pd.MultiIndex.from_product(iterables = [numbers, colors], names = ['number', 'color'])\n",
    "multi_product"
   ]
  },
  {
   "cell_type": "markdown",
   "id": "6a5e3650",
   "metadata": {},
   "source": [
    "3.7.2 创建有分层索引的对象"
   ]
  },
  {
   "cell_type": "code",
   "execution_count": null,
   "id": "aa121490",
   "metadata": {},
   "outputs": [],
   "source": [
    "mulitindex_series = pd.Series([14530, 13829, 12047, 7813, 7568, 6239, 15236, 8291], index = [['河北省','河北省','河北省','河北省','河南省','河南省','河南省','河南省'],['石家庄市','唐山市','邯郸市','秦皇岛市','郑州市','开封市','洛阳市','新乡市']])\n",
    "mulitindex_series"
   ]
  },
  {
   "cell_type": "code",
   "execution_count": null,
   "id": "0bd26508",
   "metadata": {},
   "outputs": [],
   "source": [
    "from pandas import DataFrame, Series\n",
    "mulitindex_df = DataFrame({'占地面积':[14530, 13829, 12047, 7813, 7568, 6239, 15236, 8291]}, index = [['河北省','河北省','河北省','河北省','河南省','河南省','河南省','河南省'],['石家庄市','唐山市','邯郸市','秦皇岛市','郑州市','开封市','洛阳市','新乡市']])\n",
    "mulitindex_df"
   ]
  },
  {
   "cell_type": "code",
   "execution_count": null,
   "id": "64416584",
   "metadata": {},
   "outputs": [],
   "source": [
    "values = np.array([[7,5], [6,6], [3,1], [5,5], [4,5], [5,3]])\n",
    "df_product = pd.DataFrame(data = values, index = multi_product)\n",
    "df_product"
   ]
  },
  {
   "cell_type": "markdown",
   "id": "52ecefea",
   "metadata": {},
   "source": [
    "3.7.3 使用分层索引获取数据"
   ]
  },
  {
   "cell_type": "code",
   "execution_count": null,
   "id": "9fa56209",
   "metadata": {},
   "outputs": [],
   "source": [
    "from pandas import Series\n",
    "ser_obj = Series([50, 60, 40, 94, 63, 101, 200, 56, 45], \n",
    "                index = [['小说','小说','小说','散文随笔','散文随笔','散文随笔','传记','传记','传记'] ,\n",
    "                        ['平凡的世界', '骆驼祥子', '狂人日记', '皮囊', '浮生六记', '自在独行', '曾国藩', '老舍自传', '知行合一王阳明']])\n",
    "ser_obj"
   ]
  },
  {
   "cell_type": "code",
   "execution_count": null,
   "id": "630e68ee",
   "metadata": {},
   "outputs": [],
   "source": [
    "ser_obj['小说']"
   ]
  },
  {
   "cell_type": "code",
   "execution_count": null,
   "id": "938dbe59",
   "metadata": {},
   "outputs": [],
   "source": [
    "ser_obj['小说', '平凡的世界']"
   ]
  },
  {
   "cell_type": "code",
   "execution_count": null,
   "id": "435c72ea",
   "metadata": {},
   "outputs": [],
   "source": [
    "ser_obj[:, '自在独行']"
   ]
  },
  {
   "cell_type": "markdown",
   "id": "82d2f185",
   "metadata": {},
   "source": [
    "3.7.4 交换索引层级的顺序"
   ]
  },
  {
   "cell_type": "code",
   "execution_count": null,
   "id": "bd85465f",
   "metadata": {},
   "outputs": [],
   "source": [
    "ser_obj.swaplevel()"
   ]
  },
  {
   "cell_type": "markdown",
   "id": "2c1b5544",
   "metadata": {},
   "source": [
    "3.7.5 分层索引排序"
   ]
  },
  {
   "cell_type": "code",
   "execution_count": null,
   "id": "d01a50ec",
   "metadata": {},
   "outputs": [],
   "source": [
    "df_obj = DataFrame({'word':['a','b','d','e','f','k','d','s','l'],\n",
    "                   'num':[1,2,4,5,3,2,6,2,3]},\n",
    "                  index = [['A','A','A','C','C','C','B','B','B'],\n",
    "                          [1,3,2,3,1,2,4,5,8]])\n",
    "df_obj"
   ]
  },
  {
   "cell_type": "code",
   "execution_count": null,
   "id": "65021306",
   "metadata": {},
   "outputs": [],
   "source": [
    "df_obj.sort_index()"
   ]
  }
 ],
 "metadata": {
  "kernelspec": {
   "display_name": "Python 3 (ipykernel)",
   "language": "python",
   "name": "python3"
  },
  "language_info": {
   "codemirror_mode": {
    "name": "ipython",
    "version": 3
   },
   "file_extension": ".py",
   "mimetype": "text/x-python",
   "name": "python",
   "nbconvert_exporter": "python",
   "pygments_lexer": "ipython3",
   "version": "3.11.5"
  }
 },
 "nbformat": 4,
 "nbformat_minor": 5
}
