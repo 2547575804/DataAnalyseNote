{
 "cells": [
  {
   "cell_type": "markdown",
   "id": "15dd68d3",
   "metadata": {},
   "source": [
    "### 4.1 数据清洗"
   ]
  },
  {
   "cell_type": "markdown",
   "id": "0db29068",
   "metadata": {},
   "source": [
    "4.1.1 缺失值的检测"
   ]
  },
  {
   "cell_type": "markdown",
   "id": "c7c7624b",
   "metadata": {},
   "source": [
    "缺失值用None或np.nan表示，统计标记为NaN"
   ]
  },
  {
   "cell_type": "markdown",
   "id": "78e1ca9a",
   "metadata": {},
   "source": [
    "isnull();notnull"
   ]
  },
  {
   "cell_type": "code",
   "execution_count": 18,
   "id": "ee9cfb79",
   "metadata": {},
   "outputs": [],
   "source": [
    "import pandas as pd\n",
    "import numpy as np\n",
    "df_na = pd.DataFrame({'Num1':[1, 2, None, 4],\n",
    "                      'Num2':[5, 6, 7, 8],\n",
    "                      'Num3':[9, 10, 11, 12],\n",
    "                      'Num4':[13, 14, np.NaN, np.NaN]})\n",
    "df_na"
   ]
  },
  {
   "cell_type": "code",
   "execution_count": null,
   "id": "2bb08618",
   "metadata": {},
   "outputs": [],
   "source": [
    "pd.isnull(df_na) # 检测数据中是否包含缺失值"
   ]
  },
  {
   "cell_type": "code",
   "execution_count": null,
   "id": "56b698b9",
   "metadata": {},
   "outputs": [],
   "source": [
    "pd.notnull(df_na) # 检测数据中是否为非缺失值"
   ]
  },
  {
   "cell_type": "code",
   "execution_count": null,
   "id": "08370c60",
   "metadata": {},
   "outputs": [],
   "source": [
    "def missing_values_table(df):\n",
    "    # 计算每列包含缺失值的数量\n",
    "    mis_val = df.isnull().sum()\n",
    "    # 计算所有列缺失值比例\n",
    "    mis_val_percent = df.isnull().sum() / len(df) * 100\n",
    "    # 将数量和比例组合成DataFrame类的对象\n",
    "    mis_val_table = pd.DataFrame({'数量':mis_val, '占比(%)':mis_val_percent})\n",
    "    # 按照缺失值的数量降序排列\n",
    "    mis_val_table_sorted = mis_val_table.sort_values('数量', ascending = False)\n",
    "    return mis_val_table_sorted\n",
    "missing_values_table(df_na) # 统计缺失值的数量和占比情况"
   ]
  },
  {
   "cell_type": "markdown",
   "id": "c22560d3",
   "metadata": {},
   "source": [
    "4.1.2 缺失值的处理"
   ]
  },
  {
   "cell_type": "markdown",
   "id": "7d0668d1",
   "metadata": {},
   "source": [
    "1、删除缺失值"
   ]
  },
  {
   "cell_type": "code",
   "execution_count": null,
   "id": "94674f3f",
   "metadata": {},
   "outputs": [],
   "source": [
    "df_na.dropna()"
   ]
  },
  {
   "cell_type": "code",
   "execution_count": null,
   "id": "4d901a20",
   "metadata": {},
   "outputs": [],
   "source": [
    "df_na.dropna(thresh = 3)"
   ]
  },
  {
   "cell_type": "markdown",
   "id": "7914b9d1",
   "metadata": {},
   "source": [
    "2、填充缺失值"
   ]
  },
  {
   "cell_type": "code",
   "execution_count": null,
   "id": "2a0eda4d",
   "metadata": {},
   "outputs": [],
   "source": [
    "import pandas as pd\n",
    "import numpy as np\n",
    "df_na = pd.DataFrame({'Num1':[1, 2, None, 4],\n",
    "                      'Num2':[5, 6, 7, 8],\n",
    "                      'Num3':[9, 10, 11, 12],\n",
    "                      'Num4':[13, 14, np.NaN, np.NaN]})\n",
    "df_na"
   ]
  },
  {
   "cell_type": "code",
   "execution_count": null,
   "id": "e95f2916",
   "metadata": {},
   "outputs": [],
   "source": [
    "df_na.fillna(value = 66.0)"
   ]
  },
  {
   "cell_type": "code",
   "execution_count": null,
   "id": "dd899ac3",
   "metadata": {},
   "outputs": [],
   "source": [
    "# 计算Num1列的平均数，并保留一位小数\n",
    "mean_num1 = round(df_na['Num1'].mean(), 1)\n",
    "mean_num1"
   ]
  },
  {
   "cell_type": "code",
   "execution_count": null,
   "id": "5c06bec9",
   "metadata": {},
   "outputs": [],
   "source": [
    "# 计算Num4列的平均数，并保留一位小数\n",
    "mean_num4 = round(df_na['Num4'].mean(), 1)\n",
    "mean_num4"
   ]
  },
  {
   "cell_type": "code",
   "execution_count": null,
   "id": "6e84a8b3",
   "metadata": {},
   "outputs": [],
   "source": [
    "df_na.fillna(value = {'Num1':mean_num1, 'Num4':mean_num4})"
   ]
  },
  {
   "cell_type": "code",
   "execution_count": null,
   "id": "7ff3bc9c",
   "metadata": {},
   "outputs": [],
   "source": [
    "df_na.fillna(method = 'ffill')"
   ]
  },
  {
   "cell_type": "code",
   "execution_count": null,
   "id": "6787903c",
   "metadata": {},
   "outputs": [],
   "source": [
    "df_na.fillna(method = 'bfill')"
   ]
  },
  {
   "cell_type": "markdown",
   "id": "d0eaa770",
   "metadata": {},
   "source": [
    "4.1.3 重复值的检测"
   ]
  },
  {
   "cell_type": "code",
   "execution_count": 1,
   "id": "78212422",
   "metadata": {},
   "outputs": [
    {
     "ename": "NameError",
     "evalue": "name 'pd' is not defined",
     "output_type": "error",
     "traceback": [
      "\u001b[1;31m---------------------------------------------------------------------------\u001b[0m",
      "\u001b[1;31mNameError\u001b[0m                                 Traceback (most recent call last)",
      "Cell \u001b[1;32mIn[1], line 1\u001b[0m\n\u001b[1;32m----> 1\u001b[0m person_info \u001b[38;5;241m=\u001b[39m pd\u001b[38;5;241m.\u001b[39mDataFrame({\u001b[38;5;124m'\u001b[39m\u001b[38;5;124mname\u001b[39m\u001b[38;5;124m'\u001b[39m: [\u001b[38;5;124m'\u001b[39m\u001b[38;5;124m张三\u001b[39m\u001b[38;5;124m'\u001b[39m, \u001b[38;5;124m'\u001b[39m\u001b[38;5;124m李四\u001b[39m\u001b[38;5;124m'\u001b[39m, \u001b[38;5;124m'\u001b[39m\u001b[38;5;124m王五\u001b[39m\u001b[38;5;124m'\u001b[39m, \u001b[38;5;124m'\u001b[39m\u001b[38;5;124m赵六\u001b[39m\u001b[38;5;124m'\u001b[39m, \u001b[38;5;124m'\u001b[39m\u001b[38;5;124m孙七\u001b[39m\u001b[38;5;124m'\u001b[39m],\n\u001b[0;32m      2\u001b[0m                            \u001b[38;5;124m'\u001b[39m\u001b[38;5;124mage\u001b[39m\u001b[38;5;124m'\u001b[39m: [\u001b[38;5;241m24\u001b[39m, \u001b[38;5;241m23\u001b[39m, \u001b[38;5;241m29\u001b[39m, \u001b[38;5;241m22\u001b[39m, \u001b[38;5;241m22\u001b[39m, \u001b[38;5;241m27\u001b[39m],\n\u001b[0;32m      3\u001b[0m                            \u001b[38;5;124m'\u001b[39m\u001b[38;5;124mheight\u001b[39m\u001b[38;5;124m'\u001b[39m: [\u001b[38;5;241m162\u001b[39m, \u001b[38;5;241m165\u001b[39m, \u001b[38;5;241m175\u001b[39m, \u001b[38;5;241m175\u001b[39m, \u001b[38;5;241m175\u001b[39m, \u001b[38;5;241m180\u001b[39m],\n\u001b[0;32m      4\u001b[0m                            \u001b[38;5;124m'\u001b[39m\u001b[38;5;124mgender\u001b[39m\u001b[38;5;124m'\u001b[39m: [\u001b[38;5;124m'\u001b[39m\u001b[38;5;124m女\u001b[39m\u001b[38;5;124m'\u001b[39m, \u001b[38;5;124m'\u001b[39m\u001b[38;5;124m女\u001b[39m\u001b[38;5;124m'\u001b[39m, \u001b[38;5;124m'\u001b[39m\u001b[38;5;124m男\u001b[39m\u001b[38;5;124m'\u001b[39m, \u001b[38;5;124m'\u001b[39m\u001b[38;5;124m男\u001b[39m\u001b[38;5;124m'\u001b[39m, \u001b[38;5;124m'\u001b[39m\u001b[38;5;124m男\u001b[39m\u001b[38;5;124m'\u001b[39m, \u001b[38;5;124m'\u001b[39m\u001b[38;5;124m男\u001b[39m\u001b[38;5;124m'\u001b[39m]})\n\u001b[0;32m      5\u001b[0m person_info\n",
      "\u001b[1;31mNameError\u001b[0m: name 'pd' is not defined"
     ]
    }
   ],
   "source": [
    "person_info = pd.DataFrame({'name': ['张三', '李四', '王五', '赵六', '孙七'],\n",
    "                           'age': [24, 23, 29, 22, 22, 27],\n",
    "                           'height': [162, 165, 175, 175, 175, 180],\n",
    "                           'gender': ['女', '女', '男', '男', '男', '男']})\n",
    "person_info"
   ]
  },
  {
   "cell_type": "code",
   "execution_count": null,
   "id": "21494a6f",
   "metadata": {},
   "outputs": [],
   "source": [
    "person_info.duplicated()"
   ]
  },
  {
   "cell_type": "markdown",
   "id": "05f2d373",
   "metadata": {},
   "source": [
    "4.1.4 重复值的处理"
   ]
  },
  {
   "cell_type": "code",
   "execution_count": null,
   "id": "2e531a7a",
   "metadata": {},
   "outputs": [],
   "source": [
    "person_info.drop_duplicates() # 删除重复值"
   ]
  },
  {
   "cell_type": "markdown",
   "id": "b5800561",
   "metadata": {},
   "source": [
    "4.1.5 异常值的处理"
   ]
  },
  {
   "cell_type": "code",
   "execution_count": null,
   "id": "f31cff01",
   "metadata": {},
   "outputs": [],
   "source": [
    "def three_sigma(ser):\n",
    "    mean_data = ser.mean()\n",
    "    std_data = ser.std()\n",
    "    rule = (mean_data - 3*std_data>ser) | (mean_data + 3*std_data<ser)\n",
    "    index = np.arange(ser.shape[0])[rule]\n",
    "    outliers = ser.iloc[index]\n",
    "    return outliers"
   ]
  },
  {
   "cell_type": "code",
   "execution_count": null,
   "id": "793f9102",
   "metadata": {},
   "outputs": [],
   "source": [
    "df_obj = pd.read_csv(r'outliers_data.csv')\n",
    "df_obj"
   ]
  },
  {
   "cell_type": "code",
   "execution_count": null,
   "id": "52b149ed",
   "metadata": {},
   "outputs": [],
   "source": [
    "three_sigma(df_obj['A'])"
   ]
  },
  {
   "cell_type": "code",
   "execution_count": null,
   "id": "f20d0c3b",
   "metadata": {},
   "outputs": [],
   "source": [
    "three_sigma(df_obj['B'])"
   ]
  },
  {
   "cell_type": "code",
   "execution_count": null,
   "id": "778ae823",
   "metadata": {},
   "outputs": [],
   "source": [
    "df_obj = pd.read_csv(r'example_data.csv')\n",
    "df_obj.boxplot(column = ['A', 'B']) # 绘制箱形图"
   ]
  },
  {
   "cell_type": "code",
   "execution_count": null,
   "id": "3b63c792",
   "metadata": {},
   "outputs": [],
   "source": [
    "def box_outliers(ser):\n",
    "    # 对需要检测的数据集进行排序\n",
    "    new_ser = ser.sort_values()\n",
    "    # 判断数据的总数量是奇数还是偶数\n",
    "    if new_ser.count() % 2 == 0:\n",
    "        # 分别计算Q3、Q1、IQR\n",
    "        Q3 = new_ser[int(len(new_ser) / 2):].median()\n",
    "        Q1 = new_ser[:int(len(new_ser) / 2)].median()\n",
    "    elif new_ser.count() % 2 != 0:\n",
    "        Q3 = new_ser[int((len(new_ser)-1) / 2):].median()\n",
    "        Q1 = new_ser[:int((len(new_ser)-1) / 2)].median()\n",
    "    IQR = round(Q3 - Q1, 1)\n",
    "    rule = (round(Q3+1.5*IQR, 1)<ser) | (round(Q1-1.5*IQR, 1) > ser)\n",
    "    index = np.arange(ser.shape[0])[rule]\n",
    "    # 获取包含异常值的数据\n",
    "    outliers = ser.iloc[index]\n",
    "    return outliers\n",
    "box_outliers(df_obj['A'])"
   ]
  },
  {
   "cell_type": "markdown",
   "id": "20179f8f",
   "metadata": {},
   "source": [
    "4.1.6 异常值的处理"
   ]
  },
  {
   "cell_type": "code",
   "execution_count": null,
   "id": "034a7d37",
   "metadata": {},
   "outputs": [],
   "source": [
    "df_obj.replace(to_replace = 23, value = 3)"
   ]
  },
  {
   "cell_type": "code",
   "execution_count": null,
   "id": "713226ce",
   "metadata": {},
   "outputs": [],
   "source": [
    "df_obj.replace(to_replace = [23, 50], value = [3, 2])"
   ]
  },
  {
   "cell_type": "markdown",
   "id": "10539a59",
   "metadata": {},
   "source": [
    "4.1.7 转换数据类型"
   ]
  },
  {
   "cell_type": "code",
   "execution_count": null,
   "id": "86104810",
   "metadata": {},
   "outputs": [],
   "source": [
    "df = pd.DataFrame({'A':['1', '1.2', '4.2'],\n",
    "                  'B':['-9', '70', '88'],\n",
    "                  'C':['x', '5.0', '0']})\n",
    "df.dtypes"
   ]
  },
  {
   "cell_type": "code",
   "execution_count": null,
   "id": "33d4748c",
   "metadata": {},
   "outputs": [],
   "source": [
    "df['B'].astype(dtype = 'int')"
   ]
  },
  {
   "cell_type": "code",
   "execution_count": null,
   "id": "ea72e023",
   "metadata": {},
   "outputs": [],
   "source": [
    "ser_obj = pd.Sreies['1.5', '2.2', '3.8']\n",
    "ser_obj"
   ]
  },
  {
   "cell_type": "code",
   "execution_count": null,
   "id": "81ffc6b0",
   "metadata": {},
   "outputs": [],
   "source": [
    "pd.to_numeric(ser_obj)"
   ]
  },
  {
   "cell_type": "code",
   "execution_count": null,
   "id": "8922ce6a",
   "metadata": {},
   "outputs": [],
   "source": [
    "ser_obj[2] = 'problem'\n",
    "pd.to_numeric(ser_obj)"
   ]
  },
  {
   "cell_type": "code",
   "execution_count": null,
   "id": "a64796d5",
   "metadata": {},
   "outputs": [],
   "source": [
    "pd.to_numeric(ser_obj, errors = 'ignore')"
   ]
  },
  {
   "cell_type": "code",
   "execution_count": null,
   "id": "7f0dc323",
   "metadata": {},
   "outputs": [],
   "source": [
    "pd.to_numeric(ser_obj, errors = 'coerce')"
   ]
  },
  {
   "cell_type": "markdown",
   "id": "f9e07421",
   "metadata": {},
   "source": [
    "### 4.2 数据合并"
   ]
  },
  {
   "cell_type": "markdown",
   "id": "07a727f9",
   "metadata": {},
   "source": [
    "4.2.1 堆叠合并"
   ]
  },
  {
   "cell_type": "markdown",
   "id": "a0df1120",
   "metadata": {},
   "source": [
    "concat()函数用于堆叠合并"
   ]
  },
  {
   "cell_type": "markdown",
   "id": "ab741835",
   "metadata": {},
   "source": [
    "1、横向堆叠与外连接，axis = 1且join = 'outer'，取并集"
   ]
  },
  {
   "cell_type": "code",
   "execution_count": 19,
   "id": "fde9505d",
   "metadata": {},
   "outputs": [
    {
     "data": {
      "text/html": [
       "<div>\n",
       "<style scoped>\n",
       "    .dataframe tbody tr th:only-of-type {\n",
       "        vertical-align: middle;\n",
       "    }\n",
       "\n",
       "    .dataframe tbody tr th {\n",
       "        vertical-align: top;\n",
       "    }\n",
       "\n",
       "    .dataframe thead th {\n",
       "        text-align: right;\n",
       "    }\n",
       "</style>\n",
       "<table border=\"1\" class=\"dataframe\">\n",
       "  <thead>\n",
       "    <tr style=\"text-align: right;\">\n",
       "      <th></th>\n",
       "      <th>A</th>\n",
       "      <th>B</th>\n",
       "      <th>C</th>\n",
       "      <th>C</th>\n",
       "      <th>D</th>\n",
       "    </tr>\n",
       "  </thead>\n",
       "  <tbody>\n",
       "    <tr>\n",
       "      <th>0</th>\n",
       "      <td>A0</td>\n",
       "      <td>B0</td>\n",
       "      <td>C0</td>\n",
       "      <td>C3</td>\n",
       "      <td>D0</td>\n",
       "    </tr>\n",
       "    <tr>\n",
       "      <th>1</th>\n",
       "      <td>A1</td>\n",
       "      <td>B1</td>\n",
       "      <td>C1</td>\n",
       "      <td>C4</td>\n",
       "      <td>D1</td>\n",
       "    </tr>\n",
       "    <tr>\n",
       "      <th>2</th>\n",
       "      <td>A2</td>\n",
       "      <td>B2</td>\n",
       "      <td>C2</td>\n",
       "      <td>C5</td>\n",
       "      <td>D2</td>\n",
       "    </tr>\n",
       "    <tr>\n",
       "      <th>3</th>\n",
       "      <td>NaN</td>\n",
       "      <td>NaN</td>\n",
       "      <td>NaN</td>\n",
       "      <td>C6</td>\n",
       "      <td>D3</td>\n",
       "    </tr>\n",
       "  </tbody>\n",
       "</table>\n",
       "</div>"
      ],
      "text/plain": [
       "     A    B    C   C   D\n",
       "0   A0   B0   C0  C3  D0\n",
       "1   A1   B1   C1  C4  D1\n",
       "2   A2   B2   C2  C5  D2\n",
       "3  NaN  NaN  NaN  C6  D3"
      ]
     },
     "execution_count": 19,
     "metadata": {},
     "output_type": "execute_result"
    }
   ],
   "source": [
    "import pandas as pd\n",
    "df1 = pd.DataFrame({'A':['A0', 'A1', 'A2'],\n",
    "                    'B':['B0', 'B1', 'B2'],\n",
    "                    'C':['C0', 'C1', 'C2']})\n",
    "df2 = pd.DataFrame({'C':['C3', 'C4', 'C5','C6'],\n",
    "                    'D':['D0', 'D1', 'D2', 'D3']})\n",
    "result = pd.concat([df1, df2], join = 'outer', axis = 1)\n",
    "result"
   ]
  },
  {
   "cell_type": "markdown",
   "id": "6f27ab89",
   "metadata": {},
   "source": [
    "2、纵向堆叠与内连接，axis = 0且join = 'inner'，取交集"
   ]
  },
  {
   "cell_type": "code",
   "execution_count": 20,
   "id": "8c311535",
   "metadata": {},
   "outputs": [
    {
     "data": {
      "text/html": [
       "<div>\n",
       "<style scoped>\n",
       "    .dataframe tbody tr th:only-of-type {\n",
       "        vertical-align: middle;\n",
       "    }\n",
       "\n",
       "    .dataframe tbody tr th {\n",
       "        vertical-align: top;\n",
       "    }\n",
       "\n",
       "    .dataframe thead th {\n",
       "        text-align: right;\n",
       "    }\n",
       "</style>\n",
       "<table border=\"1\" class=\"dataframe\">\n",
       "  <thead>\n",
       "    <tr style=\"text-align: right;\">\n",
       "      <th></th>\n",
       "      <th>C</th>\n",
       "    </tr>\n",
       "  </thead>\n",
       "  <tbody>\n",
       "    <tr>\n",
       "      <th>0</th>\n",
       "      <td>C0</td>\n",
       "    </tr>\n",
       "    <tr>\n",
       "      <th>1</th>\n",
       "      <td>C1</td>\n",
       "    </tr>\n",
       "    <tr>\n",
       "      <th>2</th>\n",
       "      <td>C2</td>\n",
       "    </tr>\n",
       "    <tr>\n",
       "      <th>0</th>\n",
       "      <td>C3</td>\n",
       "    </tr>\n",
       "    <tr>\n",
       "      <th>1</th>\n",
       "      <td>C4</td>\n",
       "    </tr>\n",
       "    <tr>\n",
       "      <th>2</th>\n",
       "      <td>C5</td>\n",
       "    </tr>\n",
       "    <tr>\n",
       "      <th>3</th>\n",
       "      <td>C6</td>\n",
       "    </tr>\n",
       "  </tbody>\n",
       "</table>\n",
       "</div>"
      ],
      "text/plain": [
       "    C\n",
       "0  C0\n",
       "1  C1\n",
       "2  C2\n",
       "0  C3\n",
       "1  C4\n",
       "2  C5\n",
       "3  C6"
      ]
     },
     "execution_count": 20,
     "metadata": {},
     "output_type": "execute_result"
    }
   ],
   "source": [
    "import pandas as pd\n",
    "df1 = pd.DataFrame({'A':['A0', 'A1', 'A2'],\n",
    "                    'B':['B0', 'B1', 'B2'],\n",
    "                    'C':['C0', 'C1', 'C2']})\n",
    "df2 = pd.DataFrame({'C':['C3', 'C4', 'C5','C6'],\n",
    "                    'D':['D0', 'D1', 'D2', 'D3']})\n",
    "result = pd.concat([df1, df2], join = 'inner', axis = 0)\n",
    "result"
   ]
  },
  {
   "cell_type": "markdown",
   "id": "020809da",
   "metadata": {},
   "source": [
    "4.2.2 主键合并"
   ]
  },
  {
   "cell_type": "markdown",
   "id": "f63113a1",
   "metadata": {},
   "source": [
    "merge()主键合并"
   ]
  },
  {
   "cell_type": "code",
   "execution_count": 21,
   "id": "8aba3369",
   "metadata": {},
   "outputs": [
    {
     "data": {
      "text/html": [
       "<div>\n",
       "<style scoped>\n",
       "    .dataframe tbody tr th:only-of-type {\n",
       "        vertical-align: middle;\n",
       "    }\n",
       "\n",
       "    .dataframe tbody tr th {\n",
       "        vertical-align: top;\n",
       "    }\n",
       "\n",
       "    .dataframe thead th {\n",
       "        text-align: right;\n",
       "    }\n",
       "</style>\n",
       "<table border=\"1\" class=\"dataframe\">\n",
       "  <thead>\n",
       "    <tr style=\"text-align: right;\">\n",
       "      <th></th>\n",
       "      <th>key</th>\n",
       "      <th>A_x</th>\n",
       "      <th>B</th>\n",
       "      <th>A_y</th>\n",
       "      <th>C</th>\n",
       "    </tr>\n",
       "  </thead>\n",
       "  <tbody>\n",
       "    <tr>\n",
       "      <th>0</th>\n",
       "      <td>K0</td>\n",
       "      <td>A0</td>\n",
       "      <td>B0</td>\n",
       "      <td>A0</td>\n",
       "      <td>C0</td>\n",
       "    </tr>\n",
       "    <tr>\n",
       "      <th>1</th>\n",
       "      <td>K2</td>\n",
       "      <td>A2</td>\n",
       "      <td>B2</td>\n",
       "      <td>A1</td>\n",
       "      <td>C1</td>\n",
       "    </tr>\n",
       "  </tbody>\n",
       "</table>\n",
       "</div>"
      ],
      "text/plain": [
       "  key A_x   B A_y   C\n",
       "0  K0  A0  B0  A0  C0\n",
       "1  K2  A2  B2  A1  C1"
      ]
     },
     "execution_count": 21,
     "metadata": {},
     "output_type": "execute_result"
    }
   ],
   "source": [
    "import pandas as pd\n",
    "left = pd.DataFrame({'key':['K0', 'K1', 'K2'],\n",
    "                     'A':['A0', 'A1', 'A2'],\n",
    "                     'B':['B0', 'B1', 'B2']})\n",
    "right = pd.DataFrame({'key':['K0', 'K2', 'K3', 'K5'],\n",
    "                     'A':['A0', 'A1', 'A2', 'A3'],\n",
    "                     'C':['C0', 'C1', 'C2', 'C3']})\n",
    "result = pd.merge(left = left, right = right, on = 'key')\n",
    "result"
   ]
  },
  {
   "cell_type": "markdown",
   "id": "562ad226",
   "metadata": {},
   "source": [
    "多个键合并"
   ]
  },
  {
   "cell_type": "code",
   "execution_count": 22,
   "id": "a3717daf",
   "metadata": {},
   "outputs": [
    {
     "data": {
      "text/html": [
       "<div>\n",
       "<style scoped>\n",
       "    .dataframe tbody tr th:only-of-type {\n",
       "        vertical-align: middle;\n",
       "    }\n",
       "\n",
       "    .dataframe tbody tr th {\n",
       "        vertical-align: top;\n",
       "    }\n",
       "\n",
       "    .dataframe thead th {\n",
       "        text-align: right;\n",
       "    }\n",
       "</style>\n",
       "<table border=\"1\" class=\"dataframe\">\n",
       "  <thead>\n",
       "    <tr style=\"text-align: right;\">\n",
       "      <th></th>\n",
       "      <th>key</th>\n",
       "      <th>A</th>\n",
       "      <th>B</th>\n",
       "      <th>C</th>\n",
       "    </tr>\n",
       "  </thead>\n",
       "  <tbody>\n",
       "    <tr>\n",
       "      <th>0</th>\n",
       "      <td>K0</td>\n",
       "      <td>A0</td>\n",
       "      <td>B0</td>\n",
       "      <td>C0</td>\n",
       "    </tr>\n",
       "  </tbody>\n",
       "</table>\n",
       "</div>"
      ],
      "text/plain": [
       "  key   A   B   C\n",
       "0  K0  A0  B0  C0"
      ]
     },
     "execution_count": 22,
     "metadata": {},
     "output_type": "execute_result"
    }
   ],
   "source": [
    "result = pd.merge(left = left, right = right, on = ['key', 'A'])\n",
    "result"
   ]
  },
  {
   "cell_type": "code",
   "execution_count": 23,
   "id": "ef6229d7",
   "metadata": {},
   "outputs": [
    {
     "data": {
      "text/html": [
       "<div>\n",
       "<style scoped>\n",
       "    .dataframe tbody tr th:only-of-type {\n",
       "        vertical-align: middle;\n",
       "    }\n",
       "\n",
       "    .dataframe tbody tr th {\n",
       "        vertical-align: top;\n",
       "    }\n",
       "\n",
       "    .dataframe thead th {\n",
       "        text-align: right;\n",
       "    }\n",
       "</style>\n",
       "<table border=\"1\" class=\"dataframe\">\n",
       "  <thead>\n",
       "    <tr style=\"text-align: right;\">\n",
       "      <th></th>\n",
       "      <th>key</th>\n",
       "      <th>A_x</th>\n",
       "      <th>B</th>\n",
       "      <th>A_y</th>\n",
       "      <th>C</th>\n",
       "    </tr>\n",
       "  </thead>\n",
       "  <tbody>\n",
       "    <tr>\n",
       "      <th>0</th>\n",
       "      <td>K0</td>\n",
       "      <td>A0</td>\n",
       "      <td>B0</td>\n",
       "      <td>A0</td>\n",
       "      <td>C0</td>\n",
       "    </tr>\n",
       "    <tr>\n",
       "      <th>1</th>\n",
       "      <td>K1</td>\n",
       "      <td>A1</td>\n",
       "      <td>B1</td>\n",
       "      <td>NaN</td>\n",
       "      <td>NaN</td>\n",
       "    </tr>\n",
       "    <tr>\n",
       "      <th>2</th>\n",
       "      <td>K2</td>\n",
       "      <td>A2</td>\n",
       "      <td>B2</td>\n",
       "      <td>A1</td>\n",
       "      <td>C1</td>\n",
       "    </tr>\n",
       "    <tr>\n",
       "      <th>3</th>\n",
       "      <td>K3</td>\n",
       "      <td>NaN</td>\n",
       "      <td>NaN</td>\n",
       "      <td>A2</td>\n",
       "      <td>C2</td>\n",
       "    </tr>\n",
       "    <tr>\n",
       "      <th>4</th>\n",
       "      <td>K5</td>\n",
       "      <td>NaN</td>\n",
       "      <td>NaN</td>\n",
       "      <td>A3</td>\n",
       "      <td>C3</td>\n",
       "    </tr>\n",
       "  </tbody>\n",
       "</table>\n",
       "</div>"
      ],
      "text/plain": [
       "  key  A_x    B  A_y    C\n",
       "0  K0   A0   B0   A0   C0\n",
       "1  K1   A1   B1  NaN  NaN\n",
       "2  K2   A2   B2   A1   C1\n",
       "3  K3  NaN  NaN   A2   C2\n",
       "4  K5  NaN  NaN   A3   C3"
      ]
     },
     "execution_count": 23,
     "metadata": {},
     "output_type": "execute_result"
    }
   ],
   "source": [
    "import pandas as pd\n",
    "left = pd.DataFrame({'key':['K0', 'K1', 'K2'],\n",
    "                     'A':['A0', 'A1', 'A2'],\n",
    "                     'B':['B0', 'B1', 'B2']})\n",
    "right = pd.DataFrame({'key':['K0', 'K2', 'K3', 'K5'],\n",
    "                     'A':['A0', 'A1', 'A2', 'A3'],\n",
    "                     'C':['C0', 'C1', 'C2', 'C3']})\n",
    "result = pd.merge(left = left, right = right, on = 'key', how = 'outer')\n",
    "result"
   ]
  },
  {
   "cell_type": "code",
   "execution_count": 24,
   "id": "e08e329e",
   "metadata": {},
   "outputs": [
    {
     "data": {
      "text/html": [
       "<div>\n",
       "<style scoped>\n",
       "    .dataframe tbody tr th:only-of-type {\n",
       "        vertical-align: middle;\n",
       "    }\n",
       "\n",
       "    .dataframe tbody tr th {\n",
       "        vertical-align: top;\n",
       "    }\n",
       "\n",
       "    .dataframe thead th {\n",
       "        text-align: right;\n",
       "    }\n",
       "</style>\n",
       "<table border=\"1\" class=\"dataframe\">\n",
       "  <thead>\n",
       "    <tr style=\"text-align: right;\">\n",
       "      <th></th>\n",
       "      <th>key</th>\n",
       "      <th>A_x</th>\n",
       "      <th>B</th>\n",
       "      <th>A_y</th>\n",
       "      <th>C</th>\n",
       "    </tr>\n",
       "  </thead>\n",
       "  <tbody>\n",
       "    <tr>\n",
       "      <th>0</th>\n",
       "      <td>K0</td>\n",
       "      <td>A0</td>\n",
       "      <td>B0</td>\n",
       "      <td>A0</td>\n",
       "      <td>C0</td>\n",
       "    </tr>\n",
       "    <tr>\n",
       "      <th>1</th>\n",
       "      <td>K1</td>\n",
       "      <td>A1</td>\n",
       "      <td>B1</td>\n",
       "      <td>NaN</td>\n",
       "      <td>NaN</td>\n",
       "    </tr>\n",
       "    <tr>\n",
       "      <th>2</th>\n",
       "      <td>K2</td>\n",
       "      <td>A2</td>\n",
       "      <td>B2</td>\n",
       "      <td>A1</td>\n",
       "      <td>C1</td>\n",
       "    </tr>\n",
       "  </tbody>\n",
       "</table>\n",
       "</div>"
      ],
      "text/plain": [
       "  key A_x   B  A_y    C\n",
       "0  K0  A0  B0   A0   C0\n",
       "1  K1  A1  B1  NaN  NaN\n",
       "2  K2  A2  B2   A1   C1"
      ]
     },
     "execution_count": 24,
     "metadata": {},
     "output_type": "execute_result"
    }
   ],
   "source": [
    "result = pd.merge(left = left, right = right, on = 'key', how = 'left')\n",
    "result"
   ]
  },
  {
   "cell_type": "code",
   "execution_count": 25,
   "id": "5679ced4",
   "metadata": {},
   "outputs": [
    {
     "data": {
      "text/html": [
       "<div>\n",
       "<style scoped>\n",
       "    .dataframe tbody tr th:only-of-type {\n",
       "        vertical-align: middle;\n",
       "    }\n",
       "\n",
       "    .dataframe tbody tr th {\n",
       "        vertical-align: top;\n",
       "    }\n",
       "\n",
       "    .dataframe thead th {\n",
       "        text-align: right;\n",
       "    }\n",
       "</style>\n",
       "<table border=\"1\" class=\"dataframe\">\n",
       "  <thead>\n",
       "    <tr style=\"text-align: right;\">\n",
       "      <th></th>\n",
       "      <th>A</th>\n",
       "      <th>B</th>\n",
       "    </tr>\n",
       "  </thead>\n",
       "  <tbody>\n",
       "    <tr>\n",
       "      <th>0</th>\n",
       "      <td>A0</td>\n",
       "      <td>B0</td>\n",
       "    </tr>\n",
       "    <tr>\n",
       "      <th>1</th>\n",
       "      <td>A1</td>\n",
       "      <td>B1</td>\n",
       "    </tr>\n",
       "    <tr>\n",
       "      <th>2</th>\n",
       "      <td>A2</td>\n",
       "      <td>B2</td>\n",
       "    </tr>\n",
       "  </tbody>\n",
       "</table>\n",
       "</div>"
      ],
      "text/plain": [
       "    A   B\n",
       "0  A0  B0\n",
       "1  A1  B1\n",
       "2  A2  B2"
      ]
     },
     "execution_count": 25,
     "metadata": {},
     "output_type": "execute_result"
    }
   ],
   "source": [
    "left = pd.DataFrame({'A': ['A0', 'A1', 'A2'], 'B': ['B0', 'B1', 'B2']})\n",
    "left"
   ]
  },
  {
   "cell_type": "code",
   "execution_count": 26,
   "id": "41cb682e",
   "metadata": {},
   "outputs": [
    {
     "data": {
      "text/html": [
       "<div>\n",
       "<style scoped>\n",
       "    .dataframe tbody tr th:only-of-type {\n",
       "        vertical-align: middle;\n",
       "    }\n",
       "\n",
       "    .dataframe tbody tr th {\n",
       "        vertical-align: top;\n",
       "    }\n",
       "\n",
       "    .dataframe thead th {\n",
       "        text-align: right;\n",
       "    }\n",
       "</style>\n",
       "<table border=\"1\" class=\"dataframe\">\n",
       "  <thead>\n",
       "    <tr style=\"text-align: right;\">\n",
       "      <th></th>\n",
       "      <th>C</th>\n",
       "      <th>D</th>\n",
       "    </tr>\n",
       "  </thead>\n",
       "  <tbody>\n",
       "    <tr>\n",
       "      <th>a</th>\n",
       "      <td>C0</td>\n",
       "      <td>D0</td>\n",
       "    </tr>\n",
       "    <tr>\n",
       "      <th>b</th>\n",
       "      <td>C1</td>\n",
       "      <td>D1</td>\n",
       "    </tr>\n",
       "    <tr>\n",
       "      <th>c</th>\n",
       "      <td>C2</td>\n",
       "      <td>D2</td>\n",
       "    </tr>\n",
       "  </tbody>\n",
       "</table>\n",
       "</div>"
      ],
      "text/plain": [
       "    C   D\n",
       "a  C0  D0\n",
       "b  C1  D1\n",
       "c  C2  D2"
      ]
     },
     "execution_count": 26,
     "metadata": {},
     "output_type": "execute_result"
    }
   ],
   "source": [
    "right = pd.DataFrame({'C': ['C0', 'C1', 'C2'], 'D': ['D0', 'D1', 'D2']}, index = ['a', 'b', 'c'])\n",
    "right"
   ]
  },
  {
   "cell_type": "code",
   "execution_count": 27,
   "id": "55ff4f11",
   "metadata": {},
   "outputs": [
    {
     "data": {
      "text/html": [
       "<div>\n",
       "<style scoped>\n",
       "    .dataframe tbody tr th:only-of-type {\n",
       "        vertical-align: middle;\n",
       "    }\n",
       "\n",
       "    .dataframe tbody tr th {\n",
       "        vertical-align: top;\n",
       "    }\n",
       "\n",
       "    .dataframe thead th {\n",
       "        text-align: right;\n",
       "    }\n",
       "</style>\n",
       "<table border=\"1\" class=\"dataframe\">\n",
       "  <thead>\n",
       "    <tr style=\"text-align: right;\">\n",
       "      <th></th>\n",
       "      <th>A</th>\n",
       "      <th>B</th>\n",
       "      <th>C</th>\n",
       "      <th>D</th>\n",
       "    </tr>\n",
       "  </thead>\n",
       "  <tbody>\n",
       "    <tr>\n",
       "      <th>0</th>\n",
       "      <td>A0</td>\n",
       "      <td>B0</td>\n",
       "      <td>NaN</td>\n",
       "      <td>NaN</td>\n",
       "    </tr>\n",
       "    <tr>\n",
       "      <th>1</th>\n",
       "      <td>A1</td>\n",
       "      <td>B1</td>\n",
       "      <td>NaN</td>\n",
       "      <td>NaN</td>\n",
       "    </tr>\n",
       "    <tr>\n",
       "      <th>2</th>\n",
       "      <td>A2</td>\n",
       "      <td>B2</td>\n",
       "      <td>NaN</td>\n",
       "      <td>NaN</td>\n",
       "    </tr>\n",
       "    <tr>\n",
       "      <th>a</th>\n",
       "      <td>NaN</td>\n",
       "      <td>NaN</td>\n",
       "      <td>C0</td>\n",
       "      <td>D0</td>\n",
       "    </tr>\n",
       "    <tr>\n",
       "      <th>b</th>\n",
       "      <td>NaN</td>\n",
       "      <td>NaN</td>\n",
       "      <td>C1</td>\n",
       "      <td>D1</td>\n",
       "    </tr>\n",
       "    <tr>\n",
       "      <th>c</th>\n",
       "      <td>NaN</td>\n",
       "      <td>NaN</td>\n",
       "      <td>C2</td>\n",
       "      <td>D2</td>\n",
       "    </tr>\n",
       "  </tbody>\n",
       "</table>\n",
       "</div>"
      ],
      "text/plain": [
       "     A    B    C    D\n",
       "0   A0   B0  NaN  NaN\n",
       "1   A1   B1  NaN  NaN\n",
       "2   A2   B2  NaN  NaN\n",
       "a  NaN  NaN   C0   D0\n",
       "b  NaN  NaN   C1   D1\n",
       "c  NaN  NaN   C2   D2"
      ]
     },
     "execution_count": 27,
     "metadata": {},
     "output_type": "execute_result"
    }
   ],
   "source": [
    "result = pd.merge(left = left, right = right, how = 'outer', left_index = True, right_index = True)\n",
    "result"
   ]
  },
  {
   "cell_type": "markdown",
   "id": "029182aa",
   "metadata": {},
   "source": [
    "4.2.3 根据索引合并"
   ]
  },
  {
   "cell_type": "code",
   "execution_count": 28,
   "id": "17f5a3fe",
   "metadata": {},
   "outputs": [
    {
     "data": {
      "text/html": [
       "<div>\n",
       "<style scoped>\n",
       "    .dataframe tbody tr th:only-of-type {\n",
       "        vertical-align: middle;\n",
       "    }\n",
       "\n",
       "    .dataframe tbody tr th {\n",
       "        vertical-align: top;\n",
       "    }\n",
       "\n",
       "    .dataframe thead th {\n",
       "        text-align: right;\n",
       "    }\n",
       "</style>\n",
       "<table border=\"1\" class=\"dataframe\">\n",
       "  <thead>\n",
       "    <tr style=\"text-align: right;\">\n",
       "      <th></th>\n",
       "      <th>A</th>\n",
       "      <th>B</th>\n",
       "      <th>C</th>\n",
       "      <th>D</th>\n",
       "    </tr>\n",
       "  </thead>\n",
       "  <tbody>\n",
       "    <tr>\n",
       "      <th>0</th>\n",
       "      <td>A0</td>\n",
       "      <td>B0</td>\n",
       "      <td>NaN</td>\n",
       "      <td>NaN</td>\n",
       "    </tr>\n",
       "    <tr>\n",
       "      <th>1</th>\n",
       "      <td>A1</td>\n",
       "      <td>B1</td>\n",
       "      <td>NaN</td>\n",
       "      <td>NaN</td>\n",
       "    </tr>\n",
       "    <tr>\n",
       "      <th>2</th>\n",
       "      <td>A2</td>\n",
       "      <td>B2</td>\n",
       "      <td>NaN</td>\n",
       "      <td>NaN</td>\n",
       "    </tr>\n",
       "  </tbody>\n",
       "</table>\n",
       "</div>"
      ],
      "text/plain": [
       "    A   B    C    D\n",
       "0  A0  B0  NaN  NaN\n",
       "1  A1  B1  NaN  NaN\n",
       "2  A2  B2  NaN  NaN"
      ]
     },
     "execution_count": 28,
     "metadata": {},
     "output_type": "execute_result"
    }
   ],
   "source": [
    "left = pd.DataFrame({'A': ['A0', 'A1', 'A2'],\n",
    "                     'B': ['B0', 'B1', 'B2']})\n",
    "right = pd.DataFrame({'C': ['C0', 'C1', 'C2'],\n",
    "                      'D': ['D0', 'D1', 'D2']}, index = ['a', 'b', 'c'])\n",
    "result = left.join(right)\n",
    "result"
   ]
  },
  {
   "cell_type": "code",
   "execution_count": 29,
   "id": "f0c75919",
   "metadata": {},
   "outputs": [
    {
     "data": {
      "text/html": [
       "<div>\n",
       "<style scoped>\n",
       "    .dataframe tbody tr th:only-of-type {\n",
       "        vertical-align: middle;\n",
       "    }\n",
       "\n",
       "    .dataframe tbody tr th {\n",
       "        vertical-align: top;\n",
       "    }\n",
       "\n",
       "    .dataframe thead th {\n",
       "        text-align: right;\n",
       "    }\n",
       "</style>\n",
       "<table border=\"1\" class=\"dataframe\">\n",
       "  <thead>\n",
       "    <tr style=\"text-align: right;\">\n",
       "      <th></th>\n",
       "      <th>A</th>\n",
       "      <th>B</th>\n",
       "      <th>C</th>\n",
       "      <th>D</th>\n",
       "    </tr>\n",
       "  </thead>\n",
       "  <tbody>\n",
       "    <tr>\n",
       "      <th>0</th>\n",
       "      <td>A0</td>\n",
       "      <td>B0</td>\n",
       "      <td>NaN</td>\n",
       "      <td>NaN</td>\n",
       "    </tr>\n",
       "    <tr>\n",
       "      <th>1</th>\n",
       "      <td>A1</td>\n",
       "      <td>B1</td>\n",
       "      <td>NaN</td>\n",
       "      <td>NaN</td>\n",
       "    </tr>\n",
       "    <tr>\n",
       "      <th>2</th>\n",
       "      <td>A2</td>\n",
       "      <td>B2</td>\n",
       "      <td>NaN</td>\n",
       "      <td>NaN</td>\n",
       "    </tr>\n",
       "    <tr>\n",
       "      <th>a</th>\n",
       "      <td>NaN</td>\n",
       "      <td>NaN</td>\n",
       "      <td>C0</td>\n",
       "      <td>D0</td>\n",
       "    </tr>\n",
       "    <tr>\n",
       "      <th>b</th>\n",
       "      <td>NaN</td>\n",
       "      <td>NaN</td>\n",
       "      <td>C1</td>\n",
       "      <td>D1</td>\n",
       "    </tr>\n",
       "    <tr>\n",
       "      <th>c</th>\n",
       "      <td>NaN</td>\n",
       "      <td>NaN</td>\n",
       "      <td>C2</td>\n",
       "      <td>D2</td>\n",
       "    </tr>\n",
       "  </tbody>\n",
       "</table>\n",
       "</div>"
      ],
      "text/plain": [
       "     A    B    C    D\n",
       "0   A0   B0  NaN  NaN\n",
       "1   A1   B1  NaN  NaN\n",
       "2   A2   B2  NaN  NaN\n",
       "a  NaN  NaN   C0   D0\n",
       "b  NaN  NaN   C1   D1\n",
       "c  NaN  NaN   C2   D2"
      ]
     },
     "execution_count": 29,
     "metadata": {},
     "output_type": "execute_result"
    }
   ],
   "source": [
    "result = left.join(right, how = 'outer')\n",
    "result"
   ]
  },
  {
   "cell_type": "code",
   "execution_count": 30,
   "id": "68bd1def",
   "metadata": {},
   "outputs": [
    {
     "data": {
      "text/html": [
       "<div>\n",
       "<style scoped>\n",
       "    .dataframe tbody tr th:only-of-type {\n",
       "        vertical-align: middle;\n",
       "    }\n",
       "\n",
       "    .dataframe tbody tr th {\n",
       "        vertical-align: top;\n",
       "    }\n",
       "\n",
       "    .dataframe thead th {\n",
       "        text-align: right;\n",
       "    }\n",
       "</style>\n",
       "<table border=\"1\" class=\"dataframe\">\n",
       "  <thead>\n",
       "    <tr style=\"text-align: right;\">\n",
       "      <th></th>\n",
       "      <th>A</th>\n",
       "      <th>B</th>\n",
       "      <th>key</th>\n",
       "      <th>C</th>\n",
       "      <th>D</th>\n",
       "    </tr>\n",
       "  </thead>\n",
       "  <tbody>\n",
       "    <tr>\n",
       "      <th>0</th>\n",
       "      <td>A0</td>\n",
       "      <td>B0</td>\n",
       "      <td>K0</td>\n",
       "      <td>C0</td>\n",
       "      <td>D0</td>\n",
       "    </tr>\n",
       "    <tr>\n",
       "      <th>1</th>\n",
       "      <td>A1</td>\n",
       "      <td>B1</td>\n",
       "      <td>K1</td>\n",
       "      <td>C1</td>\n",
       "      <td>D1</td>\n",
       "    </tr>\n",
       "    <tr>\n",
       "      <th>2</th>\n",
       "      <td>A2</td>\n",
       "      <td>B2</td>\n",
       "      <td>K2</td>\n",
       "      <td>C2</td>\n",
       "      <td>D2</td>\n",
       "    </tr>\n",
       "  </tbody>\n",
       "</table>\n",
       "</div>"
      ],
      "text/plain": [
       "    A   B key   C   D\n",
       "0  A0  B0  K0  C0  D0\n",
       "1  A1  B1  K1  C1  D1\n",
       "2  A2  B2  K2  C2  D2"
      ]
     },
     "execution_count": 30,
     "metadata": {},
     "output_type": "execute_result"
    }
   ],
   "source": [
    "left = pd.DataFrame({'A': ['A0', 'A1', 'A2'],\n",
    "                     'B': ['B0', 'B1', 'B2'],\n",
    "                     'key': ['K0', 'K1', 'K2']})\n",
    "right = pd.DataFrame({'C': ['C0', 'C1', 'C2'],\n",
    "                      'D': ['D0', 'D1', 'D2']},\n",
    "                     index = ['K0', 'K1', 'K2'])\n",
    "result = left.join(right, how = 'left', on = 'key')\n",
    "result"
   ]
  },
  {
   "cell_type": "markdown",
   "id": "37510e06",
   "metadata": {},
   "source": [
    "4.2.4 合并重叠数据"
   ]
  },
  {
   "cell_type": "markdown",
   "id": "97ed7851",
   "metadata": {},
   "source": [
    "填充缺失数据"
   ]
  },
  {
   "cell_type": "code",
   "execution_count": 1,
   "id": "8078ee04",
   "metadata": {},
   "outputs": [
    {
     "data": {
      "text/html": [
       "<div>\n",
       "<style scoped>\n",
       "    .dataframe tbody tr th:only-of-type {\n",
       "        vertical-align: middle;\n",
       "    }\n",
       "\n",
       "    .dataframe tbody tr th {\n",
       "        vertical-align: top;\n",
       "    }\n",
       "\n",
       "    .dataframe thead th {\n",
       "        text-align: right;\n",
       "    }\n",
       "</style>\n",
       "<table border=\"1\" class=\"dataframe\">\n",
       "  <thead>\n",
       "    <tr style=\"text-align: right;\">\n",
       "      <th></th>\n",
       "      <th>A</th>\n",
       "      <th>B</th>\n",
       "      <th>key</th>\n",
       "    </tr>\n",
       "  </thead>\n",
       "  <tbody>\n",
       "    <tr>\n",
       "      <th>0</th>\n",
       "      <td>C1</td>\n",
       "      <td>D1</td>\n",
       "      <td>K0</td>\n",
       "    </tr>\n",
       "    <tr>\n",
       "      <th>1</th>\n",
       "      <td>A0</td>\n",
       "      <td>B1</td>\n",
       "      <td>K1</td>\n",
       "    </tr>\n",
       "    <tr>\n",
       "      <th>2</th>\n",
       "      <td>A1</td>\n",
       "      <td>D2</td>\n",
       "      <td>K2</td>\n",
       "    </tr>\n",
       "    <tr>\n",
       "      <th>3</th>\n",
       "      <td>A2</td>\n",
       "      <td>B3</td>\n",
       "      <td>K3</td>\n",
       "    </tr>\n",
       "  </tbody>\n",
       "</table>\n",
       "</div>"
      ],
      "text/plain": [
       "    A   B key\n",
       "0  C1  D1  K0\n",
       "1  A0  B1  K1\n",
       "2  A1  D2  K2\n",
       "3  A2  B3  K3"
      ]
     },
     "execution_count": 1,
     "metadata": {},
     "output_type": "execute_result"
    }
   ],
   "source": [
    "import pandas as pd\n",
    "import numpy as np\n",
    "from numpy import NAN\n",
    "left = pd.DataFrame({'A': [np.nan, 'A0', 'A1', 'A2'],\n",
    "                     'B': [np.nan, 'B1', np.nan, 'B3'],\n",
    "                     'key': ['K0', 'K1', 'K2', 'K3']})\n",
    "right = pd.DataFrame({'A': ['C0', 'C1', 'C2'],\n",
    "                      'B': ['D0', 'D1', 'D2']},\n",
    "                     index = [1, 0, 2])\n",
    "left.combine_first(right)"
   ]
  },
  {
   "cell_type": "markdown",
   "id": "6e6de17e",
   "metadata": {},
   "source": [
    "### 4.3 数据重塑"
   ]
  },
  {
   "cell_type": "markdown",
   "id": "7fb9e9eb",
   "metadata": {},
   "source": [
    "4.3.1 重塑分层索引"
   ]
  },
  {
   "cell_type": "code",
   "execution_count": 33,
   "id": "b346be65",
   "metadata": {},
   "outputs": [
    {
     "data": {
      "text/html": [
       "<div>\n",
       "<style scoped>\n",
       "    .dataframe tbody tr th:only-of-type {\n",
       "        vertical-align: middle;\n",
       "    }\n",
       "\n",
       "    .dataframe tbody tr th {\n",
       "        vertical-align: top;\n",
       "    }\n",
       "\n",
       "    .dataframe thead th {\n",
       "        text-align: right;\n",
       "    }\n",
       "</style>\n",
       "<table border=\"1\" class=\"dataframe\">\n",
       "  <thead>\n",
       "    <tr style=\"text-align: right;\">\n",
       "      <th></th>\n",
       "      <th>A</th>\n",
       "      <th>B</th>\n",
       "    </tr>\n",
       "  </thead>\n",
       "  <tbody>\n",
       "    <tr>\n",
       "      <th>0</th>\n",
       "      <td>A0</td>\n",
       "      <td>B0</td>\n",
       "    </tr>\n",
       "    <tr>\n",
       "      <th>1</th>\n",
       "      <td>A1</td>\n",
       "      <td>B1</td>\n",
       "    </tr>\n",
       "    <tr>\n",
       "      <th>2</th>\n",
       "      <td>A2</td>\n",
       "      <td>B2</td>\n",
       "    </tr>\n",
       "  </tbody>\n",
       "</table>\n",
       "</div>"
      ],
      "text/plain": [
       "    A   B\n",
       "0  A0  B0\n",
       "1  A1  B1\n",
       "2  A2  B2"
      ]
     },
     "execution_count": 33,
     "metadata": {},
     "output_type": "execute_result"
    }
   ],
   "source": [
    "df = pd.DataFrame({'A': ['A0', 'A1', 'A2'],\n",
    "                   'B': ['B0', 'B1', 'B2']})\n",
    "df"
   ]
  },
  {
   "cell_type": "code",
   "execution_count": 34,
   "id": "be00c7b3",
   "metadata": {},
   "outputs": [
    {
     "data": {
      "text/plain": [
       "0  A    A0\n",
       "   B    B0\n",
       "1  A    A1\n",
       "   B    B1\n",
       "2  A    A2\n",
       "   B    B2\n",
       "dtype: object"
      ]
     },
     "execution_count": 34,
     "metadata": {},
     "output_type": "execute_result"
    }
   ],
   "source": [
    "# 重塑df对象\n",
    "result = df.stack()\n",
    "result"
   ]
  },
  {
   "cell_type": "code",
   "execution_count": 35,
   "id": "cff8b04a",
   "metadata": {},
   "outputs": [
    {
     "data": {
      "text/plain": [
       "pandas.core.series.Series"
      ]
     },
     "execution_count": 35,
     "metadata": {},
     "output_type": "execute_result"
    }
   ],
   "source": [
    "type(result)"
   ]
  },
  {
   "cell_type": "code",
   "execution_count": 36,
   "id": "4eb0d201",
   "metadata": {},
   "outputs": [
    {
     "data": {
      "text/html": [
       "<div>\n",
       "<style scoped>\n",
       "    .dataframe tbody tr th:only-of-type {\n",
       "        vertical-align: middle;\n",
       "    }\n",
       "\n",
       "    .dataframe tbody tr th {\n",
       "        vertical-align: top;\n",
       "    }\n",
       "\n",
       "    .dataframe thead th {\n",
       "        text-align: right;\n",
       "    }\n",
       "</style>\n",
       "<table border=\"1\" class=\"dataframe\">\n",
       "  <thead>\n",
       "    <tr style=\"text-align: right;\">\n",
       "      <th></th>\n",
       "      <th>A</th>\n",
       "      <th>B</th>\n",
       "    </tr>\n",
       "  </thead>\n",
       "  <tbody>\n",
       "    <tr>\n",
       "      <th>0</th>\n",
       "      <td>A0</td>\n",
       "      <td>B0</td>\n",
       "    </tr>\n",
       "    <tr>\n",
       "      <th>1</th>\n",
       "      <td>A1</td>\n",
       "      <td>B1</td>\n",
       "    </tr>\n",
       "    <tr>\n",
       "      <th>2</th>\n",
       "      <td>A2</td>\n",
       "      <td>B2</td>\n",
       "    </tr>\n",
       "  </tbody>\n",
       "</table>\n",
       "</div>"
      ],
      "text/plain": [
       "    A   B\n",
       "0  A0  B0\n",
       "1  A1  B1\n",
       "2  A2  B2"
      ]
     },
     "execution_count": 36,
     "metadata": {},
     "output_type": "execute_result"
    }
   ],
   "source": [
    "result.unstack()"
   ]
  },
  {
   "cell_type": "code",
   "execution_count": null,
   "id": "61abed4f",
   "metadata": {},
   "outputs": [],
   "source": [
    "df = pd.DataFrame(np.array([[26, 20, 22, 26], [30, 25, 24, 20]]), \n",
    "                 index = ['男生人数', '女生人数'],\n",
    "                 columns = [['一楼', '一楼', '二楼', '二楼'],\n",
    "                           ['A教室', 'B教室', 'A教室', 'B教室']])\n",
    "df.stack()"
   ]
  },
  {
   "cell_type": "code",
   "execution_count": null,
   "id": "e97c3f9e",
   "metadata": {},
   "outputs": [],
   "source": [
    "df.stack(level = 0) # 旋转外层索引"
   ]
  },
  {
   "cell_type": "markdown",
   "id": "913fe66d",
   "metadata": {},
   "source": [
    "4.3.2 轴向旋转"
   ]
  },
  {
   "cell_type": "code",
   "execution_count": null,
   "id": "2ed0e7e6",
   "metadata": {},
   "outputs": [],
   "source": [
    "df = pd.DaatFrame({'商品名称': ['荣耀9青春版', '小米6x', 'OPPO A1', \n",
    "                                '荣耀9青春版', '小米6x', 'OPPO A1',\n",
    "                   '出售日期': ['2023年5月25日', '2023年5月25日',\n",
    "                                '2023年5月25日','2023年6月18日',\n",
    "                                '2023年6月18日','2023年6月18日']\n",
    "                           ]})"
   ]
  },
  {
   "cell_type": "markdown",
   "id": "3c3e3d07",
   "metadata": {},
   "source": [
    "### 4.4 数据转换"
   ]
  },
  {
   "cell_type": "markdown",
   "id": "09b6f8cf",
   "metadata": {},
   "source": [
    "4.4.1 面元划分"
   ]
  },
  {
   "cell_type": "code",
   "execution_count": 2,
   "id": "7f6ab77c",
   "metadata": {},
   "outputs": [
    {
     "name": "stdout",
     "output_type": "stream",
     "text": [
      "0     (18, 30]\n",
      "1     (18, 30]\n",
      "2     (18, 30]\n",
      "3    (50, 100]\n",
      "4     (18, 30]\n",
      "5     (40, 50]\n",
      "6    (50, 100]\n",
      "7     (40, 50]\n",
      "8     (18, 30]\n",
      "dtype: category\n",
      "Categories (5, interval[int64, right]): [(0, 18] < (18, 30] < (30, 40] < (40, 50] < (50, 100]]\n"
     ]
    }
   ],
   "source": [
    "ages = pd.Series([19, 21, 25, 55, 30, 45, 52, 46, 20])\n",
    "bins = [0, 18, 30, 40, 50, 100]\n",
    "# 使用cut()函数划分年龄区间\n",
    "cuts = pd.cut(ages, bins)\n",
    "print(cuts)"
   ]
  },
  {
   "cell_type": "markdown",
   "id": "0d271a1c",
   "metadata": {},
   "source": [
    "4.4.2 哑变量处理"
   ]
  },
  {
   "cell_type": "code",
   "execution_count": 3,
   "id": "ef2dd2d8",
   "metadata": {},
   "outputs": [
    {
     "data": {
      "text/html": [
       "<div>\n",
       "<style scoped>\n",
       "    .dataframe tbody tr th:only-of-type {\n",
       "        vertical-align: middle;\n",
       "    }\n",
       "\n",
       "    .dataframe tbody tr th {\n",
       "        vertical-align: top;\n",
       "    }\n",
       "\n",
       "    .dataframe thead th {\n",
       "        text-align: right;\n",
       "    }\n",
       "</style>\n",
       "<table border=\"1\" class=\"dataframe\">\n",
       "  <thead>\n",
       "    <tr style=\"text-align: right;\">\n",
       "      <th></th>\n",
       "      <th>col__司机</th>\n",
       "      <th>col__学生</th>\n",
       "      <th>col__导游</th>\n",
       "      <th>col__工人</th>\n",
       "      <th>col__教师</th>\n",
       "    </tr>\n",
       "  </thead>\n",
       "  <tbody>\n",
       "    <tr>\n",
       "      <th>0</th>\n",
       "      <td>False</td>\n",
       "      <td>False</td>\n",
       "      <td>False</td>\n",
       "      <td>True</td>\n",
       "      <td>False</td>\n",
       "    </tr>\n",
       "    <tr>\n",
       "      <th>1</th>\n",
       "      <td>False</td>\n",
       "      <td>True</td>\n",
       "      <td>False</td>\n",
       "      <td>False</td>\n",
       "      <td>False</td>\n",
       "    </tr>\n",
       "    <tr>\n",
       "      <th>2</th>\n",
       "      <td>True</td>\n",
       "      <td>False</td>\n",
       "      <td>False</td>\n",
       "      <td>False</td>\n",
       "      <td>False</td>\n",
       "    </tr>\n",
       "    <tr>\n",
       "      <th>3</th>\n",
       "      <td>False</td>\n",
       "      <td>False</td>\n",
       "      <td>False</td>\n",
       "      <td>False</td>\n",
       "      <td>True</td>\n",
       "    </tr>\n",
       "    <tr>\n",
       "      <th>4</th>\n",
       "      <td>False</td>\n",
       "      <td>False</td>\n",
       "      <td>True</td>\n",
       "      <td>False</td>\n",
       "      <td>False</td>\n",
       "    </tr>\n",
       "  </tbody>\n",
       "</table>\n",
       "</div>"
      ],
      "text/plain": [
       "   col__司机  col__学生  col__导游  col__工人  col__教师\n",
       "0    False    False    False     True    False\n",
       "1    False     True    False    False    False\n",
       "2     True    False    False    False    False\n",
       "3    False    False    False    False     True\n",
       "4    False    False     True    False    False"
      ]
     },
     "execution_count": 3,
     "metadata": {},
     "output_type": "execute_result"
    }
   ],
   "source": [
    "df1 = pd.DataFrame({'职业': ['工人', '学生', '司机', '教师', '导游']})\n",
    "pd.get_dummies(df1, prefix = ['col_']) # 哑变量处理"
   ]
  },
  {
   "cell_type": "code",
   "execution_count": null,
   "id": "3ea0a472",
   "metadata": {},
   "outputs": [],
   "source": []
  }
 ],
 "metadata": {
  "kernelspec": {
   "display_name": "Python [conda env:anaconda3]",
   "language": "python",
   "name": "conda-env-anaconda3-py"
  },
  "language_info": {
   "codemirror_mode": {
    "name": "ipython",
    "version": 3
   },
   "file_extension": ".py",
   "mimetype": "text/x-python",
   "name": "python",
   "nbconvert_exporter": "python",
   "pygments_lexer": "ipython3",
   "version": "3.11.7"
  }
 },
 "nbformat": 4,
 "nbformat_minor": 5
}
