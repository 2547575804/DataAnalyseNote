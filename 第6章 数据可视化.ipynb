{
 "cells": [
  {
   "cell_type": "markdown",
   "id": "3e603771-a234-4636-8c13-59e2a6620c1b",
   "metadata": {},
   "source": [
    "#### 6.2 使用Matplotlib绘图"
   ]
  },
  {
   "cell_type": "markdown",
   "id": "ed8cd341-ec35-41b9-9620-66df1749a449",
   "metadata": {},
   "source": [
    "#### 6.2.1 绘制折线图"
   ]
  },
  {
   "cell_type": "code",
   "execution_count": null,
   "id": "bcd74a02-3e99-48dc-85ae-ccb25c60f5c8",
   "metadata": {},
   "outputs": [],
   "source": [
    "import numpy as np\n",
    "import matplotlib.pyplot as plt\n",
    "x = np.arange(1, 16)\n",
    "y_max = np.array([32, 33, 34, 34, 33, 31, 30, 29, 30, 29, 26, 23, 21, 25, 31])\n",
    "plt.plot(x, y_max)\n",
    "plt.show()"
   ]
  },
  {
   "cell_type": "code",
   "execution_count": null,
   "id": "9da69ddb-adcf-40fd-ac6e-2861640cd600",
   "metadata": {},
   "outputs": [],
   "source": [
    "import numpy as np\n",
    "import matplotlib.pyplot as plt\n",
    "x = np.arange(1, 16)\n",
    "y_max = np.array([32, 33, 34, 34, 33, 31, 30, 29, 30, 29, 26, 23, 21, 25, 31])\n",
    "y_min = np.array([19, 19, 20, 22, 22, 21, 22, 16, 18, 18, 17, 14, 15, 16, 16])\n",
    "plt.plot(x, y_max)\n",
    "plt.plot(x, y_min)\n",
    "plt.show()"
   ]
  },
  {
   "cell_type": "code",
   "execution_count": null,
   "id": "5a92ef92-259b-480b-8ed1-d41a0193ddea",
   "metadata": {},
   "outputs": [],
   "source": [
    "import numpy as np\n",
    "import matplotlib.pyplot as plt\n",
    "x = np.arange(1, 16)\n",
    "y_max = np.array([32, 33, 34, 34, 33, 31, 30, 29, 30, 29, 26, 23, 21, 25, 31])\n",
    "y_min = np.array([19, 19, 20, 22, 22, 21, 22, 16, 18, 18, 17, 14, 15, 16, 16])\n",
    "plt.plot(x, y_max, marker = 'o', ms = 6)\n",
    "plt.plot(x, y_min, marker = '*', ms = 8)\n",
    "plt.show()"
   ]
  },
  {
   "cell_type": "code",
   "execution_count": null,
   "id": "3d930d1d-6fff-4d99-8773-870dcafddac4",
   "metadata": {},
   "outputs": [],
   "source": [
    "import numpy as np\n",
    "import matplotlib.pyplot as plt\n",
    "x = np.arange(1, 16)\n",
    "y_max = np.array([32, 33, 34, 34, 33, 31, 30, 29, 30, 29, 26, 23, 21, 25, 31])\n",
    "y_min = np.array([19, 19, 20, 22, 22, 21, 22, 16, 18, 18, 17, 14, 15, 16, 16])\n",
    "plt.plot(x, y_max, marker = 'o', ms = 6)\n",
    "plt.plot(x, y_min, marker = '*', ms = 8)\n",
    "plt.rcParams['font.sans-serif'] = ['SimHei']\n",
    "plt.title('北京未来15天的最高气温和最低气温')\n",
    "plt.xlabel('日期')\n",
    "plt.ylabel('气温/℃')\n",
    "plt.show()"
   ]
  },
  {
   "cell_type": "markdown",
   "id": "e31dd8fd-2f02-4868-b0fa-301b70959757",
   "metadata": {},
   "source": [
    "#### 6.2.2 绘制柱形图"
   ]
  },
  {
   "cell_type": "code",
   "execution_count": null,
   "id": "e03deb0d-fcf2-464f-bb6f-050eaf081c7d",
   "metadata": {},
   "outputs": [],
   "source": [
    "import numpy as np\n",
    "import matplotlib.pyplot as plt\n",
    "x = np.arange(1, 6)\n",
    "y_a = np.array([15970, 18770, 22020, 26890, 31150])\n",
    "plt.bar(x, y_a, tick_label = [\"FY2018\", \"FY2019\", \"FY2020\", \"FY2021\", \"FY2022\"], width = 0.3)\n",
    "plt.show()"
   ]
  },
  {
   "cell_type": "code",
   "execution_count": null,
   "id": "c63b1ab6-bf3a-475d-89ff-003649c62ea3",
   "metadata": {},
   "outputs": [],
   "source": [
    "import numpy as np\n",
    "import matplotlib.pyplot as plt\n",
    "x = np.arange(1, 6)\n",
    "y_a = np.array([15970, 18770, 22020, 26890, 31150])\n",
    "y_b = np.array([8470, 12150, 15650, 21310, 26120])\n",
    "bar_width = 0.3\n",
    "plt.bar(x, y_a, tick_label = [\"FY2018\", \"FY2019\", \"FY2020\", \"FY2021\", \"FY2022\"], width = bar_width)\n",
    "plt.bar(x+bar_width, y_b, width = bar_width)\n",
    "plt.show()"
   ]
  },
  {
   "cell_type": "code",
   "execution_count": null,
   "id": "84f3c490-53d4-4d9b-bc11-e8a14bd40630",
   "metadata": {},
   "outputs": [],
   "source": [
    "import numpy as np\n",
    "import matplotlib.pyplot as plt\n",
    "x = np.arange(1, 6)\n",
    "y_a = np.array([15970, 18770, 22020, 26890, 31150])\n",
    "y_b = np.array([8470, 12150, 15650, 21310, 26120])\n",
    "bar_width = 0.3\n",
    "rect_a = plt.bar(x, y_a, tick_label = [\"FY2018\", \"FY2019\", \"FY2020\", \"FY2021\", \"FY2022\"], width = bar_width)\n",
    "rect_b = plt.bar(x+bar_width, y_b, width = bar_width)\n",
    "plt.rcParams['font.sans-serif'] = ['SimHei']\n",
    "plt.ylabel('GMV(亿元)')\n",
    "plt.title('2018财年-2022财年品牌A和品牌B的GMV')\n",
    "def autolabel(rects):    # 添加注释文本\n",
    "    for rect in rects:\n",
    "        rect_height = rect.get_height()\n",
    "        rect_x = rect.get_x()\n",
    "        rect_width = rect.get_width()\n",
    "        plt.text(rect_x + rect_width / 2, rect_height + 30,\n",
    "                 s = '{}'.format(rect_height),\n",
    "                 ha = 'center', va = 'bottom', fontsize = 9)\n",
    "autolabel(rect_a)\n",
    "autolabel(rect_b)\n",
    "plt.legend([rect_a, rect_b], ['品牌A', '品牌B'])\n",
    "plt.show()"
   ]
  },
  {
   "cell_type": "markdown",
   "id": "be84f973-f7b6-4dff-9cfb-3529589640f3",
   "metadata": {},
   "source": [
    "#### 6.2.3 绘制直方图"
   ]
  },
  {
   "cell_type": "code",
   "execution_count": null,
   "id": "766cf4c1-09f1-4c85-b2e4-099526b4d8c2",
   "metadata": {},
   "outputs": [],
   "source": [
    "import numpy as np\n",
    "import matplotlib.pyplot as plt\n",
    "plt.rcParams['font.sans-serif'] = ['SimHei']\n",
    "np.random.seed(0)\n",
    "arr_random = np.random.randint(0, 256, 50)\n",
    "plt.hist(arr_random, bins = 10, color = 'c', edgecolor = 'k', alpha = 0.7)\n",
    "plt.xlabel('灰度值')\n",
    "plt.ylabel('像素数（个）')\n",
    "plt.title('灰度直方图')\n",
    "plt.show()"
   ]
  },
  {
   "cell_type": "code",
   "execution_count": null,
   "id": "bcff054e-e79e-437a-8ea1-df2ca3d685f0",
   "metadata": {},
   "outputs": [],
   "source": [
    "import numpy as np\n",
    "import matplotlib.pyplot as plt\n",
    "plt.rcParams['font.sans-serif'] = ['SimHei']\n",
    "np.random.seed(0)\n",
    "arr_random = np.random.randint(0, 256, 50)\n",
    "nums, bins, patches = plt.hist(arr_random, bins = 10, color = 'c', edgecolor = 'k', alpha = 0.7)\n",
    "plt.xlabel('灰度值')\n",
    "plt.ylabel('像素数（个）')\n",
    "plt.title('灰度直方图')\n",
    "plt.xticks(bins, bins)\n",
    "plt.show()"
   ]
  },
  {
   "cell_type": "markdown",
   "id": "1464e5c7-debb-477e-afc4-a1e5e6bda7c5",
   "metadata": {},
   "source": [
    "#### 6.2.4 绘制散点图"
   ]
  },
  {
   "cell_type": "code",
   "execution_count": null,
   "id": "8094349d-2fa7-4746-914b-dc3df3b3d9e5",
   "metadata": {},
   "outputs": [],
   "source": [
    "import numpy as np\n",
    "import matplotlib.pyplot as plt\n",
    "plt.rcParams['font.sans-serif'] = ['SimHei']\n",
    "house_area = np.array([225.98, 247.07, 253.14, 457.85, 241.58,\n",
    "                       301.01, 20.67, 288.64, 163.56, 120.06,\n",
    "                       207.83, 342.75, 147.9, 53.06, 224.72,\n",
    "                       29.51, 21.61, 483.21, 245.25, 399.25, 343.35])\n",
    "house_price = np.array([196.63, 203.88, 210.75, 372.74, \n",
    "                        202.41, 247.61, 24.9, 239.34, 140.32, 104.15,\n",
    "                        176.84, 288.23, 128.79, 49.64, 191.74, 33.1,\n",
    "                        30.74, 400.02, 205.35, 330.64, 283.45])\n",
    "plt.scatter(house_area, house_price, s = 50, c = 'y', edgecolors = 'k')\n",
    "plt.title('房屋面积和房屋价格的关系')\n",
    "plt.xlabel('房屋面积（平方米）')\n",
    "plt.ylabel('房屋价格（万元）')\n",
    "plt.show()"
   ]
  },
  {
   "cell_type": "code",
   "execution_count": null,
   "id": "9c965a71-a9e2-42e8-9bf5-32a1b9eb60f3",
   "metadata": {},
   "outputs": [],
   "source": [
    "import numpy as np\n",
    "import matplotlib.pyplot as plt\n",
    "plt.rcParams['font.sans-serif'] = ['SimHei']\n",
    "house_area = np.array([225.98, 247.07, 253.14, 457.85, 241.58,\n",
    "                       301.01, 20.67, 288.64, 163.56, 120.06,\n",
    "                       207.83, 342.75, 147.9, 53.06, 224.72,\n",
    "                       29.51, 21.61, 483.21, 245.25, 399.25, 343.35])\n",
    "house_price = np.array([196.63, 203.88, 210.75, 372.74, \n",
    "                        202.41, 247.61, 24.9, 239.34, 140.32, 104.15,\n",
    "                        176.84, 288.23, 128.79, 49.64, 191.74, 33.1,\n",
    "                        30.74, 400.02, 205.35, 330.64, 283.45])\n",
    "plt.scatter(house_area, house_price, s = 50, c = 'y', edgecolors = 'k')\n",
    "plt.title('房屋面积和房屋价格的关系')\n",
    "plt.xlabel('房屋面积（平方米）')\n",
    "plt.ylabel('房屋价格（万元）')\n",
    "plt.grid(visible = True, linewidth = 0.5) # 添加网格\n",
    "plt.xlim(house_area.min()-30, house_area.max()+30) # 设置x轴的刻度范围\n",
    "plt.show()"
   ]
  },
  {
   "cell_type": "markdown",
   "id": "ab649e8e-b017-43ed-b7cb-dcaeaadb7e00",
   "metadata": {},
   "source": [
    "#### 6.3 使用Seaborn绘图"
   ]
  },
  {
   "cell_type": "markdown",
   "id": "6481bf80-92af-4c6b-b81c-6dfba21d98b8",
   "metadata": {},
   "source": [
    "#### 6.3.1 可视化数据的分布"
   ]
  },
  {
   "cell_type": "markdown",
   "id": "2539cdf9-f987-46a8-bb61-733786f22a09",
   "metadata": {},
   "source": [
    "#### 1.单变量数据的分布"
   ]
  },
  {
   "cell_type": "code",
   "execution_count": null,
   "id": "4f453ec3-1680-456f-9358-686dd08a0839",
   "metadata": {},
   "outputs": [],
   "source": [
    "import seaborn as sns\n",
    "tips = sns.load_dataset('tips', data_home = 'data/seaborn-data')\n",
    "sns.displot(tips['total_bill'], bins = 10)"
   ]
  },
  {
   "cell_type": "code",
   "execution_count": null,
   "id": "b3d8a800-c9a6-4a38-88a1-56215c9355b6",
   "metadata": {},
   "outputs": [],
   "source": [
    "import seaborn as sns\n",
    "tips = sns.load_dataset('tips', data_home = 'data/seaborn-data')\n",
    "sns.displot(tips['total_bill'], kind = 'kde')"
   ]
  },
  {
   "cell_type": "code",
   "execution_count": null,
   "id": "633d8b38-3910-4b60-8679-f93068b080cd",
   "metadata": {},
   "outputs": [],
   "source": [
    "import seaborn as sns\n",
    "tips = sns.load_dataset('tips', data_home = 'data/seaborn-data')\n",
    "sns.displot(tips['total_bill'], kind = 'kde', rug = True)"
   ]
  },
  {
   "cell_type": "markdown",
   "id": "a4e3d398-a240-484f-9899-adf3a7580c05",
   "metadata": {},
   "source": [
    "#### 2.双变量数据的分布"
   ]
  },
  {
   "cell_type": "markdown",
   "id": "a333c8a5-3321-465f-a4af-cf4d63a2e5c0",
   "metadata": {},
   "source": [
    "（1）绘制散点图"
   ]
  },
  {
   "cell_type": "code",
   "execution_count": null,
   "id": "c3426354-13e8-4842-b731-a3bf07a0f3eb",
   "metadata": {},
   "outputs": [],
   "source": [
    "import seaborn as sns\n",
    "tips = sns.load_dataset('tips', data_home = 'data/seaborn-data')\n",
    "sns.jointplot(x = 'total_bill', y = 'tip', data = tips)"
   ]
  },
  {
   "cell_type": "markdown",
   "id": "cb0837bf-1dc8-4c28-ad2c-4b3832de114f",
   "metadata": {},
   "source": [
    "（2）绘制六边形二维直方图"
   ]
  },
  {
   "cell_type": "code",
   "execution_count": null,
   "id": "46403824-f8d4-40bb-944d-4270032eb07d",
   "metadata": {},
   "outputs": [],
   "source": [
    "import seaborn as sns\n",
    "tips = sns.load_dataset('tips', data_home = 'data/seaborn-data')\n",
    "sns.jointplot(x = 'total_bill', y = 'tip', data = tips, kind = \"hex\")"
   ]
  },
  {
   "cell_type": "markdown",
   "id": "44ccb113-b255-4693-9a9d-302c792bdbed",
   "metadata": {},
   "source": [
    "（3）绘制二维密度图"
   ]
  },
  {
   "cell_type": "code",
   "execution_count": null,
   "id": "c853dcef-2cc7-4374-a280-fbe280e7f721",
   "metadata": {},
   "outputs": [],
   "source": [
    "import seaborn as sns\n",
    "tips = sns.load_dataset('tips', data_home = 'data/seaborn-data')\n",
    "sns.jointplot(x = 'total_bill', y = 'tip', data = tips, kind = \"hex\", shade = True)"
   ]
  },
  {
   "cell_type": "markdown",
   "id": "baa40182-81f7-45ee-a5e5-2afc956dcd8f",
   "metadata": {},
   "source": [
    "#### 6.3.2 用分类数据绘图"
   ]
  },
  {
   "cell_type": "markdown",
   "id": "d9a8daf0-6d92-419a-965a-d6ee48e800ca",
   "metadata": {},
   "source": [
    "1.分类数据的散点图"
   ]
  },
  {
   "cell_type": "code",
   "execution_count": null,
   "id": "506f009c-2663-4af6-b13a-d467e0d5b4c6",
   "metadata": {},
   "outputs": [],
   "source": [
    "import seaborn as sns\n",
    "tips = sns.load_dataset('tips', data_home = 'data/seaborn-data')\n",
    "sns.stripplot(x = \"day\", y = \"total_bill\", data = tips)"
   ]
  },
  {
   "cell_type": "code",
   "execution_count": null,
   "id": "6a494f41-f4b3-40a5-97b0-e219dc6d6b89",
   "metadata": {},
   "outputs": [],
   "source": [
    "import seaborn as sns\n",
    "tips = sns.load_dataset('tips', data_home = 'data/seaborn-data')\n",
    "sns.swarmplot(x = \"day\", y = \"total_bill\", data = tips)"
   ]
  },
  {
   "cell_type": "markdown",
   "id": "7373f8fa-4fa6-4430-8f61-d61757368f02",
   "metadata": {},
   "source": [
    "2.分类内的分布"
   ]
  },
  {
   "cell_type": "markdown",
   "id": "947ce3ff-bc50-4d43-8d5a-03f5dae00a81",
   "metadata": {},
   "source": [
    "（1）绘制箱形图"
   ]
  },
  {
   "cell_type": "code",
   "execution_count": null,
   "id": "3328e427-d894-4365-a405-813a5bafc43d",
   "metadata": {},
   "outputs": [],
   "source": [
    "import seaborn as sns\n",
    "tips = sns.load_dataset('tips', data_home = 'data/seaborn-data')\n",
    "sns.boxplot(x = \"day\", y = \"total_bill\", data = tips)"
   ]
  },
  {
   "cell_type": "markdown",
   "id": "240b0473-9c76-4b08-934c-caa28ac98fd8",
   "metadata": {},
   "source": [
    "（2）绘制小提琴图"
   ]
  },
  {
   "cell_type": "code",
   "execution_count": null,
   "id": "9a9ded43-6729-4e8f-846b-d5c15922814d",
   "metadata": {},
   "outputs": [],
   "source": [
    "import seaborn as sns\n",
    "tips = sns.load_dataset('tips', data_home = 'data/seaborn-data')\n",
    "sns.violinplot(x = \"day\", y = \"total_bill\", data = tips)"
   ]
  },
  {
   "cell_type": "markdown",
   "id": "6a3ef08c-5172-4a4a-b181-788bb3299491",
   "metadata": {},
   "source": [
    "3.分类内的统计"
   ]
  },
  {
   "cell_type": "markdown",
   "id": "af26577e-e076-4be6-9686-01ab504c7543",
   "metadata": {},
   "source": [
    "（1）绘制柱形图"
   ]
  },
  {
   "cell_type": "code",
   "execution_count": null,
   "id": "86ffd2e6-a9fd-4be4-9252-405040379fde",
   "metadata": {},
   "outputs": [],
   "source": [
    "import seaborn as sns\n",
    "tips = sns.load_dataset('tips', data_home = 'data/seaborn-data')\n",
    "sns.barplot(x = \"day\", y = \"total_bill\", data = tips)"
   ]
  },
  {
   "cell_type": "markdown",
   "id": "6528714f-e87c-41c6-bc06-29a5d8c9e69e",
   "metadata": {},
   "source": [
    "（2）绘制点图"
   ]
  },
  {
   "cell_type": "code",
   "execution_count": null,
   "id": "3d1a0ab5-4bed-4f7f-a779-9a82e33fe154",
   "metadata": {},
   "outputs": [],
   "source": [
    "import seaborn as sns\n",
    "tips = sns.load_dataset('tips', data_home = 'data/seaborn-data')\n",
    "sns.pointplot(x = \"day\", y = \"total_bill\", data = tips)"
   ]
  },
  {
   "cell_type": "markdown",
   "id": "9c70c1da-5c82-4d42-9fdd-0ef67f2a43b2",
   "metadata": {},
   "source": [
    "#### 6.4 使用Pyecharts绘图"
   ]
  },
  {
   "cell_type": "code",
   "execution_count": null,
   "id": "6e98263c-38ba-4154-9403-41eed7500150",
   "metadata": {},
   "outputs": [],
   "source": [
    "from pyecharts.charts import Bar\n",
    "from pyecharts import options as opts\n",
    "bar = Bar()\n",
    "bar.add_xaxis([\"衬衫\",\"羊毛衫\",\"雪纺衫\",\"裤子\",\"高跟鞋\",\"袜子\"])\n",
    "bar.add_yaxis(\"商家A\", [5000, 2000, 3600, 1000, 7500, 900], label_opts = opts.LabelOpts(position = 'inside', color = 'white',font_size = 10)))\n",
    "bar.set_global_opts(title_opts = opts.TitleOpts(title = \"我是柱形图\", subtitle = \"我是副标题\"))\n"
   ]
  },
  {
   "cell_type": "code",
   "execution_count": null,
   "id": "3fae4cce-1885-42f7-bd3c-31fdacda1e8a",
   "metadata": {},
   "outputs": [],
   "source": []
  }
 ],
 "metadata": {
  "kernelspec": {
   "display_name": "Python [conda env:anaconda3]",
   "language": "python",
   "name": "conda-env-anaconda3-py"
  },
  "language_info": {
   "codemirror_mode": {
    "name": "ipython",
    "version": 3
   },
   "file_extension": ".py",
   "mimetype": "text/x-python",
   "name": "python",
   "nbconvert_exporter": "python",
   "pygments_lexer": "ipython3",
   "version": "3.11.7"
  }
 },
 "nbformat": 4,
 "nbformat_minor": 5
}
