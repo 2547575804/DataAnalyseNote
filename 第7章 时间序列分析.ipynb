{
 "cells": [
  {
   "cell_type": "markdown",
   "id": "60cbe329-e796-4667-aef7-804b16df838d",
   "metadata": {},
   "source": [
    "#### 7.2 时间序列的基本操作"
   ]
  },
  {
   "cell_type": "code",
   "execution_count": 65,
   "id": "91a299e1-6afe-411d-83c1-12e08c28725d",
   "metadata": {},
   "outputs": [],
   "source": [
    "#### 7.2.1 创建带时间戳的时间序列"
   ]
  },
  {
   "cell_type": "code",
   "execution_count": 66,
   "id": "b2e7a946-ad16-40e8-af38-ee2eaa2e4e5a",
   "metadata": {},
   "outputs": [
    {
     "data": {
      "text/plain": [
       "DatetimeIndex(['2023-01-10', '2023-01-15', '2023-01-18'], dtype='datetime64[ns]', freq=None)"
      ]
     },
     "execution_count": 66,
     "metadata": {},
     "output_type": "execute_result"
    }
   ],
   "source": [
    "import pandas as pd\n",
    "date_index = pd.to_datetime(['20230110', '20230115', '20230118'])\n",
    "date_index"
   ]
  },
  {
   "cell_type": "code",
   "execution_count": 67,
   "id": "1078d68a-9fa6-45c6-9e8b-30701ab42be7",
   "metadata": {},
   "outputs": [
    {
     "data": {
      "text/plain": [
       "2023-01-10    11\n",
       "2023-01-15    22\n",
       "2023-01-18    33\n",
       "dtype: int64"
      ]
     },
     "execution_count": 67,
     "metadata": {},
     "output_type": "execute_result"
    }
   ],
   "source": [
    "date_ser = pd.Series([11, 22, 33], index = date_index)\n",
    "date_ser"
   ]
  },
  {
   "cell_type": "code",
   "execution_count": 68,
   "id": "0c63fb10-95d0-4e1b-8b86-6b1a291c4781",
   "metadata": {},
   "outputs": [
    {
     "data": {
      "text/plain": [
       "2023-01-10    11\n",
       "2023-01-15    22\n",
       "2023-01-18    33\n",
       "dtype: int64"
      ]
     },
     "execution_count": 68,
     "metadata": {},
     "output_type": "execute_result"
    }
   ],
   "source": [
    "from datetime import datetime\n",
    "date_list = [datetime(2023, 1, 10), datetime(2023, 1, 15), datetime(2023, 1, 18)]\n",
    "time_ser = pd.Series([11, 22, 33], index = date_list)\n",
    "time_ser"
   ]
  },
  {
   "cell_type": "code",
   "execution_count": 69,
   "id": "f43ccb19-453c-4248-8614-8d121bd268e7",
   "metadata": {},
   "outputs": [
    {
     "data": {
      "text/html": [
       "<div>\n",
       "<style scoped>\n",
       "    .dataframe tbody tr th:only-of-type {\n",
       "        vertical-align: middle;\n",
       "    }\n",
       "\n",
       "    .dataframe tbody tr th {\n",
       "        vertical-align: top;\n",
       "    }\n",
       "\n",
       "    .dataframe thead th {\n",
       "        text-align: right;\n",
       "    }\n",
       "</style>\n",
       "<table border=\"1\" class=\"dataframe\">\n",
       "  <thead>\n",
       "    <tr style=\"text-align: right;\">\n",
       "      <th></th>\n",
       "      <th>0</th>\n",
       "      <th>1</th>\n",
       "      <th>2</th>\n",
       "    </tr>\n",
       "  </thead>\n",
       "  <tbody>\n",
       "    <tr>\n",
       "      <th>2023-01-23</th>\n",
       "      <td>11</td>\n",
       "      <td>22</td>\n",
       "      <td>33</td>\n",
       "    </tr>\n",
       "    <tr>\n",
       "      <th>2023-02-15</th>\n",
       "      <td>44</td>\n",
       "      <td>55</td>\n",
       "      <td>66</td>\n",
       "    </tr>\n",
       "    <tr>\n",
       "      <th>2023-05-22</th>\n",
       "      <td>77</td>\n",
       "      <td>88</td>\n",
       "      <td>99</td>\n",
       "    </tr>\n",
       "    <tr>\n",
       "      <th>2023-03-30</th>\n",
       "      <td>12</td>\n",
       "      <td>23</td>\n",
       "      <td>34</td>\n",
       "    </tr>\n",
       "  </tbody>\n",
       "</table>\n",
       "</div>"
      ],
      "text/plain": [
       "             0   1   2\n",
       "2023-01-23  11  22  33\n",
       "2023-02-15  44  55  66\n",
       "2023-05-22  77  88  99\n",
       "2023-03-30  12  23  34"
      ]
     },
     "execution_count": 69,
     "metadata": {},
     "output_type": "execute_result"
    }
   ],
   "source": [
    "date_demo = [[11, 22, 33], [44, 55, 66], [77, 88, 99],[12, 23, 34]]\n",
    "date_list = [datetime(2023, 1, 23), datetime(2023, 2, 15), datetime(2023, 5, 22), datetime(2023, 3, 30)]\n",
    "time_df = pd.DataFrame(date_demo, index = date_list)\n",
    "time_df"
   ]
  },
  {
   "cell_type": "code",
   "execution_count": 70,
   "id": "c03022aa-34f9-415f-a2bb-e70259be2afe",
   "metadata": {},
   "outputs": [],
   "source": [
    "#### 7.2.2 获取时间序列子集"
   ]
  },
  {
   "cell_type": "code",
   "execution_count": 71,
   "id": "b7025d3b-a166-4c64-a259-0d48a21aaf57",
   "metadata": {},
   "outputs": [
    {
     "data": {
      "text/plain": [
       "2020-05-30    0\n",
       "2022-02-01    1\n",
       "2020-06-01    2\n",
       "2021-04-01    3\n",
       "2022-06-01    4\n",
       "2023-01-23    5\n",
       "dtype: int32"
      ]
     },
     "execution_count": 71,
     "metadata": {},
     "output_type": "execute_result"
    }
   ],
   "source": [
    "import numpy as np\n",
    "date_list = ['2020/05/30', '2022/02/01', '2020.6.1',\n",
    "             '2021.4.1', '2022.6.1', '2023.1.23']\n",
    "date_index = pd.to_datetime(date_list, format='mixed')\n",
    "date_ser = pd.Series(np.arange(6), index = date_index)\n",
    "date_ser"
   ]
  },
  {
   "cell_type": "code",
   "execution_count": 72,
   "id": "f492e3d8-99f2-40b4-9a9e-dd46f4934461",
   "metadata": {},
   "outputs": [
    {
     "name": "stderr",
     "output_type": "stream",
     "text": [
      "C:\\Users\\Lenovo\\AppData\\Local\\Temp\\ipykernel_18564\\1724666477.py:1: FutureWarning: Series.__getitem__ treating keys as positions is deprecated. In a future version, integer keys will always be treated as labels (consistent with DataFrame behavior). To access a value by position, use `ser.iloc[pos]`\n",
      "  date_ser[3]\n"
     ]
    },
    {
     "data": {
      "text/plain": [
       "3"
      ]
     },
     "execution_count": 72,
     "metadata": {},
     "output_type": "execute_result"
    }
   ],
   "source": [
    "date_ser[3]"
   ]
  },
  {
   "cell_type": "code",
   "execution_count": 73,
   "id": "a773faf2-b4ae-4deb-9cb1-b1dfb8941341",
   "metadata": {},
   "outputs": [
    {
     "data": {
      "text/plain": [
       "2"
      ]
     },
     "execution_count": 73,
     "metadata": {},
     "output_type": "execute_result"
    }
   ],
   "source": [
    "date_time = datetime(2020, 6, 1)\n",
    "date_ser[date_time]"
   ]
  },
  {
   "cell_type": "code",
   "execution_count": 74,
   "id": "b38dce91-d66a-4eab-bff7-28967aa89d70",
   "metadata": {},
   "outputs": [
    {
     "data": {
      "text/plain": [
       "0"
      ]
     },
     "execution_count": 74,
     "metadata": {},
     "output_type": "execute_result"
    }
   ],
   "source": [
    "date_ser['20200530']"
   ]
  },
  {
   "cell_type": "code",
   "execution_count": 75,
   "id": "2d6c7691-45a3-44ab-bfad-6c2a7a7cb245",
   "metadata": {},
   "outputs": [
    {
     "data": {
      "text/plain": [
       "0"
      ]
     },
     "execution_count": 75,
     "metadata": {},
     "output_type": "execute_result"
    }
   ],
   "source": [
    "date_ser['2020-05-30']"
   ]
  },
  {
   "cell_type": "code",
   "execution_count": 76,
   "id": "2e8b2de1-ae98-4aab-b8eb-7e366e735156",
   "metadata": {},
   "outputs": [
    {
     "data": {
      "text/plain": [
       "0"
      ]
     },
     "execution_count": 76,
     "metadata": {},
     "output_type": "execute_result"
    }
   ],
   "source": [
    "date_ser['2020/05/30']"
   ]
  },
  {
   "cell_type": "code",
   "execution_count": 77,
   "id": "6b12212c-6044-4ff5-8ad1-704f4f9b1c25",
   "metadata": {},
   "outputs": [
    {
     "data": {
      "text/plain": [
       "0"
      ]
     },
     "execution_count": 77,
     "metadata": {},
     "output_type": "execute_result"
    }
   ],
   "source": [
    "date_ser['5/30/2020']"
   ]
  },
  {
   "cell_type": "code",
   "execution_count": 78,
   "id": "29cee6a4-8f4c-41f5-8b59-9710a2021fb5",
   "metadata": {},
   "outputs": [
    {
     "data": {
      "text/plain": [
       "2020-05-30    0\n",
       "2020-06-01    2\n",
       "dtype: int32"
      ]
     },
     "execution_count": 78,
     "metadata": {},
     "output_type": "execute_result"
    }
   ],
   "source": [
    "date_ser['2020']"
   ]
  },
  {
   "cell_type": "code",
   "execution_count": 79,
   "id": "2ee1a056-d27d-49bd-9b4c-a8084bfa9925",
   "metadata": {},
   "outputs": [
    {
     "data": {
      "text/plain": [
       "2022-02-01    1\n",
       "2022-06-01    4\n",
       "2023-01-23    5\n",
       "dtype: int32"
      ]
     },
     "execution_count": 79,
     "metadata": {},
     "output_type": "execute_result"
    }
   ],
   "source": [
    "sorted_ser = date_ser.sort_index()\n",
    "sorted_ser.truncate(before = '2022-1-1')"
   ]
  },
  {
   "cell_type": "code",
   "execution_count": 80,
   "id": "e4e9008d-103b-4a3f-8c03-0e498ae5bb1b",
   "metadata": {},
   "outputs": [
    {
     "data": {
      "text/plain": [
       "2020-05-30    0\n",
       "2020-06-01    2\n",
       "dtype: int32"
      ]
     },
     "execution_count": 80,
     "metadata": {},
     "output_type": "execute_result"
    }
   ],
   "source": [
    "sorted_ser.truncate(after = '2020-6-1')"
   ]
  },
  {
   "cell_type": "code",
   "execution_count": 81,
   "id": "9e97df9b-931d-42d2-b73a-13a6ffaca2cf",
   "metadata": {},
   "outputs": [],
   "source": [
    "#### 7.3 固定频率的时间序列"
   ]
  },
  {
   "cell_type": "code",
   "execution_count": 82,
   "id": "1b085477-ba24-4983-a769-af71a2c33750",
   "metadata": {},
   "outputs": [
    {
     "data": {
      "text/plain": [
       "DatetimeIndex(['2023-01-01', '2023-01-02', '2023-01-03', '2023-01-04',\n",
       "               '2023-01-05', '2023-01-06', '2023-01-07', '2023-01-08',\n",
       "               '2023-01-09', '2023-01-10'],\n",
       "              dtype='datetime64[ns]', freq='D')"
      ]
     },
     "execution_count": 82,
     "metadata": {},
     "output_type": "execute_result"
    }
   ],
   "source": [
    "date_ran = pd.date_range('2023/01/01', '2023/01/10')\n",
    "date_ran"
   ]
  },
  {
   "cell_type": "code",
   "execution_count": 83,
   "id": "c9a9baee-1b5f-4afa-858c-57e34ed5d49b",
   "metadata": {},
   "outputs": [
    {
     "data": {
      "text/plain": [
       "DatetimeIndex(['2023-01-01', '2023-01-02', '2023-01-03', '2023-01-04',\n",
       "               '2023-01-05'],\n",
       "              dtype='datetime64[ns]', freq='D')"
      ]
     },
     "execution_count": 83,
     "metadata": {},
     "output_type": "execute_result"
    }
   ],
   "source": [
    "date_ran = pd.date_range(start = '2023/01/01', periods = 5)\n",
    "date_ran"
   ]
  },
  {
   "cell_type": "code",
   "execution_count": 84,
   "id": "557e0be3-d5ec-4885-8481-afe7dfdd2885",
   "metadata": {},
   "outputs": [
    {
     "data": {
      "text/plain": [
       "DatetimeIndex(['2023-01-06', '2023-01-07', '2023-01-08', '2023-01-09',\n",
       "               '2023-01-10'],\n",
       "              dtype='datetime64[ns]', freq='D')"
      ]
     },
     "execution_count": 84,
     "metadata": {},
     "output_type": "execute_result"
    }
   ],
   "source": [
    "date_ran = pd.date_range(end = '2023/01/10', periods = 5)\n",
    "date_ran"
   ]
  },
  {
   "cell_type": "code",
   "execution_count": 85,
   "id": "2b6e1ad9-2ddc-4bb6-91cb-fe07ec906350",
   "metadata": {},
   "outputs": [
    {
     "data": {
      "text/plain": [
       "DatetimeIndex(['2023-01-01', '2023-01-06', '2023-01-11', '2023-01-16',\n",
       "               '2023-01-21'],\n",
       "              dtype='datetime64[ns]', freq='5D')"
      ]
     },
     "execution_count": 85,
     "metadata": {},
     "output_type": "execute_result"
    }
   ],
   "source": [
    "dates_index = pd.date_range(start = '2023/01/01', periods = 5, freq = '5D')\n",
    "dates_index"
   ]
  },
  {
   "cell_type": "code",
   "execution_count": 86,
   "id": "fc384819-d658-44ac-b023-eed09554a5ea",
   "metadata": {},
   "outputs": [
    {
     "data": {
      "text/plain": [
       "DatetimeIndex(['2023-01-01 12:30:11', '2023-01-06 12:30:11',\n",
       "               '2023-01-11 12:30:11', '2023-01-16 12:30:11',\n",
       "               '2023-01-21 12:30:11'],\n",
       "              dtype='datetime64[ns]', freq='5D')"
      ]
     },
     "execution_count": 86,
     "metadata": {},
     "output_type": "execute_result"
    }
   ],
   "source": [
    "dates_index = pd.date_range(start = '2023/01/01 12:30:11', periods = 5, freq = '5D')\n",
    "dates_index"
   ]
  },
  {
   "cell_type": "code",
   "execution_count": 87,
   "id": "ea00aa3b-03dc-47d6-9cfb-a0cc6f35b714",
   "metadata": {},
   "outputs": [
    {
     "data": {
      "text/plain": [
       "DatetimeIndex(['2023-01-01 12:30:11+08:00', '2023-01-02 12:30:11+08:00',\n",
       "               '2023-01-03 12:30:11+08:00', '2023-01-04 12:30:11+08:00',\n",
       "               '2023-01-05 12:30:11+08:00'],\n",
       "              dtype='datetime64[ns, Asia/Hong_Kong]', freq='D')"
      ]
     },
     "execution_count": 87,
     "metadata": {},
     "output_type": "execute_result"
    }
   ],
   "source": [
    "pd.date_range(start = '2023/01/01 12:30:11', periods = 5, tz = \"Asia/Hong_Kong\")"
   ]
  },
  {
   "cell_type": "code",
   "execution_count": 88,
   "id": "f0132d0b-f2ab-4bf2-9731-32894238cc64",
   "metadata": {},
   "outputs": [
    {
     "data": {
      "text/plain": [
       "DatetimeIndex(['2023-01-01 00:00:00+08:00', '2023-01-02 00:00:00+08:00',\n",
       "               '2023-01-03 00:00:00+08:00', '2023-01-04 00:00:00+08:00',\n",
       "               '2023-01-05 00:00:00+08:00'],\n",
       "              dtype='datetime64[ns, Asia/Hong_Kong]', freq='D')"
      ]
     },
     "execution_count": 88,
     "metadata": {},
     "output_type": "execute_result"
    }
   ],
   "source": [
    "pd.date_range(start = '2023/01/01 12:30:11', periods = 5, tz = \"Asia/Hong_Kong\", normalize = True)"
   ]
  },
  {
   "cell_type": "code",
   "execution_count": 89,
   "id": "3055c296-7953-4288-8fab-55d32ab0a206",
   "metadata": {},
   "outputs": [
    {
     "data": {
      "text/plain": [
       "2023-01-01 12:30:11    12\n",
       "2023-01-06 12:30:11    56\n",
       "2023-01-11 12:30:11    89\n",
       "2023-01-16 12:30:11    99\n",
       "2023-01-21 12:30:11    31\n",
       "Freq: 5D, dtype: int64"
      ]
     },
     "execution_count": 89,
     "metadata": {},
     "output_type": "execute_result"
    }
   ],
   "source": [
    "date_ser = pd.Series([12, 56, 89, 99, 31], index = dates_index)\n",
    "date_ser"
   ]
  },
  {
   "cell_type": "code",
   "execution_count": 90,
   "id": "c68855c6-e669-48fb-acbd-0ba097dcede7",
   "metadata": {},
   "outputs": [],
   "source": [
    "#### 7.3.2 时间序列的频率和偏移量"
   ]
  },
  {
   "cell_type": "code",
   "execution_count": 91,
   "id": "d1ac85c2-8fcd-45b3-9926-02240ac10f23",
   "metadata": {},
   "outputs": [
    {
     "data": {
      "text/plain": [
       "<DateOffset: days=14, hours=10>"
      ]
     },
     "execution_count": 91,
     "metadata": {},
     "output_type": "execute_result"
    }
   ],
   "source": [
    "from pandas.tseries.offsets import * \n",
    "DateOffset(days = 14, hours = 10)"
   ]
  },
  {
   "cell_type": "code",
   "execution_count": 92,
   "id": "571fc290-ab9a-4e75-839f-d69c9f9debd8",
   "metadata": {},
   "outputs": [
    {
     "data": {
      "text/plain": [
       "Timedelta('14 days 10:00:00')"
      ]
     },
     "execution_count": 92,
     "metadata": {},
     "output_type": "execute_result"
    }
   ],
   "source": [
    "Week(2) + Hour(10)"
   ]
  },
  {
   "cell_type": "code",
   "execution_count": 93,
   "id": "d8a68fdc-99c3-4745-bd7d-e69e8e57e266",
   "metadata": {},
   "outputs": [
    {
     "data": {
      "text/plain": [
       "DatetimeIndex(['2023-01-01 00:00:00', '2023-01-15 10:00:00',\n",
       "               '2023-01-29 20:00:00'],\n",
       "              dtype='datetime64[ns]', freq='346H')"
      ]
     },
     "execution_count": 93,
     "metadata": {},
     "output_type": "execute_result"
    }
   ],
   "source": [
    "date_offset = Week(2) + Hour(10)\n",
    "pd.date_range('2023/1/1', '2023/1/31', freq = date_offset)"
   ]
  },
  {
   "cell_type": "code",
   "execution_count": 94,
   "id": "90cfc56f-3786-4a15-a6d0-f64d3c411993",
   "metadata": {},
   "outputs": [],
   "source": [
    "#### 7.3.3 时间序列的移动"
   ]
  },
  {
   "cell_type": "code",
   "execution_count": 95,
   "id": "6b3f6339-5530-42f7-b80d-a0c3537ebbed",
   "metadata": {},
   "outputs": [
    {
     "data": {
      "text/plain": [
       "2023-01-01    1\n",
       "2023-01-02    2\n",
       "2023-01-03    3\n",
       "2023-01-04    4\n",
       "2023-01-05    5\n",
       "Freq: D, dtype: int32"
      ]
     },
     "execution_count": 95,
     "metadata": {},
     "output_type": "execute_result"
    }
   ],
   "source": [
    "date_index = pd.date_range('2023/01/01', periods = 5)\n",
    "time_ser = pd.Series(np.arange(5) + 1, index = date_index)\n",
    "time_ser"
   ]
  },
  {
   "cell_type": "code",
   "execution_count": 96,
   "id": "3fe1d6bd-9bb8-4b15-9a5b-03bc68ac4d61",
   "metadata": {},
   "outputs": [
    {
     "data": {
      "text/plain": [
       "2023-01-01    NaN\n",
       "2023-01-02    1.0\n",
       "2023-01-03    2.0\n",
       "2023-01-04    3.0\n",
       "2023-01-05    4.0\n",
       "Freq: D, dtype: float64"
      ]
     },
     "execution_count": 96,
     "metadata": {},
     "output_type": "execute_result"
    }
   ],
   "source": [
    "time_ser.shift(1)"
   ]
  },
  {
   "cell_type": "code",
   "execution_count": 97,
   "id": "da7f0bf6-8cce-454f-abce-47c3c97ba6e1",
   "metadata": {},
   "outputs": [
    {
     "data": {
      "text/plain": [
       "2023-01-01    2.0\n",
       "2023-01-02    3.0\n",
       "2023-01-03    4.0\n",
       "2023-01-04    5.0\n",
       "2023-01-05    NaN\n",
       "Freq: D, dtype: float64"
      ]
     },
     "execution_count": 97,
     "metadata": {},
     "output_type": "execute_result"
    }
   ],
   "source": [
    "time_ser.shift(-1)"
   ]
  },
  {
   "cell_type": "code",
   "execution_count": 98,
   "id": "eae1576e-169f-43fd-81f4-4bf47be7eec8",
   "metadata": {},
   "outputs": [],
   "source": [
    "#### 7.4时间周期与计算"
   ]
  },
  {
   "cell_type": "code",
   "execution_count": 99,
   "id": "8663d109-4920-408f-bbd0-8ea09e912239",
   "metadata": {},
   "outputs": [],
   "source": [
    "#### 7.4.1 创建带时期索引的对象"
   ]
  },
  {
   "cell_type": "code",
   "execution_count": 100,
   "id": "093a9828-f297-40c3-9dd0-f21b84344407",
   "metadata": {},
   "outputs": [
    {
     "data": {
      "text/plain": [
       "Period('2023', 'A-DEC')"
      ]
     },
     "execution_count": 100,
     "metadata": {},
     "output_type": "execute_result"
    }
   ],
   "source": [
    "pd.Period(2023)"
   ]
  },
  {
   "cell_type": "code",
   "execution_count": 101,
   "id": "5030ce75-7745-4f39-81f1-03f50dce996c",
   "metadata": {},
   "outputs": [
    {
     "data": {
      "text/plain": [
       "Period('2023-06', 'M')"
      ]
     },
     "execution_count": 101,
     "metadata": {},
     "output_type": "execute_result"
    }
   ],
   "source": [
    "period = pd.Period('2023/6')\n",
    "period"
   ]
  },
  {
   "cell_type": "code",
   "execution_count": 102,
   "id": "987d9c52-ae9a-4eb9-a711-8183b04fe52e",
   "metadata": {},
   "outputs": [
    {
     "data": {
      "text/plain": [
       "Period('2023-07', 'M')"
      ]
     },
     "execution_count": 102,
     "metadata": {},
     "output_type": "execute_result"
    }
   ],
   "source": [
    "period + 1"
   ]
  },
  {
   "cell_type": "code",
   "execution_count": 103,
   "id": "8e18eebe-c8e4-42d4-a5a0-55e3eee97c7e",
   "metadata": {},
   "outputs": [
    {
     "data": {
      "text/plain": [
       "Period('2023-01', 'M')"
      ]
     },
     "execution_count": 103,
     "metadata": {},
     "output_type": "execute_result"
    }
   ],
   "source": [
    "period - 5"
   ]
  },
  {
   "cell_type": "code",
   "execution_count": 104,
   "id": "0427e3f4-b675-4d06-a431-5be6b4326ca7",
   "metadata": {},
   "outputs": [
    {
     "data": {
      "text/plain": [
       "<5 * MonthEnds>"
      ]
     },
     "execution_count": 104,
     "metadata": {},
     "output_type": "execute_result"
    }
   ],
   "source": [
    "other_period = pd.Period(202301, freq = 'M')\n",
    "period - other_period"
   ]
  },
  {
   "cell_type": "code",
   "execution_count": 105,
   "id": "fba99c20-2223-4bb3-8470-e387bad81258",
   "metadata": {},
   "outputs": [
    {
     "data": {
      "text/plain": [
       "PeriodIndex(['2023-01', '2023-02', '2023-03', '2023-04', '2023-05'], dtype='period[M]')"
      ]
     },
     "execution_count": 105,
     "metadata": {},
     "output_type": "execute_result"
    }
   ],
   "source": [
    "period_index = pd.period_range('2023.1.8', '2023.5.31', freq = 'M')\n",
    "period_index"
   ]
  },
  {
   "cell_type": "code",
   "execution_count": 106,
   "id": "a959c50c-40aa-4f10-98ea-66816aade650",
   "metadata": {},
   "outputs": [
    {
     "data": {
      "text/plain": [
       "PeriodIndex(['2021', '2022', '2023'], dtype='period[A-DEC]')"
      ]
     },
     "execution_count": 106,
     "metadata": {},
     "output_type": "execute_result"
    }
   ],
   "source": [
    "str_list = ['2021', '2022', '2023']\n",
    "pd.PeriodIndex(str_list, freq = 'A-DEC')"
   ]
  },
  {
   "cell_type": "code",
   "execution_count": 107,
   "id": "33939b96-199a-42d9-9b15-5848ac66eaac",
   "metadata": {},
   "outputs": [
    {
     "data": {
      "text/plain": [
       "2023-01    0\n",
       "2023-02    1\n",
       "2023-03    2\n",
       "2023-04    3\n",
       "2023-05    4\n",
       "Freq: M, dtype: int32"
      ]
     },
     "execution_count": 107,
     "metadata": {},
     "output_type": "execute_result"
    }
   ],
   "source": [
    "period_ser = pd.Series(np.arange(5), period_index)\n",
    "period_ser"
   ]
  },
  {
   "cell_type": "code",
   "execution_count": 108,
   "id": "67306181-80c4-4349-8e8e-838424c7fc11",
   "metadata": {},
   "outputs": [],
   "source": [
    "#### 7.4.2 时期的频率转换"
   ]
  },
  {
   "cell_type": "code",
   "execution_count": 109,
   "id": "deb2aa8c-40cc-40a4-8ebb-2878e637930b",
   "metadata": {},
   "outputs": [
    {
     "data": {
      "text/plain": [
       "Period('2022-01', 'M')"
      ]
     },
     "execution_count": 109,
     "metadata": {},
     "output_type": "execute_result"
    }
   ],
   "source": [
    "period = pd.Period('2022', freq = 'A-DEC')\n",
    "period.asfreq('M', how = 'start')"
   ]
  },
  {
   "cell_type": "code",
   "execution_count": 110,
   "id": "10c5d44d-dd4f-43b0-95a0-2bea62b44483",
   "metadata": {},
   "outputs": [
    {
     "data": {
      "text/plain": [
       "Period('2022-12', 'M')"
      ]
     },
     "execution_count": 110,
     "metadata": {},
     "output_type": "execute_result"
    }
   ],
   "source": [
    "period.asfreq('M', how = 'end')"
   ]
  },
  {
   "cell_type": "code",
   "execution_count": 111,
   "id": "9ba6df74-6ea9-47f7-bf79-0270657b0337",
   "metadata": {},
   "outputs": [],
   "source": [
    "#### 7.5 重采样"
   ]
  },
  {
   "cell_type": "code",
   "execution_count": 112,
   "id": "074db4ab-2621-4098-94ed-a060e2184d8a",
   "metadata": {},
   "outputs": [],
   "source": [
    "#### 7.5.1 重采样方法"
   ]
  },
  {
   "cell_type": "code",
   "execution_count": 113,
   "id": "8a81f4b8-bb34-45ac-98e1-10f61d644b5a",
   "metadata": {},
   "outputs": [
    {
     "data": {
      "text/plain": [
       "2023-01-08     0\n",
       "2023-01-09     1\n",
       "2023-01-10     2\n",
       "2023-01-11     3\n",
       "2023-01-12     4\n",
       "2023-01-13     5\n",
       "2023-01-14     6\n",
       "2023-01-15     7\n",
       "2023-01-16     8\n",
       "2023-01-17     9\n",
       "2023-01-18    10\n",
       "2023-01-19    11\n",
       "2023-01-20    12\n",
       "2023-01-21    13\n",
       "2023-01-22    14\n",
       "2023-01-23    15\n",
       "2023-01-24    16\n",
       "2023-01-25    17\n",
       "2023-01-26    18\n",
       "2023-01-27    19\n",
       "2023-01-28    20\n",
       "2023-01-29    21\n",
       "2023-01-30    22\n",
       "2023-01-31    23\n",
       "2023-02-01    24\n",
       "2023-02-02    25\n",
       "2023-02-03    26\n",
       "2023-02-04    27\n",
       "2023-02-05    28\n",
       "2023-02-06    29\n",
       "Freq: D, dtype: int32"
      ]
     },
     "execution_count": 113,
     "metadata": {},
     "output_type": "execute_result"
    }
   ],
   "source": [
    "date_index = pd.date_range('2023.1.8', periods = 30)\n",
    "time_ser = pd.Series(np.arange(30), index = date_index)\n",
    "time_ser"
   ]
  },
  {
   "cell_type": "code",
   "execution_count": 114,
   "id": "56533de2-d52c-4fa0-826f-c08a6bab54f9",
   "metadata": {},
   "outputs": [
    {
     "data": {
      "text/plain": [
       "2023-01-09     0.5\n",
       "2023-01-16     5.0\n",
       "2023-01-23    12.0\n",
       "2023-01-30    19.0\n",
       "2023-02-06    26.0\n",
       "Freq: W-MON, dtype: float64"
      ]
     },
     "execution_count": 114,
     "metadata": {},
     "output_type": "execute_result"
    }
   ],
   "source": [
    "time_ser.resample('W-MON').mean()"
   ]
  },
  {
   "cell_type": "code",
   "execution_count": 115,
   "id": "47d0e699-7479-4001-b7e6-cd29d9011c10",
   "metadata": {},
   "outputs": [
    {
     "data": {
      "text/plain": [
       "2023-01-09     0.0\n",
       "2023-01-16     4.0\n",
       "2023-01-23    11.0\n",
       "2023-01-30    18.0\n",
       "2023-02-06    25.0\n",
       "2023-02-13    29.0\n",
       "Freq: W-MON, dtype: float64"
      ]
     },
     "execution_count": 115,
     "metadata": {},
     "output_type": "execute_result"
    }
   ],
   "source": [
    "time_ser.resample('W-MON', closed = 'left').mean()"
   ]
  },
  {
   "cell_type": "code",
   "execution_count": 116,
   "id": "93c6877f-14ae-4080-be59-5070d816ad20",
   "metadata": {},
   "outputs": [],
   "source": [
    "#### 7.5.2 降采样"
   ]
  },
  {
   "cell_type": "code",
   "execution_count": 117,
   "id": "7c48710e-4c1e-4df0-840d-ef1639e86772",
   "metadata": {},
   "outputs": [
    {
     "data": {
      "text/plain": [
       "2023-02-01    0.471959\n",
       "2023-02-02    0.798423\n",
       "2023-02-03    0.204563\n",
       "2023-02-04    0.396272\n",
       "2023-02-05    0.063614\n",
       "2023-02-06    0.875476\n",
       "2023-02-07    0.300310\n",
       "2023-02-08    0.165934\n",
       "2023-02-09    0.360364\n",
       "2023-02-10    0.864028\n",
       "2023-02-11    0.570906\n",
       "2023-02-12    0.880418\n",
       "2023-02-13    0.314454\n",
       "2023-02-14    0.327491\n",
       "2023-02-15    0.447877\n",
       "2023-02-16    0.096007\n",
       "2023-02-17    0.463980\n",
       "2023-02-18    0.248392\n",
       "2023-02-19    0.274825\n",
       "2023-02-20    0.671363\n",
       "2023-02-21    0.856600\n",
       "2023-02-22    0.550727\n",
       "2023-02-23    0.871479\n",
       "2023-02-24    0.910535\n",
       "2023-02-25    0.421049\n",
       "2023-02-26    0.801325\n",
       "2023-02-27    0.467278\n",
       "2023-02-28    0.602286\n",
       "2023-03-01    0.570109\n",
       "2023-03-02    0.301703\n",
       "Freq: D, dtype: float64"
      ]
     },
     "execution_count": 117,
     "metadata": {},
     "output_type": "execute_result"
    }
   ],
   "source": [
    "date_index = pd.date_range('2023/02/01', periods = 30)\n",
    "shares_data = np.random.rand(30)\n",
    "time_ser = pd.Series(shares_data, index = date_index)\n",
    "time_ser"
   ]
  },
  {
   "cell_type": "code",
   "execution_count": 118,
   "id": "91124b62-04ac-4249-9fb2-8e45ef3a6cd8",
   "metadata": {},
   "outputs": [
    {
     "data": {
      "text/html": [
       "<div>\n",
       "<style scoped>\n",
       "    .dataframe tbody tr th:only-of-type {\n",
       "        vertical-align: middle;\n",
       "    }\n",
       "\n",
       "    .dataframe tbody tr th {\n",
       "        vertical-align: top;\n",
       "    }\n",
       "\n",
       "    .dataframe thead th {\n",
       "        text-align: right;\n",
       "    }\n",
       "</style>\n",
       "<table border=\"1\" class=\"dataframe\">\n",
       "  <thead>\n",
       "    <tr style=\"text-align: right;\">\n",
       "      <th></th>\n",
       "      <th>open</th>\n",
       "      <th>high</th>\n",
       "      <th>low</th>\n",
       "      <th>close</th>\n",
       "    </tr>\n",
       "  </thead>\n",
       "  <tbody>\n",
       "    <tr>\n",
       "      <th>2023-02-01</th>\n",
       "      <td>0.471959</td>\n",
       "      <td>0.875476</td>\n",
       "      <td>0.063614</td>\n",
       "      <td>0.300310</td>\n",
       "    </tr>\n",
       "    <tr>\n",
       "      <th>2023-02-08</th>\n",
       "      <td>0.165934</td>\n",
       "      <td>0.880418</td>\n",
       "      <td>0.165934</td>\n",
       "      <td>0.327491</td>\n",
       "    </tr>\n",
       "    <tr>\n",
       "      <th>2023-02-15</th>\n",
       "      <td>0.447877</td>\n",
       "      <td>0.856600</td>\n",
       "      <td>0.096007</td>\n",
       "      <td>0.856600</td>\n",
       "    </tr>\n",
       "    <tr>\n",
       "      <th>2023-02-22</th>\n",
       "      <td>0.550727</td>\n",
       "      <td>0.910535</td>\n",
       "      <td>0.421049</td>\n",
       "      <td>0.602286</td>\n",
       "    </tr>\n",
       "    <tr>\n",
       "      <th>2023-03-01</th>\n",
       "      <td>0.570109</td>\n",
       "      <td>0.570109</td>\n",
       "      <td>0.301703</td>\n",
       "      <td>0.301703</td>\n",
       "    </tr>\n",
       "  </tbody>\n",
       "</table>\n",
       "</div>"
      ],
      "text/plain": [
       "                open      high       low     close\n",
       "2023-02-01  0.471959  0.875476  0.063614  0.300310\n",
       "2023-02-08  0.165934  0.880418  0.165934  0.327491\n",
       "2023-02-15  0.447877  0.856600  0.096007  0.856600\n",
       "2023-02-22  0.550727  0.910535  0.421049  0.602286\n",
       "2023-03-01  0.570109  0.570109  0.301703  0.301703"
      ]
     },
     "execution_count": 118,
     "metadata": {},
     "output_type": "execute_result"
    }
   ],
   "source": [
    "time_ser.resample('7D').ohlc()"
   ]
  },
  {
   "cell_type": "code",
   "execution_count": 119,
   "id": "3b0e555e-d175-43e8-8bc9-eb99672cb180",
   "metadata": {},
   "outputs": [
    {
     "data": {
      "text/plain": [
       "5    0.386966\n",
       "6    0.573920\n",
       "7    0.310432\n",
       "8    0.726154\n",
       "9    0.485344\n",
       "dtype: float64"
      ]
     },
     "execution_count": 119,
     "metadata": {},
     "output_type": "execute_result"
    }
   ],
   "source": [
    "time_ser.groupby(lambda x:x.week).mean()"
   ]
  },
  {
   "cell_type": "code",
   "execution_count": 120,
   "id": "8586993b-31ed-49f0-b1f2-017c8492e6af",
   "metadata": {},
   "outputs": [],
   "source": [
    "#### 7.5.3 生采样"
   ]
  },
  {
   "cell_type": "code",
   "execution_count": 121,
   "id": "62ee367e-9b5d-4b6d-a372-cfac4024663e",
   "metadata": {},
   "outputs": [
    {
     "data": {
      "text/html": [
       "<div>\n",
       "<style scoped>\n",
       "    .dataframe tbody tr th:only-of-type {\n",
       "        vertical-align: middle;\n",
       "    }\n",
       "\n",
       "    .dataframe tbody tr th {\n",
       "        vertical-align: top;\n",
       "    }\n",
       "\n",
       "    .dataframe thead th {\n",
       "        text-align: right;\n",
       "    }\n",
       "</style>\n",
       "<table border=\"1\" class=\"dataframe\">\n",
       "  <thead>\n",
       "    <tr style=\"text-align: right;\">\n",
       "      <th></th>\n",
       "      <th>A产品</th>\n",
       "      <th>B产品</th>\n",
       "      <th>C产品</th>\n",
       "    </tr>\n",
       "  </thead>\n",
       "  <tbody>\n",
       "    <tr>\n",
       "      <th>2022-06-12</th>\n",
       "      <td>101</td>\n",
       "      <td>210</td>\n",
       "      <td>150</td>\n",
       "    </tr>\n",
       "    <tr>\n",
       "      <th>2022-06-19</th>\n",
       "      <td>330</td>\n",
       "      <td>460</td>\n",
       "      <td>580</td>\n",
       "    </tr>\n",
       "  </tbody>\n",
       "</table>\n",
       "</div>"
      ],
      "text/plain": [
       "            A产品  B产品  C产品\n",
       "2022-06-12  101  210  150\n",
       "2022-06-19  330  460  580"
      ]
     },
     "execution_count": 121,
     "metadata": {},
     "output_type": "execute_result"
    }
   ],
   "source": [
    "data_demo = np.array([['101', '210', '150'], ['330', '460', '580']])\n",
    "date_index = pd.date_range('2022/06/10', periods = 2, freq = 'W-SUN')\n",
    "time_df = pd.DataFrame(data_demo, index = date_index, columns = ['A产品', 'B产品', 'C产品'])\n",
    "time_df"
   ]
  },
  {
   "cell_type": "code",
   "execution_count": 122,
   "id": "3ed6a5a4-841d-4a29-b3e5-c4229be87fb2",
   "metadata": {},
   "outputs": [
    {
     "data": {
      "text/html": [
       "<div>\n",
       "<style scoped>\n",
       "    .dataframe tbody tr th:only-of-type {\n",
       "        vertical-align: middle;\n",
       "    }\n",
       "\n",
       "    .dataframe tbody tr th {\n",
       "        vertical-align: top;\n",
       "    }\n",
       "\n",
       "    .dataframe thead th {\n",
       "        text-align: right;\n",
       "    }\n",
       "</style>\n",
       "<table border=\"1\" class=\"dataframe\">\n",
       "  <thead>\n",
       "    <tr style=\"text-align: right;\">\n",
       "      <th></th>\n",
       "      <th>A产品</th>\n",
       "      <th>B产品</th>\n",
       "      <th>C产品</th>\n",
       "    </tr>\n",
       "  </thead>\n",
       "  <tbody>\n",
       "    <tr>\n",
       "      <th>2022-06-12</th>\n",
       "      <td>101</td>\n",
       "      <td>210</td>\n",
       "      <td>150</td>\n",
       "    </tr>\n",
       "    <tr>\n",
       "      <th>2022-06-13</th>\n",
       "      <td>NaN</td>\n",
       "      <td>NaN</td>\n",
       "      <td>NaN</td>\n",
       "    </tr>\n",
       "    <tr>\n",
       "      <th>2022-06-14</th>\n",
       "      <td>NaN</td>\n",
       "      <td>NaN</td>\n",
       "      <td>NaN</td>\n",
       "    </tr>\n",
       "    <tr>\n",
       "      <th>2022-06-15</th>\n",
       "      <td>NaN</td>\n",
       "      <td>NaN</td>\n",
       "      <td>NaN</td>\n",
       "    </tr>\n",
       "    <tr>\n",
       "      <th>2022-06-16</th>\n",
       "      <td>NaN</td>\n",
       "      <td>NaN</td>\n",
       "      <td>NaN</td>\n",
       "    </tr>\n",
       "    <tr>\n",
       "      <th>2022-06-17</th>\n",
       "      <td>NaN</td>\n",
       "      <td>NaN</td>\n",
       "      <td>NaN</td>\n",
       "    </tr>\n",
       "    <tr>\n",
       "      <th>2022-06-18</th>\n",
       "      <td>NaN</td>\n",
       "      <td>NaN</td>\n",
       "      <td>NaN</td>\n",
       "    </tr>\n",
       "    <tr>\n",
       "      <th>2022-06-19</th>\n",
       "      <td>330</td>\n",
       "      <td>460</td>\n",
       "      <td>580</td>\n",
       "    </tr>\n",
       "  </tbody>\n",
       "</table>\n",
       "</div>"
      ],
      "text/plain": [
       "            A产品  B产品  C产品\n",
       "2022-06-12  101  210  150\n",
       "2022-06-13  NaN  NaN  NaN\n",
       "2022-06-14  NaN  NaN  NaN\n",
       "2022-06-15  NaN  NaN  NaN\n",
       "2022-06-16  NaN  NaN  NaN\n",
       "2022-06-17  NaN  NaN  NaN\n",
       "2022-06-18  NaN  NaN  NaN\n",
       "2022-06-19  330  460  580"
      ]
     },
     "execution_count": 122,
     "metadata": {},
     "output_type": "execute_result"
    }
   ],
   "source": [
    "time_df.resample('D').asfreq()"
   ]
  },
  {
   "cell_type": "code",
   "execution_count": 123,
   "id": "d804ca09-f697-445f-b644-d377d5a91936",
   "metadata": {},
   "outputs": [
    {
     "data": {
      "text/html": [
       "<div>\n",
       "<style scoped>\n",
       "    .dataframe tbody tr th:only-of-type {\n",
       "        vertical-align: middle;\n",
       "    }\n",
       "\n",
       "    .dataframe tbody tr th {\n",
       "        vertical-align: top;\n",
       "    }\n",
       "\n",
       "    .dataframe thead th {\n",
       "        text-align: right;\n",
       "    }\n",
       "</style>\n",
       "<table border=\"1\" class=\"dataframe\">\n",
       "  <thead>\n",
       "    <tr style=\"text-align: right;\">\n",
       "      <th></th>\n",
       "      <th>A产品</th>\n",
       "      <th>B产品</th>\n",
       "      <th>C产品</th>\n",
       "    </tr>\n",
       "  </thead>\n",
       "  <tbody>\n",
       "    <tr>\n",
       "      <th>2022-06-12</th>\n",
       "      <td>101</td>\n",
       "      <td>210</td>\n",
       "      <td>150</td>\n",
       "    </tr>\n",
       "    <tr>\n",
       "      <th>2022-06-13</th>\n",
       "      <td>101</td>\n",
       "      <td>210</td>\n",
       "      <td>150</td>\n",
       "    </tr>\n",
       "    <tr>\n",
       "      <th>2022-06-14</th>\n",
       "      <td>101</td>\n",
       "      <td>210</td>\n",
       "      <td>150</td>\n",
       "    </tr>\n",
       "    <tr>\n",
       "      <th>2022-06-15</th>\n",
       "      <td>101</td>\n",
       "      <td>210</td>\n",
       "      <td>150</td>\n",
       "    </tr>\n",
       "    <tr>\n",
       "      <th>2022-06-16</th>\n",
       "      <td>101</td>\n",
       "      <td>210</td>\n",
       "      <td>150</td>\n",
       "    </tr>\n",
       "    <tr>\n",
       "      <th>2022-06-17</th>\n",
       "      <td>101</td>\n",
       "      <td>210</td>\n",
       "      <td>150</td>\n",
       "    </tr>\n",
       "    <tr>\n",
       "      <th>2022-06-18</th>\n",
       "      <td>101</td>\n",
       "      <td>210</td>\n",
       "      <td>150</td>\n",
       "    </tr>\n",
       "    <tr>\n",
       "      <th>2022-06-19</th>\n",
       "      <td>330</td>\n",
       "      <td>460</td>\n",
       "      <td>580</td>\n",
       "    </tr>\n",
       "  </tbody>\n",
       "</table>\n",
       "</div>"
      ],
      "text/plain": [
       "            A产品  B产品  C产品\n",
       "2022-06-12  101  210  150\n",
       "2022-06-13  101  210  150\n",
       "2022-06-14  101  210  150\n",
       "2022-06-15  101  210  150\n",
       "2022-06-16  101  210  150\n",
       "2022-06-17  101  210  150\n",
       "2022-06-18  101  210  150\n",
       "2022-06-19  330  460  580"
      ]
     },
     "execution_count": 123,
     "metadata": {},
     "output_type": "execute_result"
    }
   ],
   "source": [
    "time_df.resample('D').ffill()"
   ]
  },
  {
   "cell_type": "code",
   "execution_count": 124,
   "id": "6775dc52-2817-4653-9cf6-57e3ef0b8019",
   "metadata": {},
   "outputs": [],
   "source": [
    "#### 7.6 滑动窗口"
   ]
  },
  {
   "cell_type": "code",
   "execution_count": 125,
   "id": "12d23e78-7d07-488f-89c7-cf4a30632a6d",
   "metadata": {},
   "outputs": [
    {
     "data": {
      "text/plain": [
       "2022-01-01    58\n",
       "2022-01-02    90\n",
       "2022-01-03    69\n",
       "2022-01-04    60\n",
       "2022-01-05    95\n",
       "Freq: D, dtype: int32"
      ]
     },
     "execution_count": 125,
     "metadata": {},
     "output_type": "execute_result"
    }
   ],
   "source": [
    "import numpy as np\n",
    "import pandas as pd\n",
    "year_data = np.random.randint(low = 50, high = 100, size = (365,))\n",
    "date_index = pd.date_range('2022-01-01', '2022-12-31', freq = 'D')\n",
    "ser = pd.Series(year_data, date_index)\n",
    "ser.head()"
   ]
  },
  {
   "cell_type": "code",
   "execution_count": 126,
   "id": "7c85e6c2-887f-44bb-a6e7-03b3f4b332ce",
   "metadata": {},
   "outputs": [
    {
     "data": {
      "text/plain": [
       "Rolling [window=10,center=False,axis=0,method=single]"
      ]
     },
     "execution_count": 126,
     "metadata": {},
     "output_type": "execute_result"
    }
   ],
   "source": [
    "roll_window = ser.rolling(window = 10)\n",
    "roll_window"
   ]
  },
  {
   "cell_type": "code",
   "execution_count": 127,
   "id": "e6e3ac53-15de-45d7-be73-a12e0f6ca4a2",
   "metadata": {},
   "outputs": [
    {
     "data": {
      "text/plain": [
       "2022-01-01     NaN\n",
       "2022-01-02     NaN\n",
       "2022-01-03     NaN\n",
       "2022-01-04     NaN\n",
       "2022-01-05     NaN\n",
       "              ... \n",
       "2022-12-27    68.2\n",
       "2022-12-28    71.6\n",
       "2022-12-29    74.2\n",
       "2022-12-30    73.3\n",
       "2022-12-31    72.8\n",
       "Freq: D, Length: 365, dtype: float64"
      ]
     },
     "execution_count": 127,
     "metadata": {},
     "output_type": "execute_result"
    }
   ],
   "source": [
    "roll_window.mean()"
   ]
  },
  {
   "cell_type": "code",
   "execution_count": 129,
   "id": "e14e2d58-498c-40a3-87eb-2945457f0b6b",
   "metadata": {},
   "outputs": [
    {
     "data": {
      "text/plain": [
       "<Axes: >"
      ]
     },
     "execution_count": 129,
     "metadata": {},
     "output_type": "execute_result"
    },
    {
     "data": {
      "image/png": "[encoded data removed]",
      "text/plain": [
       "<Figure size 640x480 with 1 Axes>"
      ]
     },
     "metadata": {},
     "output_type": "display_data"
    }
   ],
   "source": [
    "import matplotlib.pyplot as plt\n",
    "ser.plot(style = 'y--')\n",
    "ser_window = ser.rolling(window = 10).mean()\n",
    "ser_window.plot(style = 'b')"
   ]
  },
  {
   "cell_type": "code",
   "execution_count": null,
   "id": "8c94f1a4-447e-4d08-9819-becb828eda1a",
   "metadata": {},
   "outputs": [],
   "source": []
  }
 ],
 "metadata": {
  "kernelspec": {
   "display_name": "Python [conda env:anaconda3]",
   "language": "python",
   "name": "conda-env-anaconda3-py"
  },
  "language_info": {
   "codemirror_mode": {
    "name": "ipython",
    "version": 3
   },
   "file_extension": ".py",
   "mimetype": "text/x-python",
   "name": "python",
   "nbconvert_exporter": "python",
   "pygments_lexer": "ipython3",
   "version": "3.11.7"
  }
 },
 "nbformat": 4,
 "nbformat_minor": 5
}
