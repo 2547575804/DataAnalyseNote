{
 "cells": [
  {
   "cell_type": "markdown",
   "id": "b60f5d1c",
   "metadata": {},
   "source": [
    "2.2创建数组"
   ]
  },
  {
   "cell_type": "code",
   "execution_count": 447,
   "id": "89208455",
   "metadata": {},
   "outputs": [],
   "source": [
    "import numpy as np"
   ]
  },
  {
   "cell_type": "code",
   "execution_count": 448,
   "id": "5c9bca98",
   "metadata": {},
   "outputs": [
    {
     "data": {
      "text/plain": [
       "array([1, 2, 3])"
      ]
     },
     "execution_count": 448,
     "metadata": {},
     "output_type": "execute_result"
    }
   ],
   "source": [
    "# 一维数组\n",
    "arr1d = np.array([1, 2, 3])\n",
    "arr1d"
   ]
  },
  {
   "cell_type": "code",
   "execution_count": 449,
   "id": "d73c12cb",
   "metadata": {},
   "outputs": [
    {
     "data": {
      "text/plain": [
       "array([[1, 2, 3],\n",
       "       [4, 5, 6]])"
      ]
     },
     "execution_count": 449,
     "metadata": {},
     "output_type": "execute_result"
    }
   ],
   "source": [
    "# 二维数组\n",
    "arr2d = np.array([[1, 2, 3], [4, 5, 6]])\n",
    "arr2d"
   ]
  },
  {
   "cell_type": "code",
   "execution_count": 450,
   "id": "369cfa16",
   "metadata": {},
   "outputs": [
    {
     "data": {
      "text/plain": [
       "array([[[ 1,  2,  3],\n",
       "        [ 4,  5,  6]],\n",
       "\n",
       "       [[ 7,  8,  9],\n",
       "        [10, 11, 12]]])"
      ]
     },
     "execution_count": 450,
     "metadata": {},
     "output_type": "execute_result"
    }
   ],
   "source": [
    "# 三维数组\n",
    "arr3d = np.array([[[1, 2, 3], [4, 5, 6]], [[7, 8, 9], [10, 11, 12]]])\n",
    "arr3d"
   ]
  },
  {
   "cell_type": "code",
   "execution_count": 451,
   "id": "d5d040d1",
   "metadata": {},
   "outputs": [
    {
     "data": {
      "text/plain": [
       "array([[0., 0., 0.],\n",
       "       [0., 0., 0.],\n",
       "       [0., 0., 0.]])"
      ]
     },
     "execution_count": 451,
     "metadata": {},
     "output_type": "execute_result"
    }
   ],
   "source": [
    "# 全为0的数组\n",
    "np.zeros((3, 3))"
   ]
  },
  {
   "cell_type": "code",
   "execution_count": 452,
   "id": "3c4d9090",
   "metadata": {},
   "outputs": [
    {
     "data": {
      "text/plain": [
       "array([[1., 1., 1.],\n",
       "       [1., 1., 1.],\n",
       "       [1., 1., 1.]])"
      ]
     },
     "execution_count": 452,
     "metadata": {},
     "output_type": "execute_result"
    }
   ],
   "source": [
    "# 全为1的数组\n",
    "np.ones((3, 3))"
   ]
  },
  {
   "cell_type": "code",
   "execution_count": 453,
   "id": "ff6c2b64",
   "metadata": {},
   "outputs": [
    {
     "data": {
      "text/plain": [
       "array([[1., 1., 1.],\n",
       "       [1., 1., 1.],\n",
       "       [1., 1., 1.]])"
      ]
     },
     "execution_count": 453,
     "metadata": {},
     "output_type": "execute_result"
    }
   ],
   "source": [
    "# 创建数组，只分配内存空间，填充元素随机\n",
    "np.empty((3, 3))"
   ]
  },
  {
   "cell_type": "code",
   "execution_count": 454,
   "id": "bcebb095",
   "metadata": {},
   "outputs": [
    {
     "data": {
      "text/plain": [
       "array([ 1,  6, 11, 16])"
      ]
     },
     "execution_count": 454,
     "metadata": {},
     "output_type": "execute_result"
    }
   ],
   "source": [
    "# 创建等差数组，结果是一维数组而非列表,左闭右开（start, end, step）\n",
    "np.arange(1, 20, 5)"
   ]
  },
  {
   "cell_type": "code",
   "execution_count": 455,
   "id": "b9ef6174",
   "metadata": {},
   "outputs": [
    {
     "data": {
      "text/plain": [
       "5"
      ]
     },
     "execution_count": 455,
     "metadata": {},
     "output_type": "execute_result"
    }
   ],
   "source": [
    "# 创建等差数组，左闭右闭（start, end, size)\n",
    "e = np.linspace(1, 20, 5)\n",
    "e\n",
    "len(e)"
   ]
  },
  {
   "cell_type": "code",
   "execution_count": 456,
   "id": "48d6f32b",
   "metadata": {},
   "outputs": [
    {
     "data": {
      "text/plain": [
       "array([1., 2., 3.], dtype=float32)"
      ]
     },
     "execution_count": 456,
     "metadata": {},
     "output_type": "execute_result"
    }
   ],
   "source": [
    "# dtype参数显式指明元素的类型\n",
    "np.array([1, 2, 3], dtype = np.float32)"
   ]
  },
  {
   "cell_type": "code",
   "execution_count": 457,
   "id": "a131e844",
   "metadata": {},
   "outputs": [
    {
     "data": {
      "text/plain": [
       "array([[1, 1, 1],\n",
       "       [1, 1, 1],\n",
       "       [1, 1, 1]])"
      ]
     },
     "execution_count": 457,
     "metadata": {},
     "output_type": "execute_result"
    }
   ],
   "source": [
    "np.ones((3, 3), dtype = 'int32')"
   ]
  },
  {
   "cell_type": "markdown",
   "id": "d0baff83",
   "metadata": {},
   "source": [
    "2.3 数组的数据类型"
   ]
  },
  {
   "cell_type": "code",
   "execution_count": 458,
   "id": "dcc19f8e",
   "metadata": {},
   "outputs": [
    {
     "data": {
      "text/plain": [
       "'int32'"
      ]
     },
     "execution_count": 458,
     "metadata": {},
     "output_type": "execute_result"
    }
   ],
   "source": [
    "# 查看数据类型\n",
    "data = np.array([[1, 2, 3], [4, 5, 6]])\n",
    "data.dtype.name"
   ]
  },
  {
   "cell_type": "code",
   "execution_count": 459,
   "id": "71e6639d",
   "metadata": {},
   "outputs": [
    {
     "data": {
      "text/plain": [
       "'float32'"
      ]
     },
     "execution_count": 459,
     "metadata": {},
     "output_type": "execute_result"
    }
   ],
   "source": [
    "# 转换数据类型\n",
    "# 将数据类型int32转换为float32\n",
    "float_data = data.astype(np.float32)\n",
    "float_data.dtype.name"
   ]
  },
  {
   "cell_type": "code",
   "execution_count": 460,
   "id": "8be7ab13",
   "metadata": {},
   "outputs": [
    {
     "data": {
      "text/plain": [
       "array([1.2, 2.9, 3.5])"
      ]
     },
     "execution_count": 460,
     "metadata": {},
     "output_type": "execute_result"
    }
   ],
   "source": [
    "float_data = np.array([1.2, 2.9, 3.5])\n",
    "float_data"
   ]
  },
  {
   "cell_type": "code",
   "execution_count": 461,
   "id": "66f62bc4",
   "metadata": {},
   "outputs": [
    {
     "data": {
      "text/plain": [
       "array([1, 2, 3])"
      ]
     },
     "execution_count": 461,
     "metadata": {},
     "output_type": "execute_result"
    }
   ],
   "source": [
    "# float32转换为int32会丢失精度（只取整数部分，小数部分舍去）\n",
    "int_data = float_data.astype(np.int32)\n",
    "int_data"
   ]
  },
  {
   "cell_type": "code",
   "execution_count": 462,
   "id": "b5c5125b",
   "metadata": {},
   "outputs": [
    {
     "data": {
      "text/plain": [
       "array([1, 2, 3], dtype=int64)"
      ]
     },
     "execution_count": 462,
     "metadata": {},
     "output_type": "execute_result"
    }
   ],
   "source": [
    "# astype将字符串类型转换为整数类型\n",
    "str_data = np.array(['1', '2', '3'])\n",
    "int_data = str_data.astype(np.int64)\n",
    "int_data"
   ]
  },
  {
   "cell_type": "markdown",
   "id": "316f8c9d",
   "metadata": {},
   "source": [
    "2.4 数组的索引和切片"
   ]
  },
  {
   "cell_type": "code",
   "execution_count": 463,
   "id": "6087a512",
   "metadata": {},
   "outputs": [
    {
     "data": {
      "text/plain": [
       "array([[ 1,  6, 11, 16, 21],\n",
       "       [ 2,  7, 12, 17, 22],\n",
       "       [ 3,  8, 13, 18, 23],\n",
       "       [ 4,  9, 14, 19, 24],\n",
       "       [ 5, 10, 15, 20, 25]])"
      ]
     },
     "execution_count": 463,
     "metadata": {},
     "output_type": "execute_result"
    }
   ],
   "source": [
    "# 整数索引和切片\n",
    "arr2d = np.array([[1, 6, 11, 16, 21], [2, 7, 12, 17, 22], [3, 8, 13, 18, 23], [4, 9, 14, 19, 24], [5, 10, 15, 20, 25]])\n",
    "arr2d"
   ]
  },
  {
   "cell_type": "code",
   "execution_count": 464,
   "id": "cd8a5019",
   "metadata": {},
   "outputs": [
    {
     "data": {
      "text/plain": [
       "array([ 3,  8, 13, 18, 23])"
      ]
     },
     "execution_count": 464,
     "metadata": {},
     "output_type": "execute_result"
    }
   ],
   "source": [
    "arr2d[2]"
   ]
  },
  {
   "cell_type": "code",
   "execution_count": 465,
   "id": "5368a72c",
   "metadata": {},
   "outputs": [
    {
     "data": {
      "text/plain": [
       "8"
      ]
     },
     "execution_count": 465,
     "metadata": {},
     "output_type": "execute_result"
    }
   ],
   "source": [
    "arr2d[2, 1]"
   ]
  },
  {
   "cell_type": "code",
   "execution_count": 466,
   "id": "21338aa3",
   "metadata": {},
   "outputs": [
    {
     "data": {
      "text/plain": [
       "array([[ 1,  6, 11, 16, 21],\n",
       "       [ 2,  7, 12, 17, 22]])"
      ]
     },
     "execution_count": 466,
     "metadata": {},
     "output_type": "execute_result"
    }
   ],
   "source": [
    "# 右开\n",
    "arr2d[:2]"
   ]
  },
  {
   "cell_type": "code",
   "execution_count": 467,
   "id": "e3ac0ef3",
   "metadata": {},
   "outputs": [
    {
     "data": {
      "text/plain": [
       "array([[1, 6],\n",
       "       [2, 7]])"
      ]
     },
     "execution_count": 467,
     "metadata": {},
     "output_type": "execute_result"
    }
   ],
   "source": [
    "arr2d[:2, :2]"
   ]
  },
  {
   "cell_type": "code",
   "execution_count": 468,
   "id": "737884e5",
   "metadata": {},
   "outputs": [
    {
     "data": {
      "text/plain": [
       "array([11, 12, 13, 14, 15])"
      ]
     },
     "execution_count": 468,
     "metadata": {},
     "output_type": "execute_result"
    }
   ],
   "source": [
    "arr2d[:, 2]# 列索引为2的整列元素"
   ]
  },
  {
   "cell_type": "code",
   "execution_count": 469,
   "id": "9b26b92e",
   "metadata": {},
   "outputs": [
    {
     "data": {
      "text/plain": [
       "array([10,  6, 16])"
      ]
     },
     "execution_count": 469,
     "metadata": {},
     "output_type": "execute_result"
    }
   ],
   "source": [
    "# 花式索引\n",
    "arr = np.array([10, 6, 5, 11, 18, 16, 9, 0, 3, 20])\n",
    "arr[[0, 1, 5]]"
   ]
  },
  {
   "cell_type": "code",
   "execution_count": 470,
   "id": "6e8b7129",
   "metadata": {},
   "outputs": [
    {
     "data": {
      "text/plain": [
       "array([[ 2,  7, 12, 17, 22],\n",
       "       [ 5, 10, 15, 20, 25]])"
      ]
     },
     "execution_count": 470,
     "metadata": {},
     "output_type": "execute_result"
    }
   ],
   "source": [
    "arr2d\n",
    "arr2d[[1, 4]] # 行索引为1、4的元素"
   ]
  },
  {
   "cell_type": "code",
   "execution_count": 471,
   "id": "dd8ed58c",
   "metadata": {},
   "outputs": [
    {
     "data": {
      "text/plain": [
       "array([12, 20])"
      ]
     },
     "execution_count": 471,
     "metadata": {},
     "output_type": "execute_result"
    }
   ],
   "source": [
    "arr2d[[1, 4], [2, 3]] # 选取第2行第3列，第5行第4列的元素"
   ]
  },
  {
   "cell_type": "code",
   "execution_count": 472,
   "id": "6eba3f34",
   "metadata": {},
   "outputs": [
    {
     "data": {
      "text/plain": [
       "array([[79, 88, 80],\n",
       "       [89, 90, 92],\n",
       "       [83, 78, 85],\n",
       "       [78, 76, 80]])"
      ]
     },
     "execution_count": 472,
     "metadata": {},
     "output_type": "execute_result"
    }
   ],
   "source": [
    "# 布尔索引\n",
    "student_score = np.array([[79, 88, 80], [89, 90, 92], [83, 78, 85], [78, 76, 80]])\n",
    "student_score"
   ]
  },
  {
   "cell_type": "code",
   "execution_count": 473,
   "id": "e1b63d38",
   "metadata": {},
   "outputs": [
    {
     "data": {
      "text/plain": [
       "array([[False,  True, False],\n",
       "       [ True,  True,  True],\n",
       "       [ True, False,  True],\n",
       "       [False, False, False]])"
      ]
     },
     "execution_count": 473,
     "metadata": {},
     "output_type": "execute_result"
    }
   ],
   "source": [
    "student_score > 80"
   ]
  },
  {
   "cell_type": "code",
   "execution_count": 474,
   "id": "76cddcc8",
   "metadata": {},
   "outputs": [
    {
     "data": {
      "text/plain": [
       "array([88, 89, 90, 92, 83, 85])"
      ]
     },
     "execution_count": 474,
     "metadata": {},
     "output_type": "execute_result"
    }
   ],
   "source": [
    "student_score[student_score > 80]"
   ]
  },
  {
   "cell_type": "code",
   "execution_count": 475,
   "id": "5fe6e2e9",
   "metadata": {},
   "outputs": [
    {
     "data": {
      "text/plain": [
       "array([[79, 88],\n",
       "       [83, 78]])"
      ]
     },
     "execution_count": 475,
     "metadata": {},
     "output_type": "execute_result"
    }
   ],
   "source": [
    "# 布尔索引可与切片混合使用\n",
    "student_score[[True, False, True, False], :2] # 第一、三行，前两列"
   ]
  },
  {
   "cell_type": "markdown",
   "id": "3fb22e1b",
   "metadata": {},
   "source": [
    "2.5数组的算数运算"
   ]
  },
  {
   "cell_type": "code",
   "execution_count": 476,
   "id": "8d8be073",
   "metadata": {},
   "outputs": [],
   "source": [
    "# 形状相同的数组间的算术运算\n",
    "arr_1 = np.array([[1, 2, 3, 4], [5, 6, 7, 8], [9, 10, 11, 12]])\n",
    "arr_2 = np.array([[2, 3, 4, 5], [6, 7, 8, 9], [10, 11, 12, 13]])"
   ]
  },
  {
   "cell_type": "code",
   "execution_count": 477,
   "id": "cb2d3a3e",
   "metadata": {},
   "outputs": [
    {
     "data": {
      "text/plain": [
       "array([[ 3,  5,  7,  9],\n",
       "       [11, 13, 15, 17],\n",
       "       [19, 21, 23, 25]])"
      ]
     },
     "execution_count": 477,
     "metadata": {},
     "output_type": "execute_result"
    }
   ],
   "source": [
    "arr_1 + arr_2"
   ]
  },
  {
   "cell_type": "code",
   "execution_count": 478,
   "id": "ba6dd865",
   "metadata": {},
   "outputs": [
    {
     "data": {
      "text/plain": [
       "array([[-1, -1, -1, -1],\n",
       "       [-1, -1, -1, -1],\n",
       "       [-1, -1, -1, -1]])"
      ]
     },
     "execution_count": 478,
     "metadata": {},
     "output_type": "execute_result"
    }
   ],
   "source": [
    "arr_1 - arr_2"
   ]
  },
  {
   "cell_type": "code",
   "execution_count": 479,
   "id": "788d8595",
   "metadata": {},
   "outputs": [
    {
     "data": {
      "text/plain": [
       "array([[  2,   6,  12,  20],\n",
       "       [ 30,  42,  56,  72],\n",
       "       [ 90, 110, 132, 156]])"
      ]
     },
     "execution_count": 479,
     "metadata": {},
     "output_type": "execute_result"
    }
   ],
   "source": [
    "arr_1 * arr_2"
   ]
  },
  {
   "cell_type": "code",
   "execution_count": 480,
   "id": "e792ec2e",
   "metadata": {},
   "outputs": [
    {
     "data": {
      "text/plain": [
       "array([[0.5       , 0.66666667, 0.75      , 0.8       ],\n",
       "       [0.83333333, 0.85714286, 0.875     , 0.88888889],\n",
       "       [0.9       , 0.90909091, 0.91666667, 0.92307692]])"
      ]
     },
     "execution_count": 480,
     "metadata": {},
     "output_type": "execute_result"
    }
   ],
   "source": [
    "arr_1 / arr_2"
   ]
  },
  {
   "cell_type": "code",
   "execution_count": 481,
   "id": "1b973505",
   "metadata": {},
   "outputs": [],
   "source": [
    "# 形状不同的数组间的算数运算\n",
    "# 形状兼容则触发“广播机制”，对参与运算的数组进行拓展（两者中取最大），使拓展后的数组具有相同的形状，使之可以进行算术运算\n",
    "# 形状兼容的条件（任意一个即可）：（1）维度相等（2）有一方维度为1\n",
    "# A:5*4\n",
    "# B:  4\n",
    "# A()B:5*4\n",
    "# C:8*1*6*1\n",
    "# D:  7*1*5\n",
    "# C()D:8*7*6*5"
   ]
  },
  {
   "cell_type": "code",
   "execution_count": 482,
   "id": "c544eb52",
   "metadata": {},
   "outputs": [
    {
     "data": {
      "text/plain": [
       "(3, 1)"
      ]
     },
     "execution_count": 482,
     "metadata": {},
     "output_type": "execute_result"
    }
   ],
   "source": [
    "arr_1 = np.array([[1], [5], [9]])\n",
    "arr_1.shape"
   ]
  },
  {
   "cell_type": "code",
   "execution_count": 483,
   "id": "b8f2f7d9",
   "metadata": {},
   "outputs": [
    {
     "data": {
      "text/plain": [
       "array([[1],\n",
       "       [5],\n",
       "       [9]])"
      ]
     },
     "execution_count": 483,
     "metadata": {},
     "output_type": "execute_result"
    }
   ],
   "source": [
    "arr_1"
   ]
  },
  {
   "cell_type": "code",
   "execution_count": 484,
   "id": "f07e0120",
   "metadata": {},
   "outputs": [
    {
     "data": {
      "text/plain": [
       "(4,)"
      ]
     },
     "execution_count": 484,
     "metadata": {},
     "output_type": "execute_result"
    }
   ],
   "source": [
    "arr_2 = np.array([1, 2, 3, 4])\n",
    "arr_2.shape"
   ]
  },
  {
   "cell_type": "code",
   "execution_count": 485,
   "id": "124e706a",
   "metadata": {},
   "outputs": [
    {
     "data": {
      "text/plain": [
       "array([1, 2, 3, 4])"
      ]
     },
     "execution_count": 485,
     "metadata": {},
     "output_type": "execute_result"
    }
   ],
   "source": [
    "arr_2"
   ]
  },
  {
   "cell_type": "code",
   "execution_count": 486,
   "id": "5b1b22fd",
   "metadata": {},
   "outputs": [
    {
     "data": {
      "text/plain": [
       "(3, 4)"
      ]
     },
     "execution_count": 486,
     "metadata": {},
     "output_type": "execute_result"
    }
   ],
   "source": [
    "arr_res = arr_1 + arr_2\n",
    "arr_res.shape"
   ]
  },
  {
   "cell_type": "code",
   "execution_count": 487,
   "id": "d2822220",
   "metadata": {},
   "outputs": [
    {
     "data": {
      "text/plain": [
       "array([[ 2,  3,  4,  5],\n",
       "       [ 6,  7,  8,  9],\n",
       "       [10, 11, 12, 13]])"
      ]
     },
     "execution_count": 487,
     "metadata": {},
     "output_type": "execute_result"
    }
   ],
   "source": [
    "arr_res"
   ]
  },
  {
   "cell_type": "code",
   "execution_count": 488,
   "id": "95f55e8d",
   "metadata": {},
   "outputs": [],
   "source": [
    "# 数组与标量的算术运算"
   ]
  },
  {
   "cell_type": "code",
   "execution_count": 489,
   "id": "aa48488c",
   "metadata": {},
   "outputs": [],
   "source": [
    "arr_2d = np.array([[1, 2, 3], [4, 5, 6]])\n",
    "data = 10"
   ]
  },
  {
   "cell_type": "code",
   "execution_count": 490,
   "id": "717c1302",
   "metadata": {},
   "outputs": [
    {
     "data": {
      "text/plain": [
       "array([[11, 12, 13],\n",
       "       [14, 15, 16]])"
      ]
     },
     "execution_count": 490,
     "metadata": {},
     "output_type": "execute_result"
    }
   ],
   "source": [
    "arr_2d + data"
   ]
  },
  {
   "cell_type": "code",
   "execution_count": 491,
   "id": "4ae2bc87",
   "metadata": {},
   "outputs": [
    {
     "data": {
      "text/plain": [
       "array([[-9, -8, -7],\n",
       "       [-6, -5, -4]])"
      ]
     },
     "execution_count": 491,
     "metadata": {},
     "output_type": "execute_result"
    }
   ],
   "source": [
    "arr_2d - data"
   ]
  },
  {
   "cell_type": "code",
   "execution_count": 492,
   "id": "92cabb9f",
   "metadata": {},
   "outputs": [
    {
     "data": {
      "text/plain": [
       "array([[10, 20, 30],\n",
       "       [40, 50, 60]])"
      ]
     },
     "execution_count": 492,
     "metadata": {},
     "output_type": "execute_result"
    }
   ],
   "source": [
    "arr_2d * data"
   ]
  },
  {
   "cell_type": "code",
   "execution_count": 493,
   "id": "af7f3416",
   "metadata": {},
   "outputs": [
    {
     "data": {
      "text/plain": [
       "array([[0.1, 0.2, 0.3],\n",
       "       [0.4, 0.5, 0.6]])"
      ]
     },
     "execution_count": 493,
     "metadata": {},
     "output_type": "execute_result"
    }
   ],
   "source": [
    "arr_2d / data"
   ]
  },
  {
   "cell_type": "markdown",
   "id": "d7180dbf",
   "metadata": {},
   "source": [
    "2.6通用函数"
   ]
  },
  {
   "cell_type": "markdown",
   "id": "125081ea",
   "metadata": {},
   "source": [
    "一元通用函数"
   ]
  },
  {
   "cell_type": "code",
   "execution_count": 494,
   "id": "4923d886",
   "metadata": {},
   "outputs": [
    {
     "data": {
      "text/plain": [
       "array([ 1.,  5.,  8., 10.])"
      ]
     },
     "execution_count": 494,
     "metadata": {},
     "output_type": "execute_result"
    }
   ],
   "source": [
    "arr_int = np.array([1, -5, 8, -10])\n",
    "arr_float = np.array([1.3, -5.5, 8.0, -10.7])\n",
    "arr_bool = np.array([np.NAN, np.NAN, 8.0, -10.7])\n",
    "np.fabs(arr_int)"
   ]
  },
  {
   "cell_type": "code",
   "execution_count": 495,
   "id": "d56abbbc",
   "metadata": {},
   "outputs": [
    {
     "data": {
      "text/plain": [
       "array([  1,  25,  64, 100])"
      ]
     },
     "execution_count": 495,
     "metadata": {},
     "output_type": "execute_result"
    }
   ],
   "source": [
    "np.square(arr_int) # 计算数组中各元素的平方"
   ]
  },
  {
   "cell_type": "code",
   "execution_count": 496,
   "id": "cee47175",
   "metadata": {},
   "outputs": [
    {
     "data": {
      "text/plain": [
       "array([  2.,  -5.,   8., -10.])"
      ]
     },
     "execution_count": 496,
     "metadata": {},
     "output_type": "execute_result"
    }
   ],
   "source": [
    "np.ceil(arr_float) # 计算数组中各元素的ceilling值"
   ]
  },
  {
   "cell_type": "code",
   "execution_count": 497,
   "id": "dbaa68d3",
   "metadata": {},
   "outputs": [
    {
     "data": {
      "text/plain": [
       "array([  1.,  -6.,   8., -11.])"
      ]
     },
     "execution_count": 497,
     "metadata": {},
     "output_type": "execute_result"
    }
   ],
   "source": [
    "np.floor(arr_float) # 计算数组中各元素的floor值"
   ]
  },
  {
   "cell_type": "code",
   "execution_count": 498,
   "id": "ff63b643",
   "metadata": {},
   "outputs": [
    {
     "data": {
      "text/plain": [
       "array([  1.,  -6.,   8., -11.])"
      ]
     },
     "execution_count": 498,
     "metadata": {},
     "output_type": "execute_result"
    }
   ],
   "source": [
    "np.rint(arr_float) # 计算数组中各元素四舍五入的值"
   ]
  },
  {
   "cell_type": "code",
   "execution_count": 499,
   "id": "dde79428",
   "metadata": {},
   "outputs": [
    {
     "data": {
      "text/plain": [
       "(array([ 0.3, -0.5,  0. , -0.7]), array([  1.,  -5.,   8., -10.]))"
      ]
     },
     "execution_count": 499,
     "metadata": {},
     "output_type": "execute_result"
    }
   ],
   "source": [
    "np.modf(arr_float) # 计算数组中各元素的小数部分和整数部分"
   ]
  },
  {
   "cell_type": "code",
   "execution_count": 500,
   "id": "48867f18",
   "metadata": {},
   "outputs": [
    {
     "data": {
      "text/plain": [
       "array([ True,  True, False, False])"
      ]
     },
     "execution_count": 500,
     "metadata": {},
     "output_type": "execute_result"
    }
   ],
   "source": [
    "np.isnan(arr_bool) # 判断数组中各元素的值是否为NaN"
   ]
  },
  {
   "cell_type": "markdown",
   "id": "c520a2ea",
   "metadata": {},
   "source": [
    "二元通用函数"
   ]
  },
  {
   "cell_type": "code",
   "execution_count": 501,
   "id": "19d60f07",
   "metadata": {},
   "outputs": [],
   "source": [
    "arr_one = np.array([1, 5, 10, 4])\n",
    "arr_two = np.array([6, 2, 8, 9])"
   ]
  },
  {
   "cell_type": "code",
   "execution_count": 502,
   "id": "22ce8e6f",
   "metadata": {},
   "outputs": [
    {
     "data": {
      "text/plain": [
       "array([ 7,  7, 18, 13])"
      ]
     },
     "execution_count": 502,
     "metadata": {},
     "output_type": "execute_result"
    }
   ],
   "source": [
    "np.add(arr_one, arr_two) # 各元素相加"
   ]
  },
  {
   "cell_type": "code",
   "execution_count": 503,
   "id": "1405bdf6",
   "metadata": {},
   "outputs": [
    {
     "data": {
      "text/plain": [
       "array([ 6,  5, 10,  9])"
      ]
     },
     "execution_count": 503,
     "metadata": {},
     "output_type": "execute_result"
    }
   ],
   "source": [
    "np.maximum(arr_one, arr_two) # 各元素的最大值"
   ]
  },
  {
   "cell_type": "code",
   "execution_count": 504,
   "id": "b3b04f0e",
   "metadata": {},
   "outputs": [
    {
     "data": {
      "text/plain": [
       "array([1, 1, 2, 4])"
      ]
     },
     "execution_count": 504,
     "metadata": {},
     "output_type": "execute_result"
    }
   ],
   "source": [
    "np.mod(arr_one, arr_two) # 各元素求模"
   ]
  },
  {
   "cell_type": "code",
   "execution_count": 505,
   "id": "0edb9ddb",
   "metadata": {},
   "outputs": [
    {
     "data": {
      "text/plain": [
       "array([ True, False, False,  True])"
      ]
     },
     "execution_count": 505,
     "metadata": {},
     "output_type": "execute_result"
    }
   ],
   "source": [
    "np.less_equal(arr_one, arr_two) # 比较数组arr_one是否小于或等于arr_two。arr_one <= arr_two ?"
   ]
  },
  {
   "cell_type": "markdown",
   "id": "e4ecd70a",
   "metadata": {},
   "source": [
    "2.7数组的重塑与转置"
   ]
  },
  {
   "cell_type": "markdown",
   "id": "d5f6dc53",
   "metadata": {},
   "source": [
    "数组的重塑"
   ]
  },
  {
   "cell_type": "code",
   "execution_count": 506,
   "id": "6c84cc72",
   "metadata": {},
   "outputs": [
    {
     "name": "stdout",
     "output_type": "stream",
     "text": [
      "原数组的形状：(12,)\n",
      "[ 1  2  3  4  5  6  7  8  9 10 11 12]\n"
     ]
    }
   ],
   "source": [
    "array_1d = np.arange(1, 13)\n",
    "print('原数组的形状：' + str(array_1d.shape))\n",
    "print(array_1d)"
   ]
  },
  {
   "cell_type": "code",
   "execution_count": 507,
   "id": "a893e7de",
   "metadata": {},
   "outputs": [
    {
     "name": "stdout",
     "output_type": "stream",
     "text": [
      "新数组的形状：(6, 2)\n",
      "[[ 1  2]\n",
      " [ 3  4]\n",
      " [ 5  6]\n",
      " [ 7  8]\n",
      " [ 9 10]\n",
      " [11 12]]\n"
     ]
    }
   ],
   "source": [
    "array_2d = array_1d.reshape((6, 2))\n",
    "print('新数组的形状：' + str(array_2d.shape))\n",
    "print(array_2d)"
   ]
  },
  {
   "cell_type": "code",
   "execution_count": 508,
   "id": "7831a707",
   "metadata": {},
   "outputs": [
    {
     "name": "stdout",
     "output_type": "stream",
     "text": [
      "新数组的形状：(3, 4)\n",
      "[[ 1  2  3  4]\n",
      " [ 5  6  7  8]\n",
      " [ 9 10 11 12]]\n"
     ]
    }
   ],
   "source": [
    "new_array_2d = array_2d.reshape((3, 4))\n",
    "print('新数组的形状：' + str(new_array_2d.shape))\n",
    "print(new_array_2d)"
   ]
  },
  {
   "cell_type": "markdown",
   "id": "e9740233",
   "metadata": {},
   "source": [
    "数组的转置"
   ]
  },
  {
   "cell_type": "code",
   "execution_count": 509,
   "id": "85d6d9e1",
   "metadata": {},
   "outputs": [
    {
     "data": {
      "text/plain": [
       "array([[ 0,  1,  2,  3],\n",
       "       [ 4,  5,  6,  7],\n",
       "       [ 8,  9, 10, 11]])"
      ]
     },
     "execution_count": 509,
     "metadata": {},
     "output_type": "execute_result"
    }
   ],
   "source": [
    "arr = np.arange(12).reshape(3, 4)\n",
    "arr"
   ]
  },
  {
   "cell_type": "code",
   "execution_count": 510,
   "id": "47ba2b1f",
   "metadata": {},
   "outputs": [
    {
     "data": {
      "text/plain": [
       "(3, 4)"
      ]
     },
     "execution_count": 510,
     "metadata": {},
     "output_type": "execute_result"
    }
   ],
   "source": [
    "arr.shape"
   ]
  },
  {
   "cell_type": "code",
   "execution_count": 511,
   "id": "d8212ab4",
   "metadata": {},
   "outputs": [
    {
     "data": {
      "text/plain": [
       "array([[ 0,  4,  8],\n",
       "       [ 1,  5,  9],\n",
       "       [ 2,  6, 10],\n",
       "       [ 3,  7, 11]])"
      ]
     },
     "execution_count": 511,
     "metadata": {},
     "output_type": "execute_result"
    }
   ],
   "source": [
    "arr.T # 使用T属性对数组进行转置"
   ]
  },
  {
   "cell_type": "code",
   "execution_count": 512,
   "id": "1aba35fa",
   "metadata": {},
   "outputs": [
    {
     "data": {
      "text/plain": [
       "array([[[ 0,  1,  2,  3],\n",
       "        [ 4,  5,  6,  7],\n",
       "        [ 8,  9, 10, 11]],\n",
       "\n",
       "       [[12, 13, 14, 15],\n",
       "        [16, 17, 18, 19],\n",
       "        [20, 21, 22, 23]]])"
      ]
     },
     "execution_count": 512,
     "metadata": {},
     "output_type": "execute_result"
    }
   ],
   "source": [
    "arr = np.arange(24).reshape((2, 3, 4))\n",
    "arr"
   ]
  },
  {
   "cell_type": "code",
   "execution_count": 513,
   "id": "2abf3958",
   "metadata": {},
   "outputs": [
    {
     "data": {
      "text/plain": [
       "array([[[ 0,  1,  2,  3],\n",
       "        [ 4,  5,  6,  7],\n",
       "        [ 8,  9, 10, 11]],\n",
       "\n",
       "       [[12, 13, 14, 15],\n",
       "        [16, 17, 18, 19],\n",
       "        [20, 21, 22, 23]]])"
      ]
     },
     "execution_count": 513,
     "metadata": {},
     "output_type": "execute_result"
    }
   ],
   "source": [
    "# 使用transpose()方法对数组进行转置，并传入轴编号的元组(轴编号中的元素的顺序默认是0、1、2)\n",
    "arr.transpose((0, 1, 2))"
   ]
  },
  {
   "cell_type": "code",
   "execution_count": 514,
   "id": "f2c04c28",
   "metadata": {},
   "outputs": [
    {
     "data": {
      "text/plain": [
       "array([[[ 0,  1,  2,  3],\n",
       "        [12, 13, 14, 15]],\n",
       "\n",
       "       [[ 4,  5,  6,  7],\n",
       "        [16, 17, 18, 19]],\n",
       "\n",
       "       [[ 8,  9, 10, 11],\n",
       "        [20, 21, 22, 23]]])"
      ]
     },
     "execution_count": 514,
     "metadata": {},
     "output_type": "execute_result"
    }
   ],
   "source": [
    "new_arr = arr.transpose((1, 0, 2))\n",
    "new_arr"
   ]
  },
  {
   "cell_type": "code",
   "execution_count": 515,
   "id": "0d109116",
   "metadata": {},
   "outputs": [
    {
     "data": {
      "text/plain": [
       "(3, 2, 4)"
      ]
     },
     "execution_count": 515,
     "metadata": {},
     "output_type": "execute_result"
    }
   ],
   "source": [
    "new_arr.shape"
   ]
  },
  {
   "cell_type": "code",
   "execution_count": 516,
   "id": "5c4401f2",
   "metadata": {},
   "outputs": [
    {
     "data": {
      "text/plain": [
       "array([[[ 0,  4,  8],\n",
       "        [ 1,  5,  9],\n",
       "        [ 2,  6, 10],\n",
       "        [ 3,  7, 11]],\n",
       "\n",
       "       [[12, 16, 20],\n",
       "        [13, 17, 21],\n",
       "        [14, 18, 22],\n",
       "        [15, 19, 23]]])"
      ]
     },
     "execution_count": 516,
     "metadata": {},
     "output_type": "execute_result"
    }
   ],
   "source": [
    "new_arr = arr.transpose((0, 2, 1))\n",
    "new_arr"
   ]
  },
  {
   "cell_type": "code",
   "execution_count": 517,
   "id": "4401cf98",
   "metadata": {},
   "outputs": [
    {
     "data": {
      "text/plain": [
       "(2, 4, 3)"
      ]
     },
     "execution_count": 517,
     "metadata": {},
     "output_type": "execute_result"
    }
   ],
   "source": [
    "new_arr.shape"
   ]
  },
  {
   "cell_type": "markdown",
   "id": "f75c7c99",
   "metadata": {},
   "source": [
    "2.8数组的其他操作"
   ]
  },
  {
   "cell_type": "markdown",
   "id": "6c08d6c4",
   "metadata": {},
   "source": [
    "条件逻辑"
   ]
  },
  {
   "cell_type": "code",
   "execution_count": 518,
   "id": "7bab5c01",
   "metadata": {},
   "outputs": [],
   "source": [
    "arr_x = np.array([1, 5, 7])\n",
    "arr_y = np.array([2, 6, 8])\n",
    "arr_con = np.array([True, False, True])"
   ]
  },
  {
   "cell_type": "code",
   "execution_count": 519,
   "id": "ccbb3ab0",
   "metadata": {},
   "outputs": [
    {
     "data": {
      "text/plain": [
       "array([1, 6, 7])"
      ]
     },
     "execution_count": 519,
     "metadata": {},
     "output_type": "execute_result"
    }
   ],
   "source": [
    "result = np.where(arr_con, arr_x, arr_y) # 以con为标准，使用x的元素，如果为False则用y的元素\n",
    "result"
   ]
  },
  {
   "cell_type": "markdown",
   "id": "aba45f6e",
   "metadata": {},
   "source": [
    "统计运算"
   ]
  },
  {
   "cell_type": "code",
   "execution_count": 520,
   "id": "9714fa52",
   "metadata": {},
   "outputs": [],
   "source": [
    "arr = np.arange(10)"
   ]
  },
  {
   "cell_type": "code",
   "execution_count": 521,
   "id": "7bb1efc4",
   "metadata": {},
   "outputs": [
    {
     "data": {
      "text/plain": [
       "45"
      ]
     },
     "execution_count": 521,
     "metadata": {},
     "output_type": "execute_result"
    }
   ],
   "source": [
    "arr.sum()"
   ]
  },
  {
   "cell_type": "code",
   "execution_count": 522,
   "id": "a5468f7e",
   "metadata": {},
   "outputs": [
    {
     "data": {
      "text/plain": [
       "4.5"
      ]
     },
     "execution_count": 522,
     "metadata": {},
     "output_type": "execute_result"
    }
   ],
   "source": [
    "arr.mean()"
   ]
  },
  {
   "cell_type": "code",
   "execution_count": 523,
   "id": "d92a8236",
   "metadata": {},
   "outputs": [
    {
     "data": {
      "text/plain": [
       "0"
      ]
     },
     "execution_count": 523,
     "metadata": {},
     "output_type": "execute_result"
    }
   ],
   "source": [
    "arr.min()"
   ]
  },
  {
   "cell_type": "code",
   "execution_count": 524,
   "id": "c40a363f",
   "metadata": {},
   "outputs": [
    {
     "data": {
      "text/plain": [
       "9"
      ]
     },
     "execution_count": 524,
     "metadata": {},
     "output_type": "execute_result"
    }
   ],
   "source": [
    "arr.max()"
   ]
  },
  {
   "cell_type": "code",
   "execution_count": 525,
   "id": "f767b72b",
   "metadata": {},
   "outputs": [
    {
     "data": {
      "text/plain": [
       "0"
      ]
     },
     "execution_count": 525,
     "metadata": {},
     "output_type": "execute_result"
    }
   ],
   "source": [
    "arr.argmin() # 最小值的索引"
   ]
  },
  {
   "cell_type": "code",
   "execution_count": 526,
   "id": "e30beff9",
   "metadata": {},
   "outputs": [
    {
     "data": {
      "text/plain": [
       "9"
      ]
     },
     "execution_count": 526,
     "metadata": {},
     "output_type": "execute_result"
    }
   ],
   "source": [
    "arr.argmax() # 最大值的索引"
   ]
  },
  {
   "cell_type": "code",
   "execution_count": 527,
   "id": "688e37c4",
   "metadata": {},
   "outputs": [
    {
     "data": {
      "text/plain": [
       "array([ 0,  1,  3,  6, 10, 15, 21, 28, 36, 45])"
      ]
     },
     "execution_count": 527,
     "metadata": {},
     "output_type": "execute_result"
    }
   ],
   "source": [
    "arr.cumsum() # 计算元素的累加和"
   ]
  },
  {
   "cell_type": "code",
   "execution_count": 528,
   "id": "77c034c0",
   "metadata": {},
   "outputs": [
    {
     "data": {
      "text/plain": [
       "array([0, 0, 0, 0, 0, 0, 0, 0, 0, 0])"
      ]
     },
     "execution_count": 528,
     "metadata": {},
     "output_type": "execute_result"
    }
   ],
   "source": [
    "arr.cumprod() # 计算元素的累乘积"
   ]
  },
  {
   "cell_type": "markdown",
   "id": "218d82d8",
   "metadata": {},
   "source": [
    "数组元素排序"
   ]
  },
  {
   "cell_type": "code",
   "execution_count": 529,
   "id": "f42a4061",
   "metadata": {},
   "outputs": [
    {
     "data": {
      "text/plain": [
       "array([[6, 2, 7],\n",
       "       [3, 6, 2],\n",
       "       [3, 6, 2],\n",
       "       [4, 3, 2]])"
      ]
     },
     "execution_count": 529,
     "metadata": {},
     "output_type": "execute_result"
    }
   ],
   "source": [
    "arr = np.array([[6, 2, 7], [3, 6, 2], [3, 6, 2], [4, 3, 2]])\n",
    "arr"
   ]
  },
  {
   "cell_type": "code",
   "execution_count": 530,
   "id": "f455f51d",
   "metadata": {},
   "outputs": [
    {
     "data": {
      "text/plain": [
       "array([[2, 6, 7],\n",
       "       [2, 3, 6],\n",
       "       [2, 3, 6],\n",
       "       [2, 3, 4]])"
      ]
     },
     "execution_count": 530,
     "metadata": {},
     "output_type": "execute_result"
    }
   ],
   "source": [
    "arr.sort() # 注意：sort()方法会修改数组本身\n",
    "arr"
   ]
  },
  {
   "cell_type": "code",
   "execution_count": 531,
   "id": "9a5a5424",
   "metadata": {},
   "outputs": [
    {
     "data": {
      "text/plain": [
       "array([[3, 2, 2],\n",
       "       [3, 3, 2],\n",
       "       [4, 6, 2],\n",
       "       [6, 6, 7]])"
      ]
     },
     "execution_count": 531,
     "metadata": {},
     "output_type": "execute_result"
    }
   ],
   "source": [
    "arr = np.array([[6, 2, 7], [3, 6, 2], [3, 6, 2], [4, 3, 2]])\n",
    "arr.sort(0) # 沿着编号为0的轴对元素排序\n",
    "arr"
   ]
  },
  {
   "cell_type": "markdown",
   "id": "11d9d413",
   "metadata": {},
   "source": [
    "检索数组元素是否满足条件"
   ]
  },
  {
   "cell_type": "code",
   "execution_count": 532,
   "id": "3090f8b3",
   "metadata": {},
   "outputs": [
    {
     "data": {
      "text/plain": [
       "array([[ 1, -2, -7],\n",
       "       [-3,  6,  2],\n",
       "       [-4,  3,  2]])"
      ]
     },
     "execution_count": 532,
     "metadata": {},
     "output_type": "execute_result"
    }
   ],
   "source": [
    "arr = np.array([[1, -2, -7], [-3, 6, 2], [-4, 3, 2]])\n",
    "arr"
   ]
  },
  {
   "cell_type": "code",
   "execution_count": 533,
   "id": "5ef236ec",
   "metadata": {},
   "outputs": [
    {
     "data": {
      "text/plain": [
       "True"
      ]
     },
     "execution_count": 533,
     "metadata": {},
     "output_type": "execute_result"
    }
   ],
   "source": [
    "# any()函数用于判断整个数组中的元素至少有一个满足条件\n",
    "np.any(arr > 0)"
   ]
  },
  {
   "cell_type": "code",
   "execution_count": 534,
   "id": "88b906d8",
   "metadata": {},
   "outputs": [
    {
     "data": {
      "text/plain": [
       "False"
      ]
     },
     "execution_count": 534,
     "metadata": {},
     "output_type": "execute_result"
    }
   ],
   "source": [
    "# all()函数用于判断整个数组中的元素的值是否全部满足条件\n",
    "np.all(arr > 0)"
   ]
  },
  {
   "cell_type": "markdown",
   "id": "394376dc",
   "metadata": {},
   "source": [
    "查找数组的唯一元素"
   ]
  },
  {
   "cell_type": "code",
   "execution_count": 535,
   "id": "7dea427d",
   "metadata": {},
   "outputs": [
    {
     "data": {
      "text/plain": [
       "array([ 8, 11, 12, 23, 34])"
      ]
     },
     "execution_count": 535,
     "metadata": {},
     "output_type": "execute_result"
    }
   ],
   "source": [
    "# unique()函数用于找出数组中的唯一元素，并返回一个升序排列的数组\n",
    "arr = np.array([12, 11, 34, 23, 12, 8, 11])\n",
    "np.unique(arr)"
   ]
  },
  {
   "cell_type": "markdown",
   "id": "7fb06bf2",
   "metadata": {},
   "source": [
    "判断元素是否在其他数组中"
   ]
  },
  {
   "cell_type": "code",
   "execution_count": null,
   "id": "2a63489a",
   "metadata": {},
   "outputs": [],
   "source": [
    "# in1d(ar1, ar2, assume_unique = False, invert = False)(1为数字1)\n",
    "# ar1为待判断的数组，ar2为判断ar1的每个元素所依据的值，assume_unique为是否假设数组ar1的唯一性，默认值为False，invert为是否倒转数组的元素，默认值为False"
   ]
  },
  {
   "cell_type": "code",
   "execution_count": 536,
   "id": "6bfb7d2a",
   "metadata": {},
   "outputs": [
    {
     "data": {
      "text/plain": [
       "array([ True,  True, False, False,  True, False,  True])"
      ]
     },
     "execution_count": 536,
     "metadata": {},
     "output_type": "execute_result"
    }
   ],
   "source": [
    "arr = np.array([12, 11, 34, 23, 12, 8, 11])\n",
    "arr2 = np.array([11,12])\n",
    "np.in1d(arr, arr2)"
   ]
  },
  {
   "cell_type": "markdown",
   "id": "00da02ec",
   "metadata": {},
   "source": [
    "线性代数模块"
   ]
  },
  {
   "cell_type": "code",
   "execution_count": 537,
   "id": "afc335b3",
   "metadata": {},
   "outputs": [
    {
     "data": {
      "text/plain": [
       "array([[22, 28],\n",
       "       [49, 64]])"
      ]
     },
     "execution_count": 537,
     "metadata": {},
     "output_type": "execute_result"
    }
   ],
   "source": [
    "# dot()方法用于矩阵乘法\n",
    "arr_x = np.array([[1, 2, 3], [4, 5, 6]])\n",
    "arr_y = np.array([[1, 2], [3, 4], [5, 6]])\n",
    "arr_x.dot(arr_y) # 等价于np.dot(arr_x, arr_y)"
   ]
  },
  {
   "cell_type": "markdown",
   "id": "0e570a6b",
   "metadata": {},
   "source": [
    "随机数模块"
   ]
  },
  {
   "cell_type": "code",
   "execution_count": 538,
   "id": "6fc19bbe",
   "metadata": {},
   "outputs": [
    {
     "data": {
      "text/plain": [
       "array([[0.5058033 , 0.19177702, 0.84531867],\n",
       "       [0.12036092, 0.54849411, 0.8472009 ],\n",
       "       [0.90426935, 0.67374857, 0.32727166]])"
      ]
     },
     "execution_count": 538,
     "metadata": {},
     "output_type": "execute_result"
    }
   ],
   "source": [
    "np.random.rand(3, 3)"
   ]
  },
  {
   "cell_type": "code",
   "execution_count": 539,
   "id": "620c303b",
   "metadata": {},
   "outputs": [
    {
     "data": {
      "text/plain": [
       "array([[[0.19099385, 0.99340694, 0.66119277],\n",
       "        [0.33209755, 0.70200926, 0.4003347 ],\n",
       "        [0.46125229, 0.90856532, 0.4710711 ]],\n",
       "\n",
       "       [[0.28207137, 0.99704661, 0.03036109],\n",
       "        [0.30756431, 0.80797275, 0.24619539],\n",
       "        [0.08680568, 0.5157594 , 0.66252576]]])"
      ]
     },
     "execution_count": 539,
     "metadata": {},
     "output_type": "execute_result"
    }
   ],
   "source": [
    "np.random.rand(2, 3, 3)"
   ]
  },
  {
   "cell_type": "code",
   "execution_count": 540,
   "id": "4bf6fbfd",
   "metadata": {},
   "outputs": [
    {
     "data": {
      "text/plain": [
       "array([0.5488135 , 0.71518937, 0.60276338, 0.54488318, 0.4236548 ])"
      ]
     },
     "execution_count": 540,
     "metadata": {},
     "output_type": "execute_result"
    }
   ],
   "source": [
    "# seed()作用和rand()相同\n",
    "np.random.seed(0)\n",
    "np.random.rand(5)"
   ]
  },
  {
   "cell_type": "code",
   "execution_count": 541,
   "id": "c9b102f8",
   "metadata": {},
   "outputs": [
    {
     "data": {
      "text/plain": [
       "array([0.5488135 , 0.71518937, 0.60276338, 0.54488318, 0.4236548 ])"
      ]
     },
     "execution_count": 541,
     "metadata": {},
     "output_type": "execute_result"
    }
   ],
   "source": [
    "np.random.seed(0)\n",
    "np.random.rand(5)"
   ]
  },
  {
   "cell_type": "markdown",
   "id": "544b69fa",
   "metadata": {},
   "source": [
    "2.11案例：计算股票收益率和波动率"
   ]
  },
  {
   "cell_type": "code",
   "execution_count": 1,
   "id": "9a9916e0",
   "metadata": {},
   "outputs": [
    {
     "data": {
      "text/plain": [
       "array([336.1 , 339.32, 345.03, 344.32, 343.44, 346.5 , 351.88, 355.2 ,\n",
       "       358.16, 354.54, 356.85, 359.18, 359.9 , 363.13, 358.3 , 350.56,\n",
       "       338.61, 342.62, 342.88, 348.16, 353.21, 349.31, 352.12, 359.56,\n",
       "       360.  , 355.36, 355.76, 352.47, 346.67, 351.99])"
      ]
     },
     "execution_count": 1,
     "metadata": {},
     "output_type": "execute_result"
    }
   ],
   "source": [
    "from numpy import *\n",
    "# 准备股票数据\n",
    "closing_price = [336.1, 339.32, 345.03, 344.32, 343.44, 346.5, 351.88, 355.2, 358.16, 354.54, 356.85, 359.18, 359.9, 363.13, 358.3, 350.56, 338.61, 342.62, 342.88, 348.16, 353.21, 349.31, 352.12, 359.56, 360.00, 355.36, 355.76, 352.47, 346.67, 351.99]\n",
    "closing_price_arr = array(closing_price)\n",
    "closing_price_arr"
   ]
  },
  {
   "cell_type": "code",
   "execution_count": 2,
   "id": "ffc1280d",
   "metadata": {},
   "outputs": [
    {
     "data": {
      "text/plain": [
       "array([0.00958048, 0.01682777, 0.00890985, 0.0155267 , 0.00943503,\n",
       "       0.00833333, 0.00651548, 0.00652935, 0.00200457, 0.00897472,\n",
       "       0.01184253, 0.00075886, 0.01539897, 0.01450483, 0.00804443,\n",
       "       0.02112916, 0.00122372, 0.00112562, 0.01534601])"
      ]
     },
     "execution_count": 2,
     "metadata": {},
     "output_type": "execute_result"
    }
   ],
   "source": [
    "# 计算简单收益率\n",
    "returns = diff(closing_price_arr) / closing_price_arr[:-1]\n",
    "# 查看正的收益率\n",
    "returns[where(returns > 0)]"
   ]
  },
  {
   "cell_type": "code",
   "execution_count": 3,
   "id": "985325a0",
   "metadata": {},
   "outputs": [
    {
     "data": {
      "text/plain": [
       "array([0.00953488, 0.01668775, 0.00887039, 0.01540739, 0.0093908 ,\n",
       "       0.0082988 , 0.00649435, 0.00650813, 0.00200256, 0.00893468,\n",
       "       0.01177296, 0.00075857, 0.01528161, 0.01440064, 0.00801225,\n",
       "       0.02090904, 0.00122297, 0.00112499, 0.01522945])"
      ]
     },
     "execution_count": 3,
     "metadata": {},
     "output_type": "execute_result"
    }
   ],
   "source": [
    "# 计算对数收益率\n",
    "log_returns = diff(log(closing_price_arr))\n",
    "# 查看正的收益率\n",
    "log_returns[where(log_returns > 0)]"
   ]
  },
  {
   "cell_type": "code",
   "execution_count": 4,
   "id": "554381fb",
   "metadata": {},
   "outputs": [
    {
     "name": "stdout",
     "output_type": "stream",
     "text": [
      "年波动率： 129.2747899111513\n"
     ]
    }
   ],
   "source": [
    "# 计算年波动率\n",
    "annual_volatility = std(log_returns / mean(log_returns) / sqrt(1/252))\n",
    "print('年波动率：',annual_volatility)"
   ]
  },
  {
   "cell_type": "code",
   "execution_count": 5,
   "id": "6ee05b29",
   "metadata": {},
   "outputs": [
    {
     "name": "stdout",
     "output_type": "stream",
     "text": [
      "月波动率： 37.31841737731776\n"
     ]
    }
   ],
   "source": [
    "# 计算月波动率\n",
    "monthly_volatility = annual_volatility * sqrt(1/12)\n",
    "print('月波动率：',monthly_volatility)"
   ]
  },
  {
   "cell_type": "code",
   "execution_count": null,
   "id": "6cc7435b",
   "metadata": {},
   "outputs": [],
   "source": []
  }
 ],
 "metadata": {
  "kernelspec": {
   "display_name": "Python 3 (ipykernel)",
   "language": "python",
   "name": "python3"
  },
  "language_info": {
   "codemirror_mode": {
    "name": "ipython",
    "version": 3
   },
   "file_extension": ".py",
   "mimetype": "text/x-python",
   "name": "python",
   "nbconvert_exporter": "python",
   "pygments_lexer": "ipython3",
   "version": "3.11.5"
  }
 },
 "nbformat": 4,
 "nbformat_minor": 5
}
